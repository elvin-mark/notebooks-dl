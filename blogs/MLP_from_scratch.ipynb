{
 "cells": [
  {
   "cell_type": "code",
   "execution_count": 194,
   "id": "ac1d7cba-d3b8-4469-aab0-f42f488b8bed",
   "metadata": {},
   "outputs": [],
   "source": [
    "import numpy as np\n",
    "from sklearn.datasets import load_iris\n",
    "from sklearn.model_selection import train_test_split\n",
    "import matplotlib.pyplot as plt"
   ]
  },
  {
   "cell_type": "code",
   "execution_count": 195,
   "id": "d5067faf-3801-4bf6-9963-7153c0ea03c4",
   "metadata": {},
   "outputs": [],
   "source": [
    "# model parameters\n",
    "def init_parameters(input_size, hidden_neurons, num_classes):\n",
    "    # layer 1 parameters\n",
    "    W1 = np.random.rand(input_size,hidden_neurons)\n",
    "    b1 = np.random.rand(hidden_neurons)\n",
    "\n",
    "    # layer 2 parameters\n",
    "    W2 = np.random.rand(hidden_neurons,num_classes)\n",
    "    b2 = np.random.rand(num_classes)\n",
    "    return W1, b1, W2, b2\n",
    "\n",
    "# activation function\n",
    "def sigmoid(x):\n",
    "    return 1 / (np.exp(-x) + 1)\n",
    "\n",
    "# model forward\n",
    "def forward(inp):\n",
    "    o0 = inp\n",
    "    o1 = o0 @ W1 + b1\n",
    "    o2 = sigmoid(o1)\n",
    "    o3 = o2 @ W2 + b2\n",
    "    return o0, o1, o2, o3\n",
    "\n",
    "# model backward\n",
    "def backward(dl_do3):\n",
    "    do3_do2 = W2.T\n",
    "    do3_dW2 = o2\n",
    "    do3_db2 = 1\n",
    "    \n",
    "    do2_do1 = o2 * (1 - o2)\n",
    "    \n",
    "    do1_dW1 = o0\n",
    "    do1_db1 = 1\n",
    "    \n",
    "    dl_do2 = dl_do3 @ do3_do2\n",
    "    dl_dW2 = (dl_do3.T @ do3_dW2).T\n",
    "    dl_db2 = np.sum(dl_do3 * do3_db2,axis=0)\n",
    "    \n",
    "    dl_do1 = dl_do2 * do2_do1\n",
    "    \n",
    "    dl_dW1 = (dl_do1.T @ do1_dW1).T\n",
    "    dl_db1 = np.sum(dl_do1 * do1_db1,axis=0)\n",
    "    \n",
    "    return dl_dW1, dl_db1, dl_dW2, dl_db2"
   ]
  },
  {
   "cell_type": "code",
   "execution_count": 196,
   "id": "9323cc70-6845-4297-80ae-c875225a8810",
   "metadata": {},
   "outputs": [],
   "source": [
    "# Loading data \n",
    "raw_data = load_iris()\n",
    "x, y = raw_data.data, raw_data.target\n",
    "\n",
    "# Splitting data in train and test dataset\n",
    "train_x, test_x, train_y, test_y = train_test_split(x,y,train_size=0.8)"
   ]
  },
  {
   "cell_type": "code",
   "execution_count": 197,
   "id": "6f91c814-c5c3-4548-9c4d-346cc512d031",
   "metadata": {},
   "outputs": [],
   "source": [
    "# Loss function: Softmax + Cross Entropy\n",
    "def loss_fn(out, target):\n",
    "    e_out = np.exp(out)\n",
    "    softmax = e_out / np.sum(e_out,axis=1).reshape(-1,1)\n",
    "    log_softmax = np.log(softmax)\n",
    "    \n",
    "    loss = -np.sum(log_softmax[np.arange(len(target)),target])\n",
    "    mask = np.zeros_like(softmax)\n",
    "    mask[np.arange(len(target)),target] = 1\n",
    "    \n",
    "    grad_loss = softmax - mask\n",
    "    return loss, grad_loss"
   ]
  },
  {
   "cell_type": "code",
   "execution_count": 198,
   "id": "5585e85d-ac38-4ae6-a627-adc2c2840aaf",
   "metadata": {},
   "outputs": [
    {
     "name": "stdout",
     "output_type": "stream",
     "text": [
      "141.6717035271938\n",
      "131.68010431931333\n",
      "130.87639043183782\n",
      "105.89579212804074\n",
      "79.33414288532167\n",
      "69.36382995793709\n",
      "64.65192671936322\n",
      "61.68694103983382\n",
      "59.158322256500796\n",
      "56.5381358554835\n"
     ]
    }
   ],
   "source": [
    "# Training \n",
    "\n",
    "# Learning rate\n",
    "lr = 0.001\n",
    "\n",
    "# History of the loss value in each epoch\n",
    "history = []\n",
    "\n",
    "# input_size = 4\n",
    "# hidden_neurons = 5\n",
    "# num_classes = 3\n",
    "W1, b1, W2, b2 = init_parameters(4,5,3)\n",
    "\n",
    "for epoch in range(1000):\n",
    "    # Forwarding\n",
    "    o0, o1, o2, o3 = forward(train_x)\n",
    "    \n",
    "    # Calculating the loss and its gradient with respect to the last layer\n",
    "    loss, dl_do3 = loss_fn(o3, train_y)\n",
    "    history.append(loss)\n",
    "    if epoch % 100 == 0:\n",
    "        print(loss)\n",
    "    \n",
    "    # Backwarding the gradient of the loss\n",
    "    dl_dW1, dl_db1, dl_dW2, dl_db2 = backward(dl_do3)\n",
    "    \n",
    "    # Updating parameters\n",
    "    W1 = W1 - lr * dl_dW1\n",
    "    b1 = b1 - lr * dl_db1\n",
    "    W2 = W2 - lr * dl_dW2\n",
    "    b2 = b2 - lr * dl_db2"
   ]
  },
  {
   "cell_type": "code",
   "execution_count": 199,
   "id": "18844c48-18d8-46ca-b47a-406ff36bcfb0",
   "metadata": {},
   "outputs": [
    {
     "data": {
      "text/plain": [
       "[<matplotlib.lines.Line2D at 0x1597905e0>]"
      ]
     },
     "execution_count": 199,
     "metadata": {},
     "output_type": "execute_result"
    },
    {
     "data": {
      "image/png": "[encoded data removed]",
      "text/plain": [
       "<Figure size 432x288 with 1 Axes>"
      ]
     },
     "metadata": {
      "needs_background": "light"
     },
     "output_type": "display_data"
    }
   ],
   "source": [
    "plt.plot(history)"
   ]
  },
  {
   "cell_type": "code",
   "execution_count": 201,
   "id": "ea953884-fc07-47c4-a7dc-fa36a55e613e",
   "metadata": {},
   "outputs": [
    {
     "name": "stdout",
     "output_type": "stream",
     "text": [
      "predicted classes [2 2 0 0 1 1 2 2 0 0 0 0 0 0 1 0 1 2 1 0 2 2 2 2 2 1 2 1 2 2]\n",
      "ground classes    [2 2 0 0 1 1 2 2 0 0 0 0 0 0 1 0 1 2 1 0 1 2 2 1 1 1 2 1 2 2]\n"
     ]
    }
   ],
   "source": [
    "_,_,_,o = forward(test_x)\n",
    "print(\"predicted classes\", np.argmax(o,axis=1))\n",
    "print(\"ground classes   \", test_y)"
   ]
  }
 ],
 "metadata": {
  "kernelspec": {
   "display_name": "Python 3 (ipykernel)",
   "language": "python",
   "name": "python3"
  },
  "language_info": {
   "codemirror_mode": {
    "name": "ipython",
    "version": 3
   },
   "file_extension": ".py",
   "mimetype": "text/x-python",
   "name": "python",
   "nbconvert_exporter": "python",
   "pygments_lexer": "ipython3",
   "version": "3.9.10"
  }
 },
 "nbformat": 4,
 "nbformat_minor": 5
}
