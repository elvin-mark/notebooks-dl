{
 "cells": [
  {
   "cell_type": "code",
   "execution_count": 1,
   "metadata": {
    "executionInfo": {
     "elapsed": 3583,
     "status": "ok",
     "timestamp": 1675554971177,
     "user": {
      "displayName": "Elvin Mark Munoz Vega",
      "userId": "10383162008080824866"
     },
     "user_tz": -540
    },
    "id": "lQf1w79dcBV-"
   },
   "outputs": [],
   "source": [
    "import torch\n",
    "import torch.nn as nn\n",
    "import torchvision\n",
    "import numpy as np\n",
    "import matplotlib.pyplot as plt\n",
    "import tqdm"
   ]
  },
  {
   "cell_type": "code",
   "execution_count": 2,
   "metadata": {
    "colab": {
     "base_uri": "https://localhost:8080/",
     "height": 103,
     "referenced_widgets": [
      "2c3c8f8735f54f35b3acd61952fcd9e0",
      "67bc8e14e42d4dac91ff99185e156218",
      "fab895fe781e4c578f0ae51c7d6d6c47",
      "37b317823b5e416ba7a5811f842e5fec",
      "55e2f8c5773040fcb4fb050a27cf005c",
      "6809a3406fbb455bafb3f0d944f66ef1",
      "5eb104df7cbb4ca899eaea71ec23b54a",
      "065146dc68cf4b1083e7dac3941d48b7",
      "9720bb6301dd4cbd98ddc4500f164640",
      "b5224b01c4f3475fa740cbc22284bf37",
      "66bfafe92114437f8b21691d257d859c"
     ]
    },
    "executionInfo": {
     "elapsed": 8415,
     "status": "ok",
     "timestamp": 1675559642721,
     "user": {
      "displayName": "Elvin Mark Munoz Vega",
      "userId": "10383162008080824866"
     },
     "user_tz": -540
    },
    "id": "-WXewCI4Zn6Y",
    "outputId": "0bb22407-0104-4c13-dd49-edda2a6831d4"
   },
   "outputs": [
    {
     "name": "stdout",
     "output_type": "stream",
     "text": [
      "Files already downloaded and verified\n",
      "Files already downloaded and verified\n"
     ]
    }
   ],
   "source": [
    "# Download the CIFAR10 data\n",
    "train_ds = torchvision.datasets.CIFAR10(root=\"./datasets\",download=True,train=True,transform=torchvision.transforms.ToTensor())\n",
    "test_ds = torchvision.datasets.CIFAR10(root=\"./datasets\",download=True,train=False,transform=torchvision.transforms.ToTensor())"
   ]
  },
  {
   "cell_type": "code",
   "execution_count": 3,
   "metadata": {
    "colab": {
     "base_uri": "https://localhost:8080/"
    },
    "executionInfo": {
     "elapsed": 573,
     "status": "ok",
     "timestamp": 1675559691598,
     "user": {
      "displayName": "Elvin Mark Munoz Vega",
      "userId": "10383162008080824866"
     },
     "user_tz": -540
    },
    "id": "p--Gx2yXNn3P",
    "outputId": "9e325f11-4dec-4ade-c7f9-7360aa3fed24"
   },
   "outputs": [
    {
     "data": {
      "text/plain": [
       "(torch.Size([3, 32, 32]), 6)"
      ]
     },
     "execution_count": 3,
     "metadata": {},
     "output_type": "execute_result"
    }
   ],
   "source": [
    "train_ds[0][0].shape, train_ds[0][1]"
   ]
  },
  {
   "cell_type": "code",
   "execution_count": 4,
   "metadata": {
    "executionInfo": {
     "elapsed": 1,
     "status": "ok",
     "timestamp": 1675559692746,
     "user": {
      "displayName": "Elvin Mark Munoz Vega",
      "userId": "10383162008080824866"
     },
     "user_tz": -540
    },
    "id": "0mxcci-iblPC"
   },
   "outputs": [],
   "source": [
    "# Create the dataloader (batched) from the dataset\n",
    "train_dl = torch.utils.data.DataLoader(train_ds,batch_size=128)\n",
    "test_dl = torch.utils.data.DataLoader(test_ds,batch_size=128)"
   ]
  },
  {
   "cell_type": "code",
   "execution_count": 5,
   "metadata": {
    "executionInfo": {
     "elapsed": 399,
     "status": "ok",
     "timestamp": 1675559694834,
     "user": {
      "displayName": "Elvin Mark Munoz Vega",
      "userId": "10383162008080824866"
     },
     "user_tz": -540
    },
    "id": "IZ0V6FrCc9OE"
   },
   "outputs": [],
   "source": [
    "# Defining the device that we are going to use for the training\n",
    "dev = torch.device(\"cuda\" if torch.cuda.is_available() else \"cpu\")"
   ]
  },
  {
   "cell_type": "code",
   "execution_count": 6,
   "metadata": {
    "executionInfo": {
     "elapsed": 304,
     "status": "ok",
     "timestamp": 1675559696573,
     "user": {
      "displayName": "Elvin Mark Munoz Vega",
      "userId": "10383162008080824866"
     },
     "user_tz": -540
    },
    "id": "DEfronJNPOhl"
   },
   "outputs": [],
   "source": [
    "# Function to train the neural network model for one epoch (one loop over all items in the train dataset)\n",
    "def train_one_epoch(model, train_dl, crit,optim):\n",
    "    avg_loss = 0\n",
    "    corrects = 0\n",
    "    total = 0\n",
    "    # Set the model in train mode\n",
    "    model.train()\n",
    "    # Loop over each x,y pair in the batched dataloader\n",
    "    for x,y in train_dl:\n",
    "        # Set the gradients of all parameters to zero\n",
    "        optim.zero_grad()\n",
    "        # Send x and y to the device that is being used now\n",
    "        x = x.to(dev)\n",
    "        y = y.to(dev)\n",
    "        # Forward\n",
    "        o = model(x)\n",
    "        corrects += (torch.argmax(o,axis=1) == y).sum()\n",
    "        total += len(y)\n",
    "        # Calculate the loss\n",
    "        l = crit(o,y)\n",
    "        avg_loss += l.item()\n",
    "        # Backward (calculate the gradient of loss with respect to each parameter)\n",
    "        l.backward()\n",
    "        # Update each parameter using the calculated gradient of the loss\n",
    "        optim.step()\n",
    "    return avg_loss / len(train_dl), 100*(corrects/total)\n",
    "\n",
    "# Function to test the model over all item in the test dataset\n",
    "def test_model(model, test_dl, crit):\n",
    "    avg_loss = 0\n",
    "    corrects = 0\n",
    "    total = 0\n",
    "    # Set the model in evaluation mode\n",
    "    model.eval()\n",
    "    # Loop over each x,y pair in the batched dataloader\n",
    "    for x,y in test_dl:\n",
    "        # Send x and y to the device that is being used now\n",
    "        x = x.to(dev)\n",
    "        y = y.to(dev)\n",
    "        # Forward\n",
    "        o = model(x)\n",
    "        corrects += (torch.argmax(o,axis=1) == y).sum()\n",
    "        total += len(y)\n",
    "        # Calculate the loss\n",
    "        l = crit(o,y)\n",
    "        avg_loss += l.item()\n",
    "    return avg_loss / len(train_dl), 100*(corrects/total)"
   ]
  },
  {
   "cell_type": "code",
   "execution_count": 7,
   "metadata": {
    "executionInfo": {
     "elapsed": 310,
     "status": "ok",
     "timestamp": 1675559698933,
     "user": {
      "displayName": "Elvin Mark Munoz Vega",
      "userId": "10383162008080824866"
     },
     "user_tz": -540
    },
    "id": "_fD3BMGXNwo8"
   },
   "outputs": [],
   "source": [
    "# Function to create a convolutional layer (conv + batchnorm + relu + pool)\n",
    "def make_conv_layer(in_channels,out_channels,kernel_size=3,stride=1):\n",
    "    return nn.Sequential(\n",
    "        nn.Conv2d(in_channels, out_channels,kernel_size=kernel_size,stride=stride),\n",
    "        nn.BatchNorm2d(out_channels),\n",
    "        nn.ReLU(inplace=True),\n",
    "        nn.MaxPool2d(kernel_size=2)\n",
    "    )"
   ]
  },
  {
   "cell_type": "code",
   "execution_count": 8,
   "metadata": {
    "executionInfo": {
     "elapsed": 419,
     "status": "ok",
     "timestamp": 1675559700789,
     "user": {
      "displayName": "Elvin Mark Munoz Vega",
      "userId": "10383162008080824866"
     },
     "user_tz": -540
    },
    "id": "SBAWz7MPdDaU"
   },
   "outputs": [],
   "source": [
    "# Defining our model (simple convolutional layer)\n",
    "model = nn.Sequential(\n",
    "    make_conv_layer(3,16,kernel_size=7), # N x 3 x 32 x 32 -> N x 16 x 13 x 13\n",
    "    make_conv_layer(16,32), # N x 16 x 13 x 13 -> N x 32 x 5 x 5\n",
    "    make_conv_layer(32,64), # N x 32 x 5 x 5 -> N x 64 x 1 x 1\n",
    "    nn.Flatten(), # N x 64 x 1 x 1 -> N x 64\n",
    "    nn.Linear(64,10).to(dev)\n",
    ")\n",
    "\n",
    "# Defining the optimizer to be used in the training\n",
    "optim = torch.optim.SGD(model.parameters(),lr=0.1)\n",
    "# Defining the loss function to be used\n",
    "crit = nn.CrossEntropyLoss()"
   ]
  },
  {
   "cell_type": "code",
   "execution_count": 9,
   "metadata": {
    "colab": {
     "base_uri": "https://localhost:8080/"
    },
    "executionInfo": {
     "elapsed": 186220,
     "status": "ok",
     "timestamp": 1675559889605,
     "user": {
      "displayName": "Elvin Mark Munoz Vega",
      "userId": "10383162008080824866"
     },
     "user_tz": -540
    },
    "id": "1o-RGGZ5cMDv",
    "outputId": "2846f7f1-dcbd-4895-fb26-8a235c878d4a"
   },
   "outputs": [
    {
     "name": "stderr",
     "output_type": "stream",
     "text": [
      " 20%|█████████████████                                                                    | 1/5 [00:32<02:09, 32.27s/it]"
     ]
    },
    {
     "name": "stdout",
     "output_type": "stream",
     "text": [
      "train_loss: 1.5614416565736542, train_acc: 43.55400085449219, test_loss: 0.47976076633424103, test_acc: 20.900001525878906\n"
     ]
    },
    {
     "name": "stderr",
     "output_type": "stream",
     "text": [
      " 40%|██████████████████████████████████                                                   | 2/5 [01:06<01:40, 33.63s/it]"
     ]
    },
    {
     "name": "stdout",
     "output_type": "stream",
     "text": [
      "train_loss: 1.3019790664658217, train_acc: 53.68400192260742, test_loss: 0.3725018793969508, test_acc: 36.65999984741211\n"
     ]
    },
    {
     "name": "stderr",
     "output_type": "stream",
     "text": [
      " 60%|███████████████████████████████████████████████████                                  | 3/5 [01:40<01:07, 33.59s/it]"
     ]
    },
    {
     "name": "stdout",
     "output_type": "stream",
     "text": [
      "train_loss: 1.1913966472496462, train_acc: 58.097999572753906, test_loss: 0.2955452630586941, test_acc: 48.59000015258789\n"
     ]
    },
    {
     "name": "stderr",
     "output_type": "stream",
     "text": [
      " 80%|████████████████████████████████████████████████████████████████████                 | 4/5 [02:14<00:33, 33.73s/it]"
     ]
    },
    {
     "name": "stdout",
     "output_type": "stream",
     "text": [
      "train_loss: 1.118664005375884, train_acc: 60.757999420166016, test_loss: 0.31153898836706606, test_acc: 46.91999816894531\n"
     ]
    },
    {
     "name": "stderr",
     "output_type": "stream",
     "text": [
      "100%|█████████████████████████████████████████████████████████████████████████████████████| 5/5 [02:48<00:00, 33.78s/it]"
     ]
    },
    {
     "name": "stdout",
     "output_type": "stream",
     "text": [
      "train_loss: 1.0632828102087426, train_acc: 62.965999603271484, test_loss: 0.26123825759838915, test_acc: 56.029998779296875\n"
     ]
    },
    {
     "name": "stderr",
     "output_type": "stream",
     "text": [
      "\n"
     ]
    }
   ],
   "source": [
    "train_history = []\n",
    "# Trainig the model for 5 epochs\n",
    "for epoch in tqdm.tqdm(range(5)):\n",
    "    train_loss, train_acc = train_one_epoch(model,train_dl,crit,optim)\n",
    "    test_loss, test_acc = test_model(model, test_dl, crit)\n",
    "    train_history.append([train_loss,train_acc,test_loss,test_acc])\n",
    "    print(f\"train_loss: {train_loss}, train_acc: {train_acc}, test_loss: {test_loss}, test_acc: {test_acc}\")\n",
    "train_history = np.array(train_history)"
   ]
  },
  {
   "cell_type": "code",
   "execution_count": 12,
   "metadata": {
    "colab": {
     "base_uri": "https://localhost:8080/"
    },
    "executionInfo": {
     "elapsed": 262,
     "status": "ok",
     "timestamp": 1675478039191,
     "user": {
      "displayName": "Elvin Mark Munoz Vega",
      "userId": "10383162008080824866"
     },
     "user_tz": -540
    },
    "id": "JLx8mLmXRFns",
    "outputId": "dac14170-89e3-411f-c8da-0a083e723b46"
   },
   "outputs": [
    {
     "data": {
      "text/plain": [
       "<All keys matched successfully>"
      ]
     },
     "execution_count": 12,
     "metadata": {},
     "output_type": "execute_result"
    }
   ],
   "source": [
    "# If you have saved the model before\n",
    "model.load_state_dict(torch.load(\"models/cifar10_cnn.ckpt\"))"
   ]
  },
  {
   "cell_type": "code",
   "execution_count": 10,
   "metadata": {
    "colab": {
     "base_uri": "https://localhost:8080/",
     "height": 302
    },
    "executionInfo": {
     "elapsed": 552,
     "status": "ok",
     "timestamp": 1675559907032,
     "user": {
      "displayName": "Elvin Mark Munoz Vega",
      "userId": "10383162008080824866"
     },
     "user_tz": -540
    },
    "id": "AQbdefUcRKL4",
    "outputId": "7f4d2435-607b-4536-db84-c976cfd2fa4e"
   },
   "outputs": [
    {
     "name": "stdout",
     "output_type": "stream",
     "text": [
      "prediction = 7, actual = 7\n"
     ]
    },
    {
     "data": {
      "text/plain": [
       "<matplotlib.image.AxesImage at 0x7fe780745d90>"
      ]
     },
     "execution_count": 10,
     "metadata": {},
     "output_type": "execute_result"
    },
    {
     "data": {
      "image/png": "[encoded data removed]",
      "text/plain": [
       "<Figure size 640x480 with 1 Axes>"
      ]
     },
     "metadata": {},
     "output_type": "display_data"
    }
   ],
   "source": [
    "# Testing the model\n",
    "x,y = test_ds[torch.randint(low=0,high=len(test_ds),size=(1,)).item()]\n",
    "model.eval()\n",
    "o = model(x.reshape((1,3,32,32)))\n",
    "y_pred = torch.argmax(o,axis=1).item()\n",
    "print(f\"prediction = {y_pred}, actual = {y}\")\n",
    "plt.imshow(x[0])"
   ]
  },
  {
   "cell_type": "code",
   "execution_count": 11,
   "metadata": {
    "executionInfo": {
     "elapsed": 244,
     "status": "ok",
     "timestamp": 1675559899900,
     "user": {
      "displayName": "Elvin Mark Munoz Vega",
      "userId": "10383162008080824866"
     },
     "user_tz": -540
    },
    "id": "GTPYWNNYRPVn"
   },
   "outputs": [],
   "source": [
    "# Saving our model\n",
    "torch.save(model.state_dict(),\"models/cifar10_cnn.ckpt\")"
   ]
  },
  {
   "cell_type": "code",
   "execution_count": 13,
   "metadata": {
    "colab": {
     "base_uri": "https://localhost:8080/",
     "height": 341
    },
    "executionInfo": {
     "elapsed": 804,
     "status": "ok",
     "timestamp": 1675559911419,
     "user": {
      "displayName": "Elvin Mark Munoz Vega",
      "userId": "10383162008080824866"
     },
     "user_tz": -540
    },
    "id": "siShD5PIRkAX",
    "outputId": "d7fda5cd-f61c-482c-fe95-3147cd1bb47c"
   },
   "outputs": [
    {
     "data": {
      "text/plain": [
       "<matplotlib.legend.Legend at 0x7fe77450dfd0>"
      ]
     },
     "execution_count": 13,
     "metadata": {},
     "output_type": "execute_result"
    },
    {
     "data": {
      "image/png": "[encoded data removed]",
      "text/plain": [
       "<Figure size 1200x500 with 2 Axes>"
      ]
     },
     "metadata": {},
     "output_type": "display_data"
    }
   ],
   "source": [
    "# Plot the loss evolution\n",
    "fig,ax = plt.subplots(ncols=2,figsize=(12,5))\n",
    "ax[0].plot(train_history[:,0],label=\"train\")\n",
    "ax[0].plot(train_history[:,2],label=\"test\")\n",
    "ax[0].grid()\n",
    "ax[0].legend()\n",
    "# Plot the accuracy evolution\n",
    "ax[1].plot(train_history[:,1],label=\"train\")\n",
    "ax[1].plot(train_history[:,3],label=\"test\")\n",
    "ax[1].grid()\n",
    "ax[1].legend()"
   ]
  },
  {
   "cell_type": "code",
   "execution_count": 15,
   "metadata": {
    "executionInfo": {
     "elapsed": 2,
     "status": "ok",
     "timestamp": 1675559916027,
     "user": {
      "displayName": "Elvin Mark Munoz Vega",
      "userId": "10383162008080824866"
     },
     "user_tz": -540
    },
    "id": "7dkNSbeccPxM"
   },
   "outputs": [],
   "source": [
    "# Defining a simple Residual block\n",
    "class ResnetBlock(nn.Module):\n",
    "    def __init__(self,in_channels,out_channels,kernel_size=3,stride=2):\n",
    "        super(ResnetBlock,self).__init__()\n",
    "        self.direct = nn.Sequential(\n",
    "            nn.Conv2d(in_channels,out_channels,kernel_size=kernel_size,stride=stride),\n",
    "            nn.BatchNorm2d(out_channels),\n",
    "            nn.ReLU(inplace=True),\n",
    "            nn.Conv2d(out_channels,out_channels,kernel_size=1),\n",
    "            nn.BatchNorm2d(out_channels),\n",
    "        )\n",
    "        self.shortcut = nn.Sequential(\n",
    "            nn.Conv2d(in_channels,out_channels,kernel_size=kernel_size,stride=stride),\n",
    "            nn.BatchNorm2d(out_channels),\n",
    "        )\n",
    "        self.relu = nn.ReLU(inplace=True)\n",
    "    def forward(self,x):\n",
    "        o = self.direct(x)\n",
    "        s = self.shortcut(x)\n",
    "        return self.relu(o + s)"
   ]
  },
  {
   "cell_type": "code",
   "execution_count": 16,
   "metadata": {
    "executionInfo": {
     "elapsed": 1,
     "status": "ok",
     "timestamp": 1675559917334,
     "user": {
      "displayName": "Elvin Mark Munoz Vega",
      "userId": "10383162008080824866"
     },
     "user_tz": -540
    },
    "id": "rR-2e7bMQi-2"
   },
   "outputs": [],
   "source": [
    "# Defining our model (simple convolutional layer)\n",
    "model = nn.Sequential(\n",
    "    ResnetBlock(3,16,kernel_size=7), # N x 3 x 32 x 32 -> N x 16 x 13 x 13\n",
    "    ResnetBlock(16,32), # N x 16 x 13 x 13 -> N x 32 x 6 x 6\n",
    "    ResnetBlock(32,64), # N x 32 x 6 x 6 -> N x 64 x 2 x 2\n",
    "    nn.Flatten(), # N x 64 x 2 x 2 -> N x 256\n",
    "    nn.Linear(256,10).to(dev)\n",
    ")\n",
    "\n",
    "# Defining the optimizer to be used in the training\n",
    "optim = torch.optim.SGD(model.parameters(),lr=0.1)\n",
    "# Defining the loss function to be used\n",
    "crit = nn.CrossEntropyLoss()"
   ]
  },
  {
   "cell_type": "code",
   "execution_count": 17,
   "metadata": {
    "colab": {
     "base_uri": "https://localhost:8080/"
    },
    "executionInfo": {
     "elapsed": 150415,
     "status": "ok",
     "timestamp": 1675560070367,
     "user": {
      "displayName": "Elvin Mark Munoz Vega",
      "userId": "10383162008080824866"
     },
     "user_tz": -540
    },
    "id": "06Xj5wL0cYtU",
    "outputId": "fe5bc6e6-889a-4687-c565-a584d6c523bd"
   },
   "outputs": [
    {
     "name": "stderr",
     "output_type": "stream",
     "text": [
      " 20%|█████████████████                                                                    | 1/5 [00:29<01:58, 29.58s/it]"
     ]
    },
    {
     "name": "stdout",
     "output_type": "stream",
     "text": [
      "train_loss: 1.5718400054575536, train_acc: 42.604000091552734, test_loss: 0.37152421139085384, test_acc: 35.10000228881836\n"
     ]
    },
    {
     "name": "stderr",
     "output_type": "stream",
     "text": [
      " 40%|██████████████████████████████████                                                   | 2/5 [00:58<01:27, 29.31s/it]"
     ]
    },
    {
     "name": "stdout",
     "output_type": "stream",
     "text": [
      "train_loss: 1.3062887792392155, train_acc: 52.881996154785156, test_loss: 0.5209729390985826, test_acc: 26.690000534057617\n"
     ]
    },
    {
     "name": "stderr",
     "output_type": "stream",
     "text": [
      " 60%|███████████████████████████████████████████████████                                  | 3/5 [01:28<00:58, 29.49s/it]"
     ]
    },
    {
     "name": "stdout",
     "output_type": "stream",
     "text": [
      "train_loss: 1.1758079170570959, train_acc: 58.14200210571289, test_loss: 0.28563913664854396, test_acc: 50.77000427246094\n"
     ]
    },
    {
     "name": "stderr",
     "output_type": "stream",
     "text": [
      " 80%|████████████████████████████████████████████████████████████████████                 | 4/5 [01:58<00:29, 29.63s/it]"
     ]
    },
    {
     "name": "stdout",
     "output_type": "stream",
     "text": [
      "train_loss: 1.08137392830056, train_acc: 61.694000244140625, test_loss: 0.2756712573873418, test_acc: 52.7599983215332\n"
     ]
    },
    {
     "name": "stderr",
     "output_type": "stream",
     "text": [
      "100%|█████████████████████████████████████████████████████████████████████████████████████| 5/5 [02:28<00:00, 29.62s/it]"
     ]
    },
    {
     "name": "stdout",
     "output_type": "stream",
     "text": [
      "train_loss: 1.007336491514045, train_acc: 64.54199981689453, test_loss: 0.2551484714688547, test_acc: 55.94999694824219\n"
     ]
    },
    {
     "name": "stderr",
     "output_type": "stream",
     "text": [
      "\n"
     ]
    }
   ],
   "source": [
    "train_history = []\n",
    "# Trainig the model for 5 epochs\n",
    "for epoch in tqdm.tqdm(range(5)):\n",
    "    train_loss, train_acc = train_one_epoch(model,train_dl,crit,optim)\n",
    "    test_loss, test_acc = test_model(model, test_dl, crit)\n",
    "    train_history.append([train_loss,train_acc,test_loss,test_acc])\n",
    "    print(f\"train_loss: {train_loss}, train_acc: {train_acc}, test_loss: {test_loss}, test_acc: {test_acc}\")\n",
    "train_history = np.array(train_history)"
   ]
  },
  {
   "cell_type": "code",
   "execution_count": 20,
   "metadata": {
    "colab": {
     "base_uri": "https://localhost:8080/"
    },
    "executionInfo": {
     "elapsed": 4,
     "status": "ok",
     "timestamp": 1675560094579,
     "user": {
      "displayName": "Elvin Mark Munoz Vega",
      "userId": "10383162008080824866"
     },
     "user_tz": -540
    },
    "id": "T5AOgct0c6EK",
    "outputId": "622d2aa5-05ec-47c5-8592-9be2b8f48998"
   },
   "outputs": [
    {
     "data": {
      "text/plain": [
       "<All keys matched successfully>"
      ]
     },
     "execution_count": 20,
     "metadata": {},
     "output_type": "execute_result"
    }
   ],
   "source": [
    "# If you have saved the model before\n",
    "model.load_state_dict(torch.load(\"models/cifar10_resnet.ckpt\"))"
   ]
  },
  {
   "cell_type": "code",
   "execution_count": 18,
   "metadata": {
    "colab": {
     "base_uri": "https://localhost:8080/",
     "height": 302
    },
    "executionInfo": {
     "elapsed": 279,
     "status": "ok",
     "timestamp": 1675560088444,
     "user": {
      "displayName": "Elvin Mark Munoz Vega",
      "userId": "10383162008080824866"
     },
     "user_tz": -540
    },
    "id": "11hRVqlodFTr",
    "outputId": "3f4eca77-fc6a-456c-853f-9ac9dd1149eb"
   },
   "outputs": [
    {
     "name": "stdout",
     "output_type": "stream",
     "text": [
      "prediction = 4, actual = 2\n"
     ]
    },
    {
     "data": {
      "text/plain": [
       "<matplotlib.image.AxesImage at 0x7fe77440dee0>"
      ]
     },
     "execution_count": 18,
     "metadata": {},
     "output_type": "execute_result"
    },
    {
     "data": {
      "image/png": "[encoded data removed]",
      "text/plain": [
       "<Figure size 640x480 with 1 Axes>"
      ]
     },
     "metadata": {},
     "output_type": "display_data"
    }
   ],
   "source": [
    "# Testing the model\n",
    "x,y = test_ds[torch.randint(low=0,high=len(test_ds),size=(1,)).item()]\n",
    "model.eval()\n",
    "o = model(x.reshape((1,3,32,32)))\n",
    "y_pred = torch.argmax(o,axis=1).item()\n",
    "print(f\"prediction = {y_pred}, actual = {y}\")\n",
    "plt.imshow(x[0])"
   ]
  },
  {
   "cell_type": "code",
   "execution_count": 19,
   "metadata": {
    "executionInfo": {
     "elapsed": 384,
     "status": "ok",
     "timestamp": 1675560091526,
     "user": {
      "displayName": "Elvin Mark Munoz Vega",
      "userId": "10383162008080824866"
     },
     "user_tz": -540
    },
    "id": "J7sYYKRVc70r"
   },
   "outputs": [],
   "source": [
    "# Saving our model\n",
    "torch.save(model.state_dict(),\"models/cifar10_resnet.ckpt\")"
   ]
  },
  {
   "cell_type": "code",
   "execution_count": 21,
   "metadata": {
    "colab": {
     "base_uri": "https://localhost:8080/",
     "height": 341
    },
    "executionInfo": {
     "elapsed": 618,
     "status": "ok",
     "timestamp": 1675560096936,
     "user": {
      "displayName": "Elvin Mark Munoz Vega",
      "userId": "10383162008080824866"
     },
     "user_tz": -540
    },
    "id": "-_kGpd61h2AW",
    "outputId": "d82abbda-b15e-4636-ecf7-7f1323d69072"
   },
   "outputs": [
    {
     "data": {
      "text/plain": [
       "<matplotlib.legend.Legend at 0x7fe76503aeb0>"
      ]
     },
     "execution_count": 21,
     "metadata": {},
     "output_type": "execute_result"
    },
    {
     "data": {
      "image/png": "[encoded data removed]",
      "text/plain": [
       "<Figure size 1200x500 with 2 Axes>"
      ]
     },
     "metadata": {},
     "output_type": "display_data"
    }
   ],
   "source": [
    "# Plot the loss evolution\n",
    "fig,ax = plt.subplots(ncols=2,figsize=(12,5))\n",
    "ax[0].plot(train_history[:,0],label=\"train\")\n",
    "ax[0].plot(train_history[:,2],label=\"test\")\n",
    "ax[0].grid()\n",
    "ax[0].legend()\n",
    "# Plot the accuracy evolution\n",
    "ax[1].plot(train_history[:,1],label=\"train\")\n",
    "ax[1].plot(train_history[:,3],label=\"test\")\n",
    "ax[1].grid()\n",
    "ax[1].legend()"
   ]
  },
  {
   "cell_type": "code",
   "execution_count": 22,
   "metadata": {
    "colab": {
     "base_uri": "https://localhost:8080/",
     "height": 103,
     "referenced_widgets": [
      "677f90192e3941ae8025ce3b57071e93",
      "6afb08b49f254530833a2478ca2a4503",
      "60dbd53ed2d345d1b739de339d7fa564",
      "cfe522d754974da0be6972fff1c3eff9",
      "c9e7d7fec8e54591b17131a764660e94",
      "b4257c3d7c1e4ce9a21300b3cfcedfd3",
      "354fdc5d466046f892d7c41159a8e30a",
      "b83b8ca34c6b4a92a0ead13224d27bfb",
      "f0be599121d646bbb62c96419edb1d57",
      "76c888746cb04c8d91bc0571acc2df20",
      "17558e9319d34ad2b089effc3db46092"
     ]
    },
    "executionInfo": {
     "elapsed": 9044,
     "status": "ok",
     "timestamp": 1675560110874,
     "user": {
      "displayName": "Elvin Mark Munoz Vega",
      "userId": "10383162008080824866"
     },
     "user_tz": -540
    },
    "id": "oumTmWHZhxUV",
    "outputId": "7c88bf8b-4f69-421b-d502-52d5e888135f"
   },
   "outputs": [
    {
     "name": "stdout",
     "output_type": "stream",
     "text": [
      "Files already downloaded and verified\n",
      "Files already downloaded and verified\n"
     ]
    }
   ],
   "source": [
    "# Download the CIFAR100 data\n",
    "train_ds = torchvision.datasets.CIFAR100(root=\"./datasets\",download=True,train=True,transform=torchvision.transforms.ToTensor())\n",
    "test_ds = torchvision.datasets.CIFAR100(root=\"./datasets\",download=True,train=False,transform=torchvision.transforms.ToTensor())"
   ]
  },
  {
   "cell_type": "code",
   "execution_count": 23,
   "metadata": {
    "colab": {
     "base_uri": "https://localhost:8080/"
    },
    "executionInfo": {
     "elapsed": 268,
     "status": "ok",
     "timestamp": 1675560115579,
     "user": {
      "displayName": "Elvin Mark Munoz Vega",
      "userId": "10383162008080824866"
     },
     "user_tz": -540
    },
    "id": "VjDWZ8QghQ5T",
    "outputId": "cac50ed8-2be2-49fa-f8c8-0d071203cb33"
   },
   "outputs": [
    {
     "data": {
      "text/plain": [
       "(torch.Size([3, 32, 32]), 19)"
      ]
     },
     "execution_count": 23,
     "metadata": {},
     "output_type": "execute_result"
    }
   ],
   "source": [
    "train_ds[0][0].shape, train_ds[0][1]"
   ]
  },
  {
   "cell_type": "code",
   "execution_count": 24,
   "metadata": {
    "executionInfo": {
     "elapsed": 318,
     "status": "ok",
     "timestamp": 1675560117352,
     "user": {
      "displayName": "Elvin Mark Munoz Vega",
      "userId": "10383162008080824866"
     },
     "user_tz": -540
    },
    "id": "mBngIdOthRhi"
   },
   "outputs": [],
   "source": [
    "# Create the dataloader (batched) from the dataset\n",
    "train_dl = torch.utils.data.DataLoader(train_ds,batch_size=128)\n",
    "test_dl = torch.utils.data.DataLoader(test_ds,batch_size=128)"
   ]
  },
  {
   "cell_type": "code",
   "execution_count": 25,
   "metadata": {
    "executionInfo": {
     "elapsed": 300,
     "status": "ok",
     "timestamp": 1675560121659,
     "user": {
      "displayName": "Elvin Mark Munoz Vega",
      "userId": "10383162008080824866"
     },
     "user_tz": -540
    },
    "id": "-iq4iggAqnQ3"
   },
   "outputs": [],
   "source": [
    "# Defining our model (simple convolutional layer)\n",
    "model = nn.Sequential(\n",
    "    make_conv_layer(3,16,kernel_size=7), # N x 3 x 32 x 32 -> N x 16 x 13 x 13\n",
    "    make_conv_layer(16,32), # N x 16 x 13 x 13 -> N x 32 x 5 x 5\n",
    "    make_conv_layer(32,64), # N x 32 x 5 x 5 -> N x 64 x 1 x 1\n",
    "    nn.Flatten(), # N x 64 x 1 x 1 -> N x 64\n",
    "    nn.Linear(64,100).to(dev)\n",
    ")\n",
    "\n",
    "# Defining the optimizer to be used in the training\n",
    "optim = torch.optim.SGD(model.parameters(),lr=0.1)\n",
    "# Defining the loss function to be used\n",
    "crit = nn.CrossEntropyLoss()"
   ]
  },
  {
   "cell_type": "code",
   "execution_count": 26,
   "metadata": {
    "colab": {
     "base_uri": "https://localhost:8080/"
    },
    "executionInfo": {
     "elapsed": 183161,
     "status": "ok",
     "timestamp": 1675560308141,
     "user": {
      "displayName": "Elvin Mark Munoz Vega",
      "userId": "10383162008080824866"
     },
     "user_tz": -540
    },
    "id": "RNT5Uox8qpgT",
    "outputId": "52f96047-1b0a-41db-c6a7-0be518062721"
   },
   "outputs": [
    {
     "name": "stderr",
     "output_type": "stream",
     "text": [
      " 20%|█████████████████                                                                    | 1/5 [00:32<02:09, 32.40s/it]"
     ]
    },
    {
     "name": "stdout",
     "output_type": "stream",
     "text": [
      "train_loss: 3.9486272219196916, train_acc: 11.14799976348877, test_loss: 0.7996233820610339, test_acc: 11.230000495910645\n"
     ]
    },
    {
     "name": "stderr",
     "output_type": "stream",
     "text": [
      " 40%|██████████████████████████████████                                                   | 2/5 [01:04<01:36, 32.09s/it]"
     ]
    },
    {
     "name": "stdout",
     "output_type": "stream",
     "text": [
      "train_loss: 3.395164559869205, train_acc: 19.2239990234375, test_loss: 0.7933995937142531, test_acc: 12.760000228881836\n"
     ]
    },
    {
     "name": "stderr",
     "output_type": "stream",
     "text": [
      " 60%|███████████████████████████████████████████████████                                  | 3/5 [01:36<01:04, 32.22s/it]"
     ]
    },
    {
     "name": "stdout",
     "output_type": "stream",
     "text": [
      "train_loss: 3.151343245030669, train_acc: 23.435998916625977, test_loss: 0.7403717803223359, test_acc: 15.34000015258789\n"
     ]
    },
    {
     "name": "stderr",
     "output_type": "stream",
     "text": [
      " 80%|████████████████████████████████████████████████████████████████████                 | 4/5 [02:09<00:32, 32.59s/it]"
     ]
    },
    {
     "name": "stdout",
     "output_type": "stream",
     "text": [
      "train_loss: 2.996556691806335, train_acc: 26.350000381469727, test_loss: 0.6741660897384214, test_acc: 20.029998779296875\n"
     ]
    },
    {
     "name": "stderr",
     "output_type": "stream",
     "text": [
      "100%|█████████████████████████████████████████████████████████████████████████████████████| 5/5 [02:45<00:00, 33.06s/it]"
     ]
    },
    {
     "name": "stdout",
     "output_type": "stream",
     "text": [
      "train_loss: 2.8814780163338116, train_acc: 28.558000564575195, test_loss: 0.705564289751565, test_acc: 18.529998779296875\n"
     ]
    },
    {
     "name": "stderr",
     "output_type": "stream",
     "text": [
      "\n"
     ]
    }
   ],
   "source": [
    "train_history = []\n",
    "# Trainig the model for 5 epochs\n",
    "for epoch in tqdm.tqdm(range(5)):\n",
    "    train_loss, train_acc = train_one_epoch(model,train_dl,crit,optim)\n",
    "    test_loss, test_acc = test_model(model, test_dl, crit)\n",
    "    train_history.append([train_loss,train_acc,test_loss,test_acc])\n",
    "    print(f\"train_loss: {train_loss}, train_acc: {train_acc}, test_loss: {test_loss}, test_acc: {test_acc}\")\n",
    "train_history = np.array(train_history)"
   ]
  },
  {
   "cell_type": "code",
   "execution_count": 29,
   "metadata": {
    "colab": {
     "base_uri": "https://localhost:8080/"
    },
    "executionInfo": {
     "elapsed": 267,
     "status": "ok",
     "timestamp": 1675561044148,
     "user": {
      "displayName": "Elvin Mark Munoz Vega",
      "userId": "10383162008080824866"
     },
     "user_tz": -540
    },
    "id": "vypi5lWrqvUR",
    "outputId": "8d13c167-d31b-4725-aa7c-71f0bb1f4690"
   },
   "outputs": [
    {
     "data": {
      "text/plain": [
       "<All keys matched successfully>"
      ]
     },
     "execution_count": 29,
     "metadata": {},
     "output_type": "execute_result"
    }
   ],
   "source": [
    "# If you have saved the model before\n",
    "model.load_state_dict(torch.load(\"models/cifar100_cnn.ckpt\"))"
   ]
  },
  {
   "cell_type": "code",
   "execution_count": 33,
   "metadata": {
    "colab": {
     "base_uri": "https://localhost:8080/",
     "height": 302
    },
    "executionInfo": {
     "elapsed": 1060,
     "status": "ok",
     "timestamp": 1675561030736,
     "user": {
      "displayName": "Elvin Mark Munoz Vega",
      "userId": "10383162008080824866"
     },
     "user_tz": -540
    },
    "id": "lRnEAXAcqwe_",
    "outputId": "cf59e5cf-0dca-44e6-e79b-425d602b9ce2"
   },
   "outputs": [
    {
     "name": "stdout",
     "output_type": "stream",
     "text": [
      "prediction = 71, actual = 71\n"
     ]
    },
    {
     "data": {
      "text/plain": [
       "<matplotlib.image.AxesImage at 0x7fe7805d4310>"
      ]
     },
     "execution_count": 33,
     "metadata": {},
     "output_type": "execute_result"
    },
    {
     "data": {
      "image/png": "[encoded data removed]",
      "text/plain": [
       "<Figure size 640x480 with 1 Axes>"
      ]
     },
     "metadata": {},
     "output_type": "display_data"
    }
   ],
   "source": [
    "# Testing the model\n",
    "x,y = test_ds[torch.randint(low=0,high=len(test_ds),size=(1,)).item()]\n",
    "model.eval()\n",
    "o = model(x.reshape((1,3,32,32)))\n",
    "y_pred = torch.argmax(o,axis=1).item()\n",
    "print(f\"prediction = {y_pred}, actual = {y}\")\n",
    "plt.imshow(x[0])"
   ]
  },
  {
   "cell_type": "code",
   "execution_count": 28,
   "metadata": {
    "executionInfo": {
     "elapsed": 583,
     "status": "ok",
     "timestamp": 1675561035754,
     "user": {
      "displayName": "Elvin Mark Munoz Vega",
      "userId": "10383162008080824866"
     },
     "user_tz": -540
    },
    "id": "klGCICypqxa8"
   },
   "outputs": [],
   "source": [
    "# Saving our model\n",
    "torch.save(model.state_dict(),\"models/cifar100_cnn.ckpt\")"
   ]
  },
  {
   "cell_type": "code",
   "execution_count": 34,
   "metadata": {
    "colab": {
     "base_uri": "https://localhost:8080/",
     "height": 338
    },
    "executionInfo": {
     "elapsed": 2041,
     "status": "ok",
     "timestamp": 1675561040998,
     "user": {
      "displayName": "Elvin Mark Munoz Vega",
      "userId": "10383162008080824866"
     },
     "user_tz": -540
    },
    "id": "hyiev6pTq2Fq",
    "outputId": "37784481-fd64-4dcf-e2ac-4feb47140449"
   },
   "outputs": [
    {
     "data": {
      "text/plain": [
       "<matplotlib.legend.Legend at 0x7fe780509be0>"
      ]
     },
     "execution_count": 34,
     "metadata": {},
     "output_type": "execute_result"
    },
    {
     "data": {
      "image/png": "[encoded data removed]",
      "text/plain": [
       "<Figure size 1200x500 with 2 Axes>"
      ]
     },
     "metadata": {},
     "output_type": "display_data"
    }
   ],
   "source": [
    "# Plot the loss evolution\n",
    "fig,ax = plt.subplots(ncols=2,figsize=(12,5))\n",
    "ax[0].plot(train_history[:,0],label=\"train\")\n",
    "ax[0].plot(train_history[:,2],label=\"test\")\n",
    "ax[0].grid()\n",
    "ax[0].legend()\n",
    "# Plot the accuracy evolution\n",
    "ax[1].plot(train_history[:,1],label=\"train\")\n",
    "ax[1].plot(train_history[:,3],label=\"test\")\n",
    "ax[1].grid()\n",
    "ax[1].legend()"
   ]
  },
  {
   "cell_type": "code",
   "execution_count": 35,
   "metadata": {
    "id": "9byKidyst_63"
   },
   "outputs": [],
   "source": [
    "# Defining our model (simple convolutional layer)\n",
    "model = nn.Sequential(\n",
    "    ResnetBlock(3,16,kernel_size=7), # N x 3 x 32 x 32 -> N x 16 x 13 x 13\n",
    "    ResnetBlock(16,32), # N x 16 x 13 x 13 -> N x 32 x 6 x 6\n",
    "    ResnetBlock(32,64), # N x 32 x 6 x 6 -> N x 64 x 2 x 2\n",
    "    nn.Flatten(), # N x 64 x 1 x 1 -> N x 64\n",
    "    nn.Linear(256,100).to(dev)\n",
    ")\n",
    "\n",
    "# Defining the optimizer to be used in the training\n",
    "optim = torch.optim.SGD(model.parameters(),lr=0.1)\n",
    "# Defining the loss function to be used\n",
    "crit = nn.CrossEntropyLoss()"
   ]
  },
  {
   "cell_type": "code",
   "execution_count": 36,
   "metadata": {
    "colab": {
     "base_uri": "https://localhost:8080/"
    },
    "executionInfo": {
     "elapsed": 133210,
     "status": "ok",
     "timestamp": 1675479060006,
     "user": {
      "displayName": "Elvin Mark Munoz Vega",
      "userId": "10383162008080824866"
     },
     "user_tz": -540
    },
    "id": "18jmciu2q3ed",
    "outputId": "4c5abe26-1e26-4d2e-c2e5-97ab978969b2"
   },
   "outputs": [
    {
     "name": "stderr",
     "output_type": "stream",
     "text": [
      " 20%|█████████████████                                                                    | 1/5 [00:29<01:58, 29.62s/it]"
     ]
    },
    {
     "name": "stdout",
     "output_type": "stream",
     "text": [
      "train_loss: 3.7846491586826647, train_acc: 12.853999137878418, test_loss: 0.7124536945996687, test_acc: 16.489999771118164\n"
     ]
    },
    {
     "name": "stderr",
     "output_type": "stream",
     "text": [
      " 40%|██████████████████████████████████                                                   | 2/5 [00:59<01:28, 29.61s/it]"
     ]
    },
    {
     "name": "stdout",
     "output_type": "stream",
     "text": [
      "train_loss: 3.2352145138908837, train_acc: 22.031999588012695, test_loss: 0.6984583453449142, test_acc: 19.030000686645508\n"
     ]
    },
    {
     "name": "stderr",
     "output_type": "stream",
     "text": [
      " 60%|███████████████████████████████████████████████████                                  | 3/5 [01:28<00:59, 29.59s/it]"
     ]
    },
    {
     "name": "stdout",
     "output_type": "stream",
     "text": [
      "train_loss: 2.9624839420513727, train_acc: 27.323999404907227, test_loss: 0.7137363292372135, test_acc: 19.040000915527344\n"
     ]
    },
    {
     "name": "stderr",
     "output_type": "stream",
     "text": [
      " 80%|████████████████████████████████████████████████████████████████████                 | 4/5 [01:58<00:29, 29.52s/it]"
     ]
    },
    {
     "name": "stdout",
     "output_type": "stream",
     "text": [
      "train_loss: 2.7738133836585237, train_acc: 31.142000198364258, test_loss: 0.7007046623912918, test_acc: 19.8799991607666\n"
     ]
    },
    {
     "name": "stderr",
     "output_type": "stream",
     "text": [
      "100%|█████████████████████████████████████████████████████████████████████████████████████| 5/5 [02:27<00:00, 29.45s/it]"
     ]
    },
    {
     "name": "stdout",
     "output_type": "stream",
     "text": [
      "train_loss: 2.6298727684313685, train_acc: 34.0099983215332, test_loss: 0.6690075452370412, test_acc: 22.39000129699707\n"
     ]
    },
    {
     "name": "stderr",
     "output_type": "stream",
     "text": [
      "\n"
     ]
    }
   ],
   "source": [
    "train_history = []\n",
    "# Trainig the model for 5 epochs\n",
    "for epoch in tqdm.tqdm(range(5)):\n",
    "    train_loss, train_acc = train_one_epoch(model,train_dl,crit,optim)\n",
    "    test_loss, test_acc = test_model(model, test_dl, crit)\n",
    "    train_history.append([train_loss,train_acc,test_loss,test_acc])\n",
    "    print(f\"train_loss: {train_loss}, train_acc: {train_acc}, test_loss: {test_loss}, test_acc: {test_acc}\")\n",
    "train_history = np.array(train_history)"
   ]
  },
  {
   "cell_type": "code",
   "execution_count": 39,
   "metadata": {
    "colab": {
     "base_uri": "https://localhost:8080/"
    },
    "executionInfo": {
     "elapsed": 286,
     "status": "ok",
     "timestamp": 1675479107121,
     "user": {
      "displayName": "Elvin Mark Munoz Vega",
      "userId": "10383162008080824866"
     },
     "user_tz": -540
    },
    "id": "dQB9astbHH5d",
    "outputId": "46c60666-2bce-44c2-a35e-43e13e21cc4f"
   },
   "outputs": [
    {
     "data": {
      "text/plain": [
       "<All keys matched successfully>"
      ]
     },
     "execution_count": 39,
     "metadata": {},
     "output_type": "execute_result"
    }
   ],
   "source": [
    "# If you have saved the model before\n",
    "model.load_state_dict(torch.load(\"models/cifar100_resnet.ckpt\"))"
   ]
  },
  {
   "cell_type": "code",
   "execution_count": 41,
   "metadata": {
    "colab": {
     "base_uri": "https://localhost:8080/",
     "height": 302
    },
    "executionInfo": {
     "elapsed": 453,
     "status": "ok",
     "timestamp": 1675479112485,
     "user": {
      "displayName": "Elvin Mark Munoz Vega",
      "userId": "10383162008080824866"
     },
     "user_tz": -540
    },
    "id": "wZDXC4qTUUuV",
    "outputId": "d3ce8be4-2cf8-495b-cb75-585b19c0e047"
   },
   "outputs": [
    {
     "name": "stdout",
     "output_type": "stream",
     "text": [
      "prediction = 26, actual = 26\n"
     ]
    },
    {
     "data": {
      "text/plain": [
       "<matplotlib.image.AxesImage at 0x7fe780305700>"
      ]
     },
     "execution_count": 41,
     "metadata": {},
     "output_type": "execute_result"
    },
    {
     "data": {
      "image/png": "[encoded data removed]",
      "text/plain": [
       "<Figure size 640x480 with 1 Axes>"
      ]
     },
     "metadata": {},
     "output_type": "display_data"
    }
   ],
   "source": [
    "# Testing the model\n",
    "x,y = test_ds[torch.randint(low=0,high=len(test_ds),size=(1,)).item()]\n",
    "model.eval()\n",
    "o = model(x.reshape((1,3,32,32)))\n",
    "y_pred = torch.argmax(o,axis=1).item()\n",
    "print(f\"prediction = {y_pred}, actual = {y}\")\n",
    "plt.imshow(x[0])"
   ]
  },
  {
   "cell_type": "code",
   "execution_count": 38,
   "metadata": {
    "id": "GtxfNhT5UWUK"
   },
   "outputs": [],
   "source": [
    "# Saving our model\n",
    "torch.save(model.state_dict(),\"models/cifar100_resnet.ckpt\")"
   ]
  },
  {
   "cell_type": "code",
   "execution_count": 42,
   "metadata": {
    "colab": {
     "base_uri": "https://localhost:8080/",
     "height": 338
    },
    "executionInfo": {
     "elapsed": 887,
     "status": "ok",
     "timestamp": 1675479116037,
     "user": {
      "displayName": "Elvin Mark Munoz Vega",
      "userId": "10383162008080824866"
     },
     "user_tz": -540
    },
    "id": "A6rVq5g8UaHZ",
    "outputId": "4d3dc396-3e33-49c6-8eb4-43465bf101f1"
   },
   "outputs": [
    {
     "data": {
      "text/plain": [
       "<matplotlib.legend.Legend at 0x7fe764c46940>"
      ]
     },
     "execution_count": 42,
     "metadata": {},
     "output_type": "execute_result"
    },
    {
     "data": {
      "image/png": "[encoded data removed]",
      "text/plain": [
       "<Figure size 1200x500 with 2 Axes>"
      ]
     },
     "metadata": {},
     "output_type": "display_data"
    }
   ],
   "source": [
    "# Plot the loss evolution\n",
    "fig,ax = plt.subplots(ncols=2,figsize=(12,5))\n",
    "ax[0].plot(train_history[:,0],label=\"train\")\n",
    "ax[0].plot(train_history[:,2],label=\"test\")\n",
    "ax[0].grid()\n",
    "ax[0].legend()\n",
    "# Plot the accuracy evolution\n",
    "ax[1].plot(train_history[:,1],label=\"train\")\n",
    "ax[1].plot(train_history[:,3],label=\"test\")\n",
    "ax[1].grid()\n",
    "ax[1].legend()"
   ]
  },
  {
   "cell_type": "code",
   "execution_count": null,
   "metadata": {
    "id": "Bs_tzhOp7EU1"
   },
   "outputs": [],
   "source": [
    "# # Download the data from kaggle\n",
    "# !pip install kaggle\n",
    "# !mkdir /root/.kaggle\n",
    "# !mv kaggle.json /root/.kaggle\n",
    "# !chmod 600 /root/.kaggle/kaggle.json\n",
    "# !kaggle datasets download -d ayuraj/asl-dataset\n",
    "# !unzip asl-dataset.zip\n",
    "# !mv asl_dataset/asl_dataset asl_dataset/test_asl_dataset \n",
    "# !mv asl_dataset/test_asl_dataset  ./\n",
    "# !mv asl_dataset train_asl_dataset\n",
    "# !mkdir asl_dataset\n",
    "# !mv ./train_asl_dataset ./asl_dataset/\n",
    "# !mv ./test_asl_dataset ./asl_dataset/\n",
    "# !mkdir datasets \n",
    "# !mv asl_dataset ./datasets/"
   ]
  },
  {
   "cell_type": "code",
   "execution_count": 45,
   "metadata": {
    "executionInfo": {
     "elapsed": 382,
     "status": "ok",
     "timestamp": 1675557405999,
     "user": {
      "displayName": "Elvin Mark Munoz Vega",
      "userId": "10383162008080824866"
     },
     "user_tz": -540
    },
    "id": "2AT124yh7i5G"
   },
   "outputs": [],
   "source": [
    "# When loading an image we need to transform the image into a tensor and maybe do some other operations like \n",
    "# resizing, remap the values of the pixel using a normal distribution, etc\n",
    "mytransform = torchvision.transforms.Compose([\n",
    "    torchvision.transforms.Resize((64,64)),\n",
    "    torchvision.transforms.ToTensor(),\n",
    "    torchvision.transforms.Normalize([0,0,0],[0.5,0.5,0.5],inplace=True),\n",
    "])"
   ]
  },
  {
   "cell_type": "code",
   "execution_count": 46,
   "metadata": {
    "executionInfo": {
     "elapsed": 261,
     "status": "ok",
     "timestamp": 1675557408209,
     "user": {
      "displayName": "Elvin Mark Munoz Vega",
      "userId": "10383162008080824866"
     },
     "user_tz": -540
    },
    "id": "7Tr1ZYQw3fdI"
   },
   "outputs": [],
   "source": [
    "# Create dataset based on images that are structured per classes into separated directories\n",
    "train_ds = torchvision.datasets.ImageFolder(root=\"./datasets/asl_dataset/train_asl_dataset\",transform=mytransform)\n",
    "test_ds = torchvision.datasets.ImageFolder(root=\"./datasets/asl_dataset/test_asl_dataset\",transform=mytransform)"
   ]
  },
  {
   "cell_type": "code",
   "execution_count": 47,
   "metadata": {
    "colab": {
     "base_uri": "https://localhost:8080/"
    },
    "executionInfo": {
     "elapsed": 254,
     "status": "ok",
     "timestamp": 1675557846478,
     "user": {
      "displayName": "Elvin Mark Munoz Vega",
      "userId": "10383162008080824866"
     },
     "user_tz": -540
    },
    "id": "TwhQSEgJ4XLS",
    "outputId": "869627f9-2808-4f5a-ad9d-98c8f69e4a90"
   },
   "outputs": [
    {
     "data": {
      "text/plain": [
       "(torch.Size([3, 64, 64]), 36)"
      ]
     },
     "execution_count": 47,
     "metadata": {},
     "output_type": "execute_result"
    }
   ],
   "source": [
    "train_ds[0][0].shape, len(train_ds.classes)"
   ]
  },
  {
   "cell_type": "code",
   "execution_count": 48,
   "metadata": {
    "executionInfo": {
     "elapsed": 2,
     "status": "ok",
     "timestamp": 1675557849294,
     "user": {
      "displayName": "Elvin Mark Munoz Vega",
      "userId": "10383162008080824866"
     },
     "user_tz": -540
    },
    "id": "k0Vb3Pyb4NeM"
   },
   "outputs": [],
   "source": [
    "# Create our dataloaders (batched)\n",
    "train_dl = torch.utils.data.DataLoader(train_ds, batch_size=128)\n",
    "test_dl = torch.utils.data.DataLoader(test_ds, batch_size=128)"
   ]
  },
  {
   "cell_type": "code",
   "execution_count": 49,
   "metadata": {
    "executionInfo": {
     "elapsed": 1,
     "status": "ok",
     "timestamp": 1675559343713,
     "user": {
      "displayName": "Elvin Mark Munoz Vega",
      "userId": "10383162008080824866"
     },
     "user_tz": -540
    },
    "id": "RJlVCIEE3vnv"
   },
   "outputs": [],
   "source": [
    "# Defining our model (simple convolutional layer)\n",
    "model = nn.Sequential(\n",
    "    make_conv_layer(3,16,kernel_size=7,stride=1), # N x 3 x 64 x 64 -> N x 16 x 29 x 29\n",
    "    make_conv_layer(16,32,kernel_size=3,stride=1), # N x 16 x 29 x 29 -> N x 32 x 13 x 13\n",
    "    make_conv_layer(32,64,kernel_size=3,stride=1), # N x 32 x 13 x 13 -> N x 64 x 5 x 5\n",
    "    nn.Flatten(), # N x 64 x 5 x 5 -> N x 3200\n",
    "    nn.Linear(1600,36).to(dev)\n",
    ")\n",
    "\n",
    "# Defining the optimizer to be used in the training\n",
    "optim = torch.optim.SGD(model.parameters(),lr=0.01)\n",
    "# Defining the loss function to be used\n",
    "crit = nn.CrossEntropyLoss()"
   ]
  },
  {
   "cell_type": "code",
   "execution_count": 50,
   "metadata": {
    "colab": {
     "base_uri": "https://localhost:8080/"
    },
    "executionInfo": {
     "elapsed": 487152,
     "status": "ok",
     "timestamp": 1675558582926,
     "user": {
      "displayName": "Elvin Mark Munoz Vega",
      "userId": "10383162008080824866"
     },
     "user_tz": -540
    },
    "id": "5a2SrxZE5gVU",
    "outputId": "364aa14c-ae79-4d3b-c3c8-bdfa7145d171"
   },
   "outputs": [
    {
     "name": "stderr",
     "output_type": "stream",
     "text": [
      "  7%|█████▌                                                                              | 1/15 [00:20<04:43, 20.22s/it]"
     ]
    },
    {
     "name": "stdout",
     "output_type": "stream",
     "text": [
      "train_loss: 5.363013219833374, train_acc: 2.107355833053589, test_loss: 3.9579914212226868, test_acc: 2.7833001613616943\n"
     ]
    },
    {
     "name": "stderr",
     "output_type": "stream",
     "text": [
      " 13%|███████████▏                                                                        | 2/15 [00:44<04:53, 22.59s/it]"
     ]
    },
    {
     "name": "stdout",
     "output_type": "stream",
     "text": [
      "train_loss: 4.021482765674591, train_acc: 8.429423332214355, test_loss: 3.5999173268675806, test_acc: 7.594433307647705\n"
     ]
    },
    {
     "name": "stderr",
     "output_type": "stream",
     "text": [
      " 20%|████████████████▊                                                                   | 3/15 [01:08<04:37, 23.16s/it]"
     ]
    },
    {
     "name": "stdout",
     "output_type": "stream",
     "text": [
      "train_loss: 3.0972362220287324, train_acc: 11.053677558898926, test_loss: 3.277294085919857, test_acc: 13.081510543823242\n"
     ]
    },
    {
     "name": "stderr",
     "output_type": "stream",
     "text": [
      " 27%|██████████████████████▍                                                             | 4/15 [01:31<04:16, 23.35s/it]"
     ]
    },
    {
     "name": "stdout",
     "output_type": "stream",
     "text": [
      "train_loss: 2.449266183376312, train_acc: 21.1530818939209, test_loss: 2.517575892806053, test_acc: 21.1530818939209\n"
     ]
    },
    {
     "name": "stderr",
     "output_type": "stream",
     "text": [
      " 33%|████████████████████████████                                                        | 5/15 [01:55<03:54, 23.41s/it]"
     ]
    },
    {
     "name": "stdout",
     "output_type": "stream",
     "text": [
      "train_loss: 1.8808701246976853, train_acc: 39.28429412841797, test_loss: 1.8135738223791122, test_acc: 38.33001708984375\n"
     ]
    },
    {
     "name": "stderr",
     "output_type": "stream",
     "text": [
      " 40%|█████████████████████████████████▌                                                  | 6/15 [02:22<03:41, 24.62s/it]"
     ]
    },
    {
     "name": "stdout",
     "output_type": "stream",
     "text": [
      "train_loss: 1.4482960015535356, train_acc: 55.029823303222656, test_loss: 1.5101855888962745, test_acc: 50.61629867553711\n"
     ]
    },
    {
     "name": "stderr",
     "output_type": "stream",
     "text": [
      " 47%|███████████████████████████████████████▏                                            | 7/15 [02:46<03:15, 24.43s/it]"
     ]
    },
    {
     "name": "stdout",
     "output_type": "stream",
     "text": [
      "train_loss: 1.181225088238716, train_acc: 62.70377731323242, test_loss: 1.3747402742505073, test_acc: 55.78528594970703\n"
     ]
    },
    {
     "name": "stderr",
     "output_type": "stream",
     "text": [
      " 53%|████████████████████████████████████████████▊                                       | 8/15 [03:10<02:49, 24.23s/it]"
     ]
    },
    {
     "name": "stdout",
     "output_type": "stream",
     "text": [
      "train_loss: 1.0371228128671646, train_acc: 66.56063842773438, test_loss: 1.4037213608622552, test_acc: 56.262428283691406\n"
     ]
    },
    {
     "name": "stderr",
     "output_type": "stream",
     "text": [
      " 60%|██████████████████████████████████████████████████▍                                 | 9/15 [03:33<02:22, 23.77s/it]"
     ]
    },
    {
     "name": "stdout",
     "output_type": "stream",
     "text": [
      "train_loss: 0.9335682794451714, train_acc: 69.3041763305664, test_loss: 1.5775334887206554, test_acc: 53.479122161865234\n"
     ]
    },
    {
     "name": "stderr",
     "output_type": "stream",
     "text": [
      " 67%|███████████████████████████████████████████████████████▎                           | 10/15 [03:56<01:57, 23.56s/it]"
     ]
    },
    {
     "name": "stdout",
     "output_type": "stream",
     "text": [
      "train_loss: 0.8398131020367146, train_acc: 72.7236557006836, test_loss: 1.4150860495865345, test_acc: 55.14910888671875\n"
     ]
    },
    {
     "name": "stderr",
     "output_type": "stream",
     "text": [
      " 73%|████████████████████████████████████████████████████████████▊                      | 11/15 [04:19<01:34, 23.51s/it]"
     ]
    },
    {
     "name": "stdout",
     "output_type": "stream",
     "text": [
      "train_loss: 0.7024537295103073, train_acc: 78.68787384033203, test_loss: 1.1378317542374135, test_acc: 62.26640319824219\n"
     ]
    },
    {
     "name": "stderr",
     "output_type": "stream",
     "text": [
      " 80%|██████████████████████████████████████████████████████████████████▍                | 12/15 [04:44<01:11, 23.82s/it]"
     ]
    },
    {
     "name": "stdout",
     "output_type": "stream",
     "text": [
      "train_loss: 0.6191795334219933, train_acc: 83.14115142822266, test_loss: 0.9606357380747795, test_acc: 67.2763442993164\n"
     ]
    },
    {
     "name": "stderr",
     "output_type": "stream",
     "text": [
      " 87%|███████████████████████████████████████████████████████████████████████▉           | 13/15 [05:08<00:48, 24.01s/it]"
     ]
    },
    {
     "name": "stdout",
     "output_type": "stream",
     "text": [
      "train_loss: 0.6043350115418434, train_acc: 83.14115142822266, test_loss: 1.1022654518485069, test_acc: 64.41352081298828\n"
     ]
    },
    {
     "name": "stderr",
     "output_type": "stream",
     "text": [
      " 93%|█████████████████████████████████████████████████████████████████████████████▍     | 14/15 [05:32<00:23, 23.89s/it]"
     ]
    },
    {
     "name": "stdout",
     "output_type": "stream",
     "text": [
      "train_loss: 0.6970935888588429, train_acc: 78.17097473144531, test_loss: 1.3157842818647623, test_acc: 62.425445556640625\n"
     ]
    },
    {
     "name": "stderr",
     "output_type": "stream",
     "text": [
      "100%|███████████████████████████████████████████████████████████████████████████████████| 15/15 [05:56<00:00, 23.77s/it]"
     ]
    },
    {
     "name": "stdout",
     "output_type": "stream",
     "text": [
      "train_loss: 0.7641513474285603, train_acc: 78.05168914794922, test_loss: 0.9470756476745009, test_acc: 74.19483184814453\n"
     ]
    },
    {
     "name": "stderr",
     "output_type": "stream",
     "text": [
      "\n"
     ]
    }
   ],
   "source": [
    "train_history = []\n",
    "# Trainig the model for 15 epochs\n",
    "for epoch in tqdm.tqdm(range(15)):\n",
    "    train_loss, train_acc = train_one_epoch(model,train_dl,crit,optim)\n",
    "    test_loss, test_acc = test_model(model, test_dl, crit)\n",
    "    train_history.append([train_loss,train_acc,test_loss,test_acc])\n",
    "    print(f\"train_loss: {train_loss}, train_acc: {train_acc}, test_loss: {test_loss}, test_acc: {test_acc}\")\n",
    "train_history = np.array(train_history)"
   ]
  },
  {
   "cell_type": "code",
   "execution_count": 56,
   "metadata": {
    "colab": {
     "base_uri": "https://localhost:8080/"
    },
    "executionInfo": {
     "elapsed": 3,
     "status": "ok",
     "timestamp": 1675559346471,
     "user": {
      "displayName": "Elvin Mark Munoz Vega",
      "userId": "10383162008080824866"
     },
     "user_tz": -540
    },
    "id": "B9s6rDFsC71l",
    "outputId": "6d333169-4593-46b6-fa4d-6c7dead0d3c1"
   },
   "outputs": [
    {
     "data": {
      "text/plain": [
       "<All keys matched successfully>"
      ]
     },
     "execution_count": 56,
     "metadata": {},
     "output_type": "execute_result"
    }
   ],
   "source": [
    "# If you have saved the model before\n",
    "model.load_state_dict(torch.load(\"models/asl_dataset_cnn.ckpt\"))"
   ]
  },
  {
   "cell_type": "code",
   "execution_count": 54,
   "metadata": {
    "colab": {
     "base_uri": "https://localhost:8080/",
     "height": 304
    },
    "executionInfo": {
     "elapsed": 441,
     "status": "ok",
     "timestamp": 1675558712813,
     "user": {
      "displayName": "Elvin Mark Munoz Vega",
      "userId": "10383162008080824866"
     },
     "user_tz": -540
    },
    "id": "ygWKya-d9tOh",
    "outputId": "3a54eb8d-c83f-4f5f-9521-8c1ea30499ec"
   },
   "outputs": [
    {
     "name": "stdout",
     "output_type": "stream",
     "text": [
      "prediction = 20, actual = 20\n"
     ]
    },
    {
     "data": {
      "text/plain": [
       "<matplotlib.image.AxesImage at 0x7fe795d9f520>"
      ]
     },
     "execution_count": 54,
     "metadata": {},
     "output_type": "execute_result"
    },
    {
     "data": {
      "image/png": "[encoded data removed]",
      "text/plain": [
       "<Figure size 640x480 with 1 Axes>"
      ]
     },
     "metadata": {},
     "output_type": "display_data"
    }
   ],
   "source": [
    "# Testing the model\n",
    "x,y = test_ds[torch.randint(low=0,high=len(test_ds),size=(1,)).item()]\n",
    "model.eval()\n",
    "o = model(x.reshape((1,3,64,64)))\n",
    "y_pred = torch.argmax(o,axis=1).item()\n",
    "print(f\"prediction = {y_pred}, actual = {y}\")\n",
    "plt.imshow(x[0])"
   ]
  },
  {
   "cell_type": "code",
   "execution_count": 55,
   "metadata": {
    "executionInfo": {
     "elapsed": 2,
     "status": "ok",
     "timestamp": 1675558707524,
     "user": {
      "displayName": "Elvin Mark Munoz Vega",
      "userId": "10383162008080824866"
     },
     "user_tz": -540
    },
    "id": "BYHlk4pTDANh"
   },
   "outputs": [],
   "source": [
    "# Saving our model\n",
    "torch.save(model.state_dict(),\"models/asl_dataset_cnn.ckpt\")"
   ]
  },
  {
   "cell_type": "code",
   "execution_count": 57,
   "metadata": {
    "id": "wYYUM8jFDZIU"
   },
   "outputs": [
    {
     "data": {
      "text/plain": [
       "<matplotlib.legend.Legend at 0x7fe795cd4fa0>"
      ]
     },
     "execution_count": 57,
     "metadata": {},
     "output_type": "execute_result"
    },
    {
     "data": {
      "image/png": "[encoded data removed]",
      "text/plain": [
       "<Figure size 1200x500 with 2 Axes>"
      ]
     },
     "metadata": {},
     "output_type": "display_data"
    }
   ],
   "source": [
    "# Plot the loss evolution\n",
    "fig,ax = plt.subplots(ncols=2,figsize=(12,5))\n",
    "ax[0].plot(train_history[:,0],label=\"train\")\n",
    "ax[0].plot(train_history[:,2],label=\"test\")\n",
    "ax[0].grid()\n",
    "ax[0].legend()\n",
    "# Plot the accuracy evolution\n",
    "ax[1].plot(train_history[:,1],label=\"train\")\n",
    "ax[1].plot(train_history[:,3],label=\"test\")\n",
    "ax[1].grid()\n",
    "ax[1].legend()"
   ]
  },
  {
   "cell_type": "code",
   "execution_count": 58,
   "metadata": {
    "executionInfo": {
     "elapsed": 391,
     "status": "ok",
     "timestamp": 1675559354051,
     "user": {
      "displayName": "Elvin Mark Munoz Vega",
      "userId": "10383162008080824866"
     },
     "user_tz": -540
    },
    "id": "5cWwocgyDDYI"
   },
   "outputs": [],
   "source": [
    "# Defining our model (simple convolutional layer)\n",
    "model = nn.Sequential(\n",
    "    ResnetBlock(3,16,kernel_size=7), # N x 3 x 64 x 64 -> N x 16 x 29 x 29\n",
    "    ResnetBlock(16,32), # N x 16 x 29 x 29 -> N x 32 x 14 x 14\n",
    "    ResnetBlock(32,64), # N x 32 x 14 x 14 -> N x 64 x 6 x 6\n",
    "    nn.Flatten(), # N x 64 x 6 x 6 -> N x 2304\n",
    "    nn.Linear(64 * 6 * 6,36).to(dev)\n",
    ")\n",
    "\n",
    "# Defining the optimizer to be used in the training\n",
    "optim = torch.optim.SGD(model.parameters(),lr=0.01)\n",
    "# Defining the loss function to be used\n",
    "crit = nn.CrossEntropyLoss()"
   ]
  },
  {
   "cell_type": "code",
   "execution_count": 59,
   "metadata": {
    "colab": {
     "base_uri": "https://localhost:8080/"
    },
    "executionInfo": {
     "elapsed": 241834,
     "status": "ok",
     "timestamp": 1675559597258,
     "user": {
      "displayName": "Elvin Mark Munoz Vega",
      "userId": "10383162008080824866"
     },
     "user_tz": -540
    },
    "id": "bJqnhGihDRiH",
    "outputId": "10768e2d-b921-49db-e67b-522c2b8d9935"
   },
   "outputs": [
    {
     "name": "stderr",
     "output_type": "stream",
     "text": [
      " 10%|████████▍                                                                           | 1/10 [00:22<03:23, 22.59s/it]"
     ]
    },
    {
     "name": "stdout",
     "output_type": "stream",
     "text": [
      "train_loss: 4.616236007213592, train_acc: 3.0616302490234375, test_loss: 3.362595635652542, test_acc: 3.896620035171509\n"
     ]
    },
    {
     "name": "stderr",
     "output_type": "stream",
     "text": [
      " 20%|████████████████▊                                                                   | 2/10 [00:44<02:56, 22.10s/it]"
     ]
    },
    {
     "name": "stdout",
     "output_type": "stream",
     "text": [
      "train_loss: 3.0555978417396545, train_acc: 14.512922286987305, test_loss: 2.418601195514202, test_acc: 26.36182975769043\n"
     ]
    },
    {
     "name": "stderr",
     "output_type": "stream",
     "text": [
      " 30%|█████████████████████████▏                                                          | 3/10 [01:06<02:35, 22.20s/it]"
     ]
    },
    {
     "name": "stdout",
     "output_type": "stream",
     "text": [
      "train_loss: 1.7140256136655807, train_acc: 49.82107162475586, test_loss: 2.3405360013246534, test_acc: 35.98409652709961\n"
     ]
    },
    {
     "name": "stderr",
     "output_type": "stream",
     "text": [
      " 40%|█████████████████████████████████▌                                                  | 4/10 [01:28<02:12, 22.01s/it]"
     ]
    },
    {
     "name": "stdout",
     "output_type": "stream",
     "text": [
      "train_loss: 1.1116189807653427, train_acc: 68.2306137084961, test_loss: 1.9946018628776074, test_acc: 46.08349609375\n"
     ]
    },
    {
     "name": "stderr",
     "output_type": "stream",
     "text": [
      " 50%|██████████████████████████████████████████                                          | 5/10 [01:50<01:50, 22.04s/it]"
     ]
    },
    {
     "name": "stdout",
     "output_type": "stream",
     "text": [
      "train_loss: 0.9840156033635139, train_acc: 72.3260498046875, test_loss: 1.467549315094948, test_acc: 54.47315979003906\n"
     ]
    },
    {
     "name": "stderr",
     "output_type": "stream",
     "text": [
      " 60%|██████████████████████████████████████████████████▍                                 | 6/10 [02:12<01:27, 21.91s/it]"
     ]
    },
    {
     "name": "stdout",
     "output_type": "stream",
     "text": [
      "train_loss: 0.7611910603940487, train_acc: 78.09144592285156, test_loss: 1.3243665799498558, test_acc: 60.039756774902344\n"
     ]
    },
    {
     "name": "stderr",
     "output_type": "stream",
     "text": [
      " 70%|██████████████████████████████████████████████████████████▊                         | 7/10 [02:34<01:06, 22.19s/it]"
     ]
    },
    {
     "name": "stdout",
     "output_type": "stream",
     "text": [
      "train_loss: 0.6299987517297267, train_acc: 81.98807525634766, test_loss: 1.0428899295628071, test_acc: 66.99800872802734\n"
     ]
    },
    {
     "name": "stderr",
     "output_type": "stream",
     "text": [
      " 80%|███████████████████████████████████████████████████████████████████▏                | 8/10 [02:56<00:44, 22.15s/it]"
     ]
    },
    {
     "name": "stdout",
     "output_type": "stream",
     "text": [
      "train_loss: 0.5082287520170212, train_acc: 87.3956298828125, test_loss: 0.912234540656209, test_acc: 70.6958236694336\n"
     ]
    },
    {
     "name": "stderr",
     "output_type": "stream",
     "text": [
      " 90%|███████████████████████████████████████████████████████████████████████████▌        | 9/10 [03:19<00:22, 22.25s/it]"
     ]
    },
    {
     "name": "stdout",
     "output_type": "stream",
     "text": [
      "train_loss: 0.3871791385114193, train_acc: 91.96819305419922, test_loss: 0.8730729341506958, test_acc: 75.46720123291016\n"
     ]
    },
    {
     "name": "stderr",
     "output_type": "stream",
     "text": [
      "100%|███████████████████████████████████████████████████████████████████████████████████| 10/10 [03:42<00:00, 22.23s/it]"
     ]
    },
    {
     "name": "stdout",
     "output_type": "stream",
     "text": [
      "train_loss: 0.39893047139048576, train_acc: 89.4234619140625, test_loss: 1.213045981898904, test_acc: 62.70377731323242\n"
     ]
    },
    {
     "name": "stderr",
     "output_type": "stream",
     "text": [
      "\n"
     ]
    }
   ],
   "source": [
    "train_history = []\n",
    "# Trainig the model for 10 epochs\n",
    "for epoch in tqdm.tqdm(range(10)):\n",
    "    train_loss, train_acc = train_one_epoch(model,train_dl,crit,optim)\n",
    "    test_loss, test_acc = test_model(model, test_dl, crit)\n",
    "    train_history.append([train_loss,train_acc,test_loss,test_acc])\n",
    "    print(f\"train_loss: {train_loss}, train_acc: {train_acc}, test_loss: {test_loss}, test_acc: {test_acc}\")\n",
    "train_history = np.array(train_history)"
   ]
  },
  {
   "cell_type": "code",
   "execution_count": 64,
   "metadata": {
    "id": "OaCDtc7mDiqx"
   },
   "outputs": [
    {
     "data": {
      "text/plain": [
       "<All keys matched successfully>"
      ]
     },
     "execution_count": 64,
     "metadata": {},
     "output_type": "execute_result"
    }
   ],
   "source": [
    "# If you have saved the model before\n",
    "model.load_state_dict(torch.load(\"models/asl_dataset_resnet.ckpt\"))"
   ]
  },
  {
   "cell_type": "code",
   "execution_count": 62,
   "metadata": {
    "colab": {
     "base_uri": "https://localhost:8080/",
     "height": 304
    },
    "executionInfo": {
     "elapsed": 291,
     "status": "ok",
     "timestamp": 1675559601932,
     "user": {
      "displayName": "Elvin Mark Munoz Vega",
      "userId": "10383162008080824866"
     },
     "user_tz": -540
    },
    "id": "uvPqTpJIDm5l",
    "outputId": "526fd24b-0291-4202-c3fe-d2b5055addd6"
   },
   "outputs": [
    {
     "name": "stdout",
     "output_type": "stream",
     "text": [
      "prediction = 7, actual = 7\n"
     ]
    },
    {
     "data": {
      "text/plain": [
       "<matplotlib.image.AxesImage at 0x7fe77e40d070>"
      ]
     },
     "execution_count": 62,
     "metadata": {},
     "output_type": "execute_result"
    },
    {
     "data": {
      "image/png": "[encoded data removed]",
      "text/plain": [
       "<Figure size 640x480 with 1 Axes>"
      ]
     },
     "metadata": {},
     "output_type": "display_data"
    }
   ],
   "source": [
    "# Testing the model\n",
    "x,y = test_ds[torch.randint(low=0,high=len(test_ds),size=(1,)).item()]\n",
    "model.eval()\n",
    "o = model(x.reshape((1,3,64,64)))\n",
    "y_pred = torch.argmax(o,axis=1).item()\n",
    "print(f\"prediction = {y_pred}, actual = {y}\")\n",
    "plt.imshow(x[0])"
   ]
  },
  {
   "cell_type": "code",
   "execution_count": 63,
   "metadata": {
    "executionInfo": {
     "elapsed": 2,
     "status": "ok",
     "timestamp": 1675559605159,
     "user": {
      "displayName": "Elvin Mark Munoz Vega",
      "userId": "10383162008080824866"
     },
     "user_tz": -540
    },
    "id": "I3_shXjxDoY5"
   },
   "outputs": [],
   "source": [
    "# Saving our model\n",
    "torch.save(model.state_dict(),\"models/asl_dataset_resnet.ckpt\")"
   ]
  },
  {
   "cell_type": "code",
   "execution_count": 65,
   "metadata": {
    "colab": {
     "base_uri": "https://localhost:8080/",
     "height": 338
    },
    "executionInfo": {
     "elapsed": 774,
     "status": "ok",
     "timestamp": 1675559608712,
     "user": {
      "displayName": "Elvin Mark Munoz Vega",
      "userId": "10383162008080824866"
     },
     "user_tz": -540
    },
    "id": "V547OxtSIh-i",
    "outputId": "2e4b2cd8-5927-46dc-cf30-25c28db0773c"
   },
   "outputs": [
    {
     "data": {
      "text/plain": [
       "<matplotlib.legend.Legend at 0x7fe77e3495b0>"
      ]
     },
     "execution_count": 65,
     "metadata": {},
     "output_type": "execute_result"
    },
    {
     "data": {
      "image/png": "[encoded data removed]",
      "text/plain": [
       "<Figure size 1200x500 with 2 Axes>"
      ]
     },
     "metadata": {},
     "output_type": "display_data"
    }
   ],
   "source": [
    "# Plot the loss evolution\n",
    "fig,ax = plt.subplots(ncols=2,figsize=(12,5))\n",
    "ax[0].plot(train_history[:,0],label=\"train\")\n",
    "ax[0].plot(train_history[:,2],label=\"test\")\n",
    "ax[0].grid()\n",
    "ax[0].legend()\n",
    "# Plot the accuracy evolution\n",
    "ax[1].plot(train_history[:,1],label=\"train\")\n",
    "ax[1].plot(train_history[:,3],label=\"test\")\n",
    "ax[1].grid()\n",
    "ax[1].legend()"
   ]
  }
 ],
 "metadata": {
  "colab": {
   "authorship_tag": "ABX9TyNWPogxyQQgs41Bj/TUhTV6",
   "provenance": []
  },
  "kernelspec": {
   "display_name": "Python 3 (ipykernel)",
   "language": "python",
   "name": "python3"
  },
  "language_info": {
   "codemirror_mode": {
    "name": "ipython",
    "version": 3
   },
   "file_extension": ".py",
   "mimetype": "text/x-python",
   "name": "python",
   "nbconvert_exporter": "python",
   "pygments_lexer": "ipython3",
   "version": "3.9.10"
  },
  "widgets": {
   "application/vnd.jupyter.widget-state+json": {
    "065146dc68cf4b1083e7dac3941d48b7": {
     "model_module": "@jupyter-widgets/base",
     "model_module_version": "1.2.0",
     "model_name": "LayoutModel",
     "state": {
      "_model_module": "@jupyter-widgets/base",
      "_model_module_version": "1.2.0",
      "_model_name": "LayoutModel",
      "_view_count": null,
      "_view_module": "@jupyter-widgets/base",
      "_view_module_version": "1.2.0",
      "_view_name": "LayoutView",
      "align_content": null,
      "align_items": null,
      "align_self": null,
      "border": null,
      "bottom": null,
      "display": null,
      "flex": null,
      "flex_flow": null,
      "grid_area": null,
      "grid_auto_columns": null,
      "grid_auto_flow": null,
      "grid_auto_rows": null,
      "grid_column": null,
      "grid_gap": null,
      "grid_row": null,
      "grid_template_areas": null,
      "grid_template_columns": null,
      "grid_template_rows": null,
      "height": null,
      "justify_content": null,
      "justify_items": null,
      "left": null,
      "margin": null,
      "max_height": null,
      "max_width": null,
      "min_height": null,
      "min_width": null,
      "object_fit": null,
      "object_position": null,
      "order": null,
      "overflow": null,
      "overflow_x": null,
      "overflow_y": null,
      "padding": null,
      "right": null,
      "top": null,
      "visibility": null,
      "width": null
     }
    },
    "17558e9319d34ad2b089effc3db46092": {
     "model_module": "@jupyter-widgets/controls",
     "model_module_version": "1.5.0",
     "model_name": "DescriptionStyleModel",
     "state": {
      "_model_module": "@jupyter-widgets/controls",
      "_model_module_version": "1.5.0",
      "_model_name": "DescriptionStyleModel",
      "_view_count": null,
      "_view_module": "@jupyter-widgets/base",
      "_view_module_version": "1.2.0",
      "_view_name": "StyleView",
      "description_width": ""
     }
    },
    "2c3c8f8735f54f35b3acd61952fcd9e0": {
     "model_module": "@jupyter-widgets/controls",
     "model_module_version": "1.5.0",
     "model_name": "HBoxModel",
     "state": {
      "_dom_classes": [],
      "_model_module": "@jupyter-widgets/controls",
      "_model_module_version": "1.5.0",
      "_model_name": "HBoxModel",
      "_view_count": null,
      "_view_module": "@jupyter-widgets/controls",
      "_view_module_version": "1.5.0",
      "_view_name": "HBoxView",
      "box_style": "",
      "children": [
       "IPY_MODEL_67bc8e14e42d4dac91ff99185e156218",
       "IPY_MODEL_fab895fe781e4c578f0ae51c7d6d6c47",
       "IPY_MODEL_37b317823b5e416ba7a5811f842e5fec"
      ],
      "layout": "IPY_MODEL_55e2f8c5773040fcb4fb050a27cf005c"
     }
    },
    "354fdc5d466046f892d7c41159a8e30a": {
     "model_module": "@jupyter-widgets/controls",
     "model_module_version": "1.5.0",
     "model_name": "DescriptionStyleModel",
     "state": {
      "_model_module": "@jupyter-widgets/controls",
      "_model_module_version": "1.5.0",
      "_model_name": "DescriptionStyleModel",
      "_view_count": null,
      "_view_module": "@jupyter-widgets/base",
      "_view_module_version": "1.2.0",
      "_view_name": "StyleView",
      "description_width": ""
     }
    },
    "37b317823b5e416ba7a5811f842e5fec": {
     "model_module": "@jupyter-widgets/controls",
     "model_module_version": "1.5.0",
     "model_name": "HTMLModel",
     "state": {
      "_dom_classes": [],
      "_model_module": "@jupyter-widgets/controls",
      "_model_module_version": "1.5.0",
      "_model_name": "HTMLModel",
      "_view_count": null,
      "_view_module": "@jupyter-widgets/controls",
      "_view_module_version": "1.5.0",
      "_view_name": "HTMLView",
      "description": "",
      "description_tooltip": null,
      "layout": "IPY_MODEL_b5224b01c4f3475fa740cbc22284bf37",
      "placeholder": "​",
      "style": "IPY_MODEL_66bfafe92114437f8b21691d257d859c",
      "value": " 170498071/170498071 [00:04&lt;00:00, 45443649.61it/s]"
     }
    },
    "55e2f8c5773040fcb4fb050a27cf005c": {
     "model_module": "@jupyter-widgets/base",
     "model_module_version": "1.2.0",
     "model_name": "LayoutModel",
     "state": {
      "_model_module": "@jupyter-widgets/base",
      "_model_module_version": "1.2.0",
      "_model_name": "LayoutModel",
      "_view_count": null,
      "_view_module": "@jupyter-widgets/base",
      "_view_module_version": "1.2.0",
      "_view_name": "LayoutView",
      "align_content": null,
      "align_items": null,
      "align_self": null,
      "border": null,
      "bottom": null,
      "display": null,
      "flex": null,
      "flex_flow": null,
      "grid_area": null,
      "grid_auto_columns": null,
      "grid_auto_flow": null,
      "grid_auto_rows": null,
      "grid_column": null,
      "grid_gap": null,
      "grid_row": null,
      "grid_template_areas": null,
      "grid_template_columns": null,
      "grid_template_rows": null,
      "height": null,
      "justify_content": null,
      "justify_items": null,
      "left": null,
      "margin": null,
      "max_height": null,
      "max_width": null,
      "min_height": null,
      "min_width": null,
      "object_fit": null,
      "object_position": null,
      "order": null,
      "overflow": null,
      "overflow_x": null,
      "overflow_y": null,
      "padding": null,
      "right": null,
      "top": null,
      "visibility": null,
      "width": null
     }
    },
    "5eb104df7cbb4ca899eaea71ec23b54a": {
     "model_module": "@jupyter-widgets/controls",
     "model_module_version": "1.5.0",
     "model_name": "DescriptionStyleModel",
     "state": {
      "_model_module": "@jupyter-widgets/controls",
      "_model_module_version": "1.5.0",
      "_model_name": "DescriptionStyleModel",
      "_view_count": null,
      "_view_module": "@jupyter-widgets/base",
      "_view_module_version": "1.2.0",
      "_view_name": "StyleView",
      "description_width": ""
     }
    },
    "60dbd53ed2d345d1b739de339d7fa564": {
     "model_module": "@jupyter-widgets/controls",
     "model_module_version": "1.5.0",
     "model_name": "FloatProgressModel",
     "state": {
      "_dom_classes": [],
      "_model_module": "@jupyter-widgets/controls",
      "_model_module_version": "1.5.0",
      "_model_name": "FloatProgressModel",
      "_view_count": null,
      "_view_module": "@jupyter-widgets/controls",
      "_view_module_version": "1.5.0",
      "_view_name": "ProgressView",
      "bar_style": "success",
      "description": "",
      "description_tooltip": null,
      "layout": "IPY_MODEL_b83b8ca34c6b4a92a0ead13224d27bfb",
      "max": 169001437,
      "min": 0,
      "orientation": "horizontal",
      "style": "IPY_MODEL_f0be599121d646bbb62c96419edb1d57",
      "value": 169001437
     }
    },
    "66bfafe92114437f8b21691d257d859c": {
     "model_module": "@jupyter-widgets/controls",
     "model_module_version": "1.5.0",
     "model_name": "DescriptionStyleModel",
     "state": {
      "_model_module": "@jupyter-widgets/controls",
      "_model_module_version": "1.5.0",
      "_model_name": "DescriptionStyleModel",
      "_view_count": null,
      "_view_module": "@jupyter-widgets/base",
      "_view_module_version": "1.2.0",
      "_view_name": "StyleView",
      "description_width": ""
     }
    },
    "677f90192e3941ae8025ce3b57071e93": {
     "model_module": "@jupyter-widgets/controls",
     "model_module_version": "1.5.0",
     "model_name": "HBoxModel",
     "state": {
      "_dom_classes": [],
      "_model_module": "@jupyter-widgets/controls",
      "_model_module_version": "1.5.0",
      "_model_name": "HBoxModel",
      "_view_count": null,
      "_view_module": "@jupyter-widgets/controls",
      "_view_module_version": "1.5.0",
      "_view_name": "HBoxView",
      "box_style": "",
      "children": [
       "IPY_MODEL_6afb08b49f254530833a2478ca2a4503",
       "IPY_MODEL_60dbd53ed2d345d1b739de339d7fa564",
       "IPY_MODEL_cfe522d754974da0be6972fff1c3eff9"
      ],
      "layout": "IPY_MODEL_c9e7d7fec8e54591b17131a764660e94"
     }
    },
    "67bc8e14e42d4dac91ff99185e156218": {
     "model_module": "@jupyter-widgets/controls",
     "model_module_version": "1.5.0",
     "model_name": "HTMLModel",
     "state": {
      "_dom_classes": [],
      "_model_module": "@jupyter-widgets/controls",
      "_model_module_version": "1.5.0",
      "_model_name": "HTMLModel",
      "_view_count": null,
      "_view_module": "@jupyter-widgets/controls",
      "_view_module_version": "1.5.0",
      "_view_name": "HTMLView",
      "description": "",
      "description_tooltip": null,
      "layout": "IPY_MODEL_6809a3406fbb455bafb3f0d944f66ef1",
      "placeholder": "​",
      "style": "IPY_MODEL_5eb104df7cbb4ca899eaea71ec23b54a",
      "value": "100%"
     }
    },
    "6809a3406fbb455bafb3f0d944f66ef1": {
     "model_module": "@jupyter-widgets/base",
     "model_module_version": "1.2.0",
     "model_name": "LayoutModel",
     "state": {
      "_model_module": "@jupyter-widgets/base",
      "_model_module_version": "1.2.0",
      "_model_name": "LayoutModel",
      "_view_count": null,
      "_view_module": "@jupyter-widgets/base",
      "_view_module_version": "1.2.0",
      "_view_name": "LayoutView",
      "align_content": null,
      "align_items": null,
      "align_self": null,
      "border": null,
      "bottom": null,
      "display": null,
      "flex": null,
      "flex_flow": null,
      "grid_area": null,
      "grid_auto_columns": null,
      "grid_auto_flow": null,
      "grid_auto_rows": null,
      "grid_column": null,
      "grid_gap": null,
      "grid_row": null,
      "grid_template_areas": null,
      "grid_template_columns": null,
      "grid_template_rows": null,
      "height": null,
      "justify_content": null,
      "justify_items": null,
      "left": null,
      "margin": null,
      "max_height": null,
      "max_width": null,
      "min_height": null,
      "min_width": null,
      "object_fit": null,
      "object_position": null,
      "order": null,
      "overflow": null,
      "overflow_x": null,
      "overflow_y": null,
      "padding": null,
      "right": null,
      "top": null,
      "visibility": null,
      "width": null
     }
    },
    "6afb08b49f254530833a2478ca2a4503": {
     "model_module": "@jupyter-widgets/controls",
     "model_module_version": "1.5.0",
     "model_name": "HTMLModel",
     "state": {
      "_dom_classes": [],
      "_model_module": "@jupyter-widgets/controls",
      "_model_module_version": "1.5.0",
      "_model_name": "HTMLModel",
      "_view_count": null,
      "_view_module": "@jupyter-widgets/controls",
      "_view_module_version": "1.5.0",
      "_view_name": "HTMLView",
      "description": "",
      "description_tooltip": null,
      "layout": "IPY_MODEL_b4257c3d7c1e4ce9a21300b3cfcedfd3",
      "placeholder": "​",
      "style": "IPY_MODEL_354fdc5d466046f892d7c41159a8e30a",
      "value": "100%"
     }
    },
    "76c888746cb04c8d91bc0571acc2df20": {
     "model_module": "@jupyter-widgets/base",
     "model_module_version": "1.2.0",
     "model_name": "LayoutModel",
     "state": {
      "_model_module": "@jupyter-widgets/base",
      "_model_module_version": "1.2.0",
      "_model_name": "LayoutModel",
      "_view_count": null,
      "_view_module": "@jupyter-widgets/base",
      "_view_module_version": "1.2.0",
      "_view_name": "LayoutView",
      "align_content": null,
      "align_items": null,
      "align_self": null,
      "border": null,
      "bottom": null,
      "display": null,
      "flex": null,
      "flex_flow": null,
      "grid_area": null,
      "grid_auto_columns": null,
      "grid_auto_flow": null,
      "grid_auto_rows": null,
      "grid_column": null,
      "grid_gap": null,
      "grid_row": null,
      "grid_template_areas": null,
      "grid_template_columns": null,
      "grid_template_rows": null,
      "height": null,
      "justify_content": null,
      "justify_items": null,
      "left": null,
      "margin": null,
      "max_height": null,
      "max_width": null,
      "min_height": null,
      "min_width": null,
      "object_fit": null,
      "object_position": null,
      "order": null,
      "overflow": null,
      "overflow_x": null,
      "overflow_y": null,
      "padding": null,
      "right": null,
      "top": null,
      "visibility": null,
      "width": null
     }
    },
    "9720bb6301dd4cbd98ddc4500f164640": {
     "model_module": "@jupyter-widgets/controls",
     "model_module_version": "1.5.0",
     "model_name": "ProgressStyleModel",
     "state": {
      "_model_module": "@jupyter-widgets/controls",
      "_model_module_version": "1.5.0",
      "_model_name": "ProgressStyleModel",
      "_view_count": null,
      "_view_module": "@jupyter-widgets/base",
      "_view_module_version": "1.2.0",
      "_view_name": "StyleView",
      "bar_color": null,
      "description_width": ""
     }
    },
    "b4257c3d7c1e4ce9a21300b3cfcedfd3": {
     "model_module": "@jupyter-widgets/base",
     "model_module_version": "1.2.0",
     "model_name": "LayoutModel",
     "state": {
      "_model_module": "@jupyter-widgets/base",
      "_model_module_version": "1.2.0",
      "_model_name": "LayoutModel",
      "_view_count": null,
      "_view_module": "@jupyter-widgets/base",
      "_view_module_version": "1.2.0",
      "_view_name": "LayoutView",
      "align_content": null,
      "align_items": null,
      "align_self": null,
      "border": null,
      "bottom": null,
      "display": null,
      "flex": null,
      "flex_flow": null,
      "grid_area": null,
      "grid_auto_columns": null,
      "grid_auto_flow": null,
      "grid_auto_rows": null,
      "grid_column": null,
      "grid_gap": null,
      "grid_row": null,
      "grid_template_areas": null,
      "grid_template_columns": null,
      "grid_template_rows": null,
      "height": null,
      "justify_content": null,
      "justify_items": null,
      "left": null,
      "margin": null,
      "max_height": null,
      "max_width": null,
      "min_height": null,
      "min_width": null,
      "object_fit": null,
      "object_position": null,
      "order": null,
      "overflow": null,
      "overflow_x": null,
      "overflow_y": null,
      "padding": null,
      "right": null,
      "top": null,
      "visibility": null,
      "width": null
     }
    },
    "b5224b01c4f3475fa740cbc22284bf37": {
     "model_module": "@jupyter-widgets/base",
     "model_module_version": "1.2.0",
     "model_name": "LayoutModel",
     "state": {
      "_model_module": "@jupyter-widgets/base",
      "_model_module_version": "1.2.0",
      "_model_name": "LayoutModel",
      "_view_count": null,
      "_view_module": "@jupyter-widgets/base",
      "_view_module_version": "1.2.0",
      "_view_name": "LayoutView",
      "align_content": null,
      "align_items": null,
      "align_self": null,
      "border": null,
      "bottom": null,
      "display": null,
      "flex": null,
      "flex_flow": null,
      "grid_area": null,
      "grid_auto_columns": null,
      "grid_auto_flow": null,
      "grid_auto_rows": null,
      "grid_column": null,
      "grid_gap": null,
      "grid_row": null,
      "grid_template_areas": null,
      "grid_template_columns": null,
      "grid_template_rows": null,
      "height": null,
      "justify_content": null,
      "justify_items": null,
      "left": null,
      "margin": null,
      "max_height": null,
      "max_width": null,
      "min_height": null,
      "min_width": null,
      "object_fit": null,
      "object_position": null,
      "order": null,
      "overflow": null,
      "overflow_x": null,
      "overflow_y": null,
      "padding": null,
      "right": null,
      "top": null,
      "visibility": null,
      "width": null
     }
    },
    "b83b8ca34c6b4a92a0ead13224d27bfb": {
     "model_module": "@jupyter-widgets/base",
     "model_module_version": "1.2.0",
     "model_name": "LayoutModel",
     "state": {
      "_model_module": "@jupyter-widgets/base",
      "_model_module_version": "1.2.0",
      "_model_name": "LayoutModel",
      "_view_count": null,
      "_view_module": "@jupyter-widgets/base",
      "_view_module_version": "1.2.0",
      "_view_name": "LayoutView",
      "align_content": null,
      "align_items": null,
      "align_self": null,
      "border": null,
      "bottom": null,
      "display": null,
      "flex": null,
      "flex_flow": null,
      "grid_area": null,
      "grid_auto_columns": null,
      "grid_auto_flow": null,
      "grid_auto_rows": null,
      "grid_column": null,
      "grid_gap": null,
      "grid_row": null,
      "grid_template_areas": null,
      "grid_template_columns": null,
      "grid_template_rows": null,
      "height": null,
      "justify_content": null,
      "justify_items": null,
      "left": null,
      "margin": null,
      "max_height": null,
      "max_width": null,
      "min_height": null,
      "min_width": null,
      "object_fit": null,
      "object_position": null,
      "order": null,
      "overflow": null,
      "overflow_x": null,
      "overflow_y": null,
      "padding": null,
      "right": null,
      "top": null,
      "visibility": null,
      "width": null
     }
    },
    "c9e7d7fec8e54591b17131a764660e94": {
     "model_module": "@jupyter-widgets/base",
     "model_module_version": "1.2.0",
     "model_name": "LayoutModel",
     "state": {
      "_model_module": "@jupyter-widgets/base",
      "_model_module_version": "1.2.0",
      "_model_name": "LayoutModel",
      "_view_count": null,
      "_view_module": "@jupyter-widgets/base",
      "_view_module_version": "1.2.0",
      "_view_name": "LayoutView",
      "align_content": null,
      "align_items": null,
      "align_self": null,
      "border": null,
      "bottom": null,
      "display": null,
      "flex": null,
      "flex_flow": null,
      "grid_area": null,
      "grid_auto_columns": null,
      "grid_auto_flow": null,
      "grid_auto_rows": null,
      "grid_column": null,
      "grid_gap": null,
      "grid_row": null,
      "grid_template_areas": null,
      "grid_template_columns": null,
      "grid_template_rows": null,
      "height": null,
      "justify_content": null,
      "justify_items": null,
      "left": null,
      "margin": null,
      "max_height": null,
      "max_width": null,
      "min_height": null,
      "min_width": null,
      "object_fit": null,
      "object_position": null,
      "order": null,
      "overflow": null,
      "overflow_x": null,
      "overflow_y": null,
      "padding": null,
      "right": null,
      "top": null,
      "visibility": null,
      "width": null
     }
    },
    "cfe522d754974da0be6972fff1c3eff9": {
     "model_module": "@jupyter-widgets/controls",
     "model_module_version": "1.5.0",
     "model_name": "HTMLModel",
     "state": {
      "_dom_classes": [],
      "_model_module": "@jupyter-widgets/controls",
      "_model_module_version": "1.5.0",
      "_model_name": "HTMLModel",
      "_view_count": null,
      "_view_module": "@jupyter-widgets/controls",
      "_view_module_version": "1.5.0",
      "_view_name": "HTMLView",
      "description": "",
      "description_tooltip": null,
      "layout": "IPY_MODEL_76c888746cb04c8d91bc0571acc2df20",
      "placeholder": "​",
      "style": "IPY_MODEL_17558e9319d34ad2b089effc3db46092",
      "value": " 169001437/169001437 [00:03&lt;00:00, 49034316.94it/s]"
     }
    },
    "f0be599121d646bbb62c96419edb1d57": {
     "model_module": "@jupyter-widgets/controls",
     "model_module_version": "1.5.0",
     "model_name": "ProgressStyleModel",
     "state": {
      "_model_module": "@jupyter-widgets/controls",
      "_model_module_version": "1.5.0",
      "_model_name": "ProgressStyleModel",
      "_view_count": null,
      "_view_module": "@jupyter-widgets/base",
      "_view_module_version": "1.2.0",
      "_view_name": "StyleView",
      "bar_color": null,
      "description_width": ""
     }
    },
    "fab895fe781e4c578f0ae51c7d6d6c47": {
     "model_module": "@jupyter-widgets/controls",
     "model_module_version": "1.5.0",
     "model_name": "FloatProgressModel",
     "state": {
      "_dom_classes": [],
      "_model_module": "@jupyter-widgets/controls",
      "_model_module_version": "1.5.0",
      "_model_name": "FloatProgressModel",
      "_view_count": null,
      "_view_module": "@jupyter-widgets/controls",
      "_view_module_version": "1.5.0",
      "_view_name": "ProgressView",
      "bar_style": "success",
      "description": "",
      "description_tooltip": null,
      "layout": "IPY_MODEL_065146dc68cf4b1083e7dac3941d48b7",
      "max": 170498071,
      "min": 0,
      "orientation": "horizontal",
      "style": "IPY_MODEL_9720bb6301dd4cbd98ddc4500f164640",
      "value": 170498071
     }
    }
   }
  }
 },
 "nbformat": 4,
 "nbformat_minor": 4
}
