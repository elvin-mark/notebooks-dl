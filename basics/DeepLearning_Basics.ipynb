{
 "cells": [
  {
   "cell_type": "code",
   "execution_count": 1,
   "id": "40ee9c20-8e4e-4bfe-a001-2ac74322fddb",
   "metadata": {
    "id": "40ee9c20-8e4e-4bfe-a001-2ac74322fddb"
   },
   "outputs": [],
   "source": [
    "import torch \n",
    "import torch.nn as nn\n",
    "from sklearn.datasets import load_digits\n",
    "import matplotlib.pyplot as plt"
   ]
  },
  {
   "cell_type": "markdown",
   "id": "602e5de1-7251-4e47-904e-4ec41da933ed",
   "metadata": {
    "id": "602e5de1-7251-4e47-904e-4ec41da933ed",
    "tags": []
   },
   "source": [
    "# Multilayer Perceptron"
   ]
  },
  {
   "cell_type": "markdown",
   "id": "5c5546d4-4cd5-44c5-bf56-336f1344c7ff",
   "metadata": {
    "id": "5c5546d4-4cd5-44c5-bf56-336f1344c7ff"
   },
   "source": [
    "Let's start with the most simple neural network out there: the Multilayer Perceptron. This neural network model just consists on sequential multiple linear transformations with some activation functions in between. These activation functions are the ones that gave the non-linear properties to the model."
   ]
  },
  {
   "cell_type": "code",
   "execution_count": 2,
   "id": "368f3745-f732-4780-893a-d1c9fbfec249",
   "metadata": {
    "id": "368f3745-f732-4780-893a-d1c9fbfec249"
   },
   "outputs": [],
   "source": [
    "\"\"\"\n",
    "Defining the dataset\n",
    "\n",
    "In this case we are using the simple digits dataset, which consists on 8x8 gray scaled images of written numbers 0-9 in a very low r\n",
    "\"\"\"\n",
    "class DigitsDataset:\n",
    "    def __init__(self):\n",
    "        digits_data_ = load_digits()\n",
    "        self.imgs = digits_data_.images.reshape((-1,1,8,8)) / 16.0\n",
    "        self.target = digits_data_.target\n",
    "    def __getitem__(self,idx):\n",
    "        return torch.from_numpy(self.imgs[idx]).float(), self.target[idx]\n",
    "    def __len__(self):\n",
    "        return len(self.imgs)"
   ]
  },
  {
   "cell_type": "code",
   "execution_count": 3,
   "id": "8177c570-afc0-4a1a-9225-fc1e4776a2be",
   "metadata": {
    "id": "8177c570-afc0-4a1a-9225-fc1e4776a2be"
   },
   "outputs": [],
   "source": [
    "# Creating the digits dataset object\n",
    "digits_ds = DigitsDataset()"
   ]
  },
  {
   "cell_type": "code",
   "execution_count": 4,
   "id": "db3d0cfd-7315-46d0-a870-363b6ab52787",
   "metadata": {
    "id": "db3d0cfd-7315-46d0-a870-363b6ab52787"
   },
   "outputs": [],
   "source": [
    "# Splitting the dataset into train and test dataset\n",
    "N = len(digits_ds)\n",
    "train_size = int(0.8*N)\n",
    "test_size = N - train_size\n",
    "train_ds, test_ds = torch.utils.data.random_split(digits_ds,[train_size, test_size])"
   ]
  },
  {
   "cell_type": "code",
   "execution_count": 5,
   "id": "a86145ba-5828-4ddd-a924-21280cbcb699",
   "metadata": {
    "id": "a86145ba-5828-4ddd-a924-21280cbcb699"
   },
   "outputs": [],
   "source": [
    "# Creating the datataloaders\n",
    "train_dl = torch.utils.data.DataLoader(train_ds,batch_size=32)\n",
    "test_dl = torch.utils.data.DataLoader(test_ds,batch_size=32)"
   ]
  },
  {
   "cell_type": "code",
   "execution_count": 6,
   "id": "4f3fe3cb-6c32-4743-b4fd-619f8a37c2ee",
   "metadata": {
    "id": "4f3fe3cb-6c32-4743-b4fd-619f8a37c2ee"
   },
   "outputs": [],
   "source": [
    "# Creating a simple MLP\n",
    "model = nn.Sequential(\n",
    "    nn.Flatten(),\n",
    "    nn.Linear(64,32),\n",
    "    nn.ReLU(inplace=True),\n",
    "    nn.Linear(32,10)\n",
    ")\n",
    "\"\"\"\n",
    "To train the model we need to measure how well the model is doing with respect the dataset. \n",
    "To do so, we use a loss function proper for the task that is being handled.\n",
    "\n",
    "In this case, the task is image classification and thus the most proper loss function is the Cross Entropy Loss\n",
    "\"\"\"\n",
    "crit = nn.CrossEntropyLoss()\n",
    "\n",
    "\"\"\"\n",
    "Once we calculate the loss and performa the backpropagation to calculate the gradient of the loss w.r.t. \n",
    "each parameter, we need a way to update the parameters using the gradient. This is called optimization. \n",
    "The simplest optimization method there is, it is the SGD. Which just follows the negative of the gradient scaled by\n",
    "a factor called learning rate.\n",
    "\"\"\"\n",
    "optim = torch.optim.SGD(model.parameters(),lr=0.1)"
   ]
  },
  {
   "cell_type": "code",
   "execution_count": 7,
   "id": "226b36b5-cf65-45ed-9040-5c5e18662585",
   "metadata": {
    "id": "226b36b5-cf65-45ed-9040-5c5e18662585",
    "outputId": "df008fd4-793d-460d-ebf4-cdaa87c057e5"
   },
   "outputs": [
    {
     "name": "stdout",
     "output_type": "stream",
     "text": [
      "2.2143691486782497\n",
      "1.8418954372406007\n",
      "1.2355459716584947\n",
      "0.7784636000792186\n",
      "0.5452256381511689\n",
      "0.42059323456552294\n",
      "0.3455323312017653\n",
      "0.2961128963364495\n",
      "0.2613716446691089\n",
      "0.23556177549892002\n"
     ]
    }
   ],
   "source": [
    "# Training the model\n",
    "for epoch in range(10):\n",
    "    tot_loss = 0\n",
    "    for x,y in train_dl:\n",
    "        # Set the gradients of all parameters to zero \n",
    "        # Since the when we perform backpropagation, the gradients accumulates\n",
    "        optim.zero_grad()\n",
    "        # Forward the current input\n",
    "        o = model(x)\n",
    "        # Calculate the loss\n",
    "        l = crit(o,y)\n",
    "        tot_loss += l.item()\n",
    "        # Backpropagate\n",
    "        l.backward()\n",
    "        # Update the parameters using the chosen optimizer\n",
    "        optim.step()\n",
    "    print(tot_loss/len(train_dl))"
   ]
  },
  {
   "cell_type": "markdown",
   "id": "1baba41f-7a96-4bd1-a812-1db6e7b3f7a1",
   "metadata": {
    "id": "1baba41f-7a96-4bd1-a812-1db6e7b3f7a1",
    "tags": []
   },
   "source": [
    "# Convolutional Neural Network"
   ]
  },
  {
   "cell_type": "markdown",
   "id": "bf663031-9586-4c6e-8ffd-2fa7d58ccff6",
   "metadata": {
    "id": "bf663031-9586-4c6e-8ffd-2fa7d58ccff6"
   },
   "source": [
    "The operation of convolution helps to extract spatial features from the input data."
   ]
  },
  {
   "cell_type": "code",
   "execution_count": 8,
   "id": "d26f3f3e-7102-4e42-a750-5a4dab864222",
   "metadata": {
    "id": "d26f3f3e-7102-4e42-a750-5a4dab864222"
   },
   "outputs": [],
   "source": [
    "\"\"\"\n",
    "Defining the model\n",
    "The convolutional layers (along with the activation functions and pooling layers) are in charge of extract \n",
    "features from the input, while the last layer (linear) is in charge of classify those features into the \n",
    "available classes\n",
    "\"\"\"\n",
    "model = nn.Sequential(\n",
    "    nn.Conv2d(1,16,3,padding=1),\n",
    "    nn.ReLU(inplace=True),\n",
    "    nn.MaxPool2d(kernel_size=2),\n",
    "    nn.Conv2d(16,32,3,padding=1),\n",
    "    nn.ReLU(inplace=True),\n",
    "    nn.MaxPool2d(kernel_size=2),\n",
    "    nn.Conv2d(32,32,3,padding=1),\n",
    "    nn.ReLU(inplace=True),\n",
    "    nn.MaxPool2d(kernel_size=2),\n",
    "    nn.Flatten(),\n",
    "    nn.Linear(32,10)\n",
    ")\n",
    "# Since this is still a classfication problem we are using Cross Entropy Loss as our loss function\n",
    "crit = nn.CrossEntropyLoss()\n",
    "# We are also still using the SGD optimizer\n",
    "optim = torch.optim.SGD(model.parameters(),lr=0.1)"
   ]
  },
  {
   "cell_type": "code",
   "execution_count": 9,
   "id": "7e76e6f1-4733-474a-81e4-9f3095fb24bf",
   "metadata": {
    "id": "7e76e6f1-4733-474a-81e4-9f3095fb24bf",
    "outputId": "bc1fa949-77fe-4760-bcd0-bf1f60646461"
   },
   "outputs": [
    {
     "name": "stdout",
     "output_type": "stream",
     "text": [
      "2.2938626872168646\n",
      "2.2451504389444987\n",
      "2.017456070582072\n",
      "1.5283453702926635\n",
      "0.9413771099514432\n",
      "0.5790809181001452\n",
      "0.40671540002028145\n",
      "0.3171357105175654\n",
      "0.26361949923965666\n",
      "0.2122615560889244\n"
     ]
    }
   ],
   "source": [
    "# Traininng process: same as before\n",
    "for epoch in range(10):\n",
    "    tot_loss = 0\n",
    "    for x,y in train_dl:\n",
    "        optim.zero_grad()\n",
    "        o = model(x)\n",
    "        l = crit(o,y)\n",
    "        tot_loss += l.item()\n",
    "        l.backward()\n",
    "        optim.step()\n",
    "    print(tot_loss/len(train_dl))"
   ]
  },
  {
   "cell_type": "markdown",
   "id": "395a5279-e762-4c30-95ae-87027e2575e0",
   "metadata": {
    "id": "395a5279-e762-4c30-95ae-87027e2575e0"
   },
   "source": [
    "# Skip connections and Residual Networks"
   ]
  },
  {
   "cell_type": "markdown",
   "id": "4d45286e-0717-40ff-9aa8-7a592a3fd469",
   "metadata": {
    "id": "4d45286e-0717-40ff-9aa8-7a592a3fd469"
   },
   "source": [
    "When training deep neural networks, we face a problem called vanishing gradient problem. This problem is due to the fact that when backpropagating the gradient (in other words applying the chain rule) the gradient becomes so small for the deeper layers that its training becomes extremely slow and unstable. Thus, in order to prevent this we use skip connections (connecting layers that are not consecutive) so the gradient has an alternative path where it can skip some layers and avoid being diminished. "
   ]
  },
  {
   "cell_type": "code",
   "execution_count": 10,
   "id": "fd59b378-d209-4cb3-94aa-8d6bd3b69897",
   "metadata": {
    "id": "fd59b378-d209-4cb3-94aa-8d6bd3b69897"
   },
   "outputs": [],
   "source": [
    "# Defining the basic residual block\n",
    "class BasicResidualBlock(nn.Module):\n",
    "    def __init__(self, in_planes, out_planes):\n",
    "        super().__init__()\n",
    "        self.direct = nn.Sequential(\n",
    "            nn.Conv2d(in_planes, out_planes,3,padding=1),\n",
    "            nn.BatchNorm2d(out_planes),\n",
    "            nn.ReLU(inplace=True),\n",
    "            nn.Conv2d(out_planes,out_planes,1),\n",
    "            nn.BatchNorm2d(out_planes)\n",
    "        )\n",
    "        \n",
    "        self.shortcut = nn.Sequential()\n",
    "        if in_planes != out_planes:\n",
    "            self.shortcut = nn.Sequential(\n",
    "                nn.Conv2d(in_planes, out_planes,1),\n",
    "                nn.BatchNorm2d(out_planes)\n",
    "            )\n",
    "        self.relu = nn.ReLU(inplace=True)\n",
    "        \n",
    "    def forward(self, x):\n",
    "        o = self.direct(x)\n",
    "        return self.relu(o + self.shortcut(x))"
   ]
  },
  {
   "cell_type": "code",
   "execution_count": 11,
   "id": "13155e7f-2f56-47da-8cae-69a6d8828bae",
   "metadata": {
    "id": "13155e7f-2f56-47da-8cae-69a6d8828bae"
   },
   "outputs": [],
   "source": [
    "model = nn.Sequential(\n",
    "    BasicResidualBlock(1,16),\n",
    "    nn.MaxPool2d(kernel_size=2),\n",
    "    BasicResidualBlock(16,32),\n",
    "    nn.MaxPool2d(kernel_size=2),\n",
    "    BasicResidualBlock(32,32),\n",
    "    nn.MaxPool2d(kernel_size=2),\n",
    "    nn.Flatten(),\n",
    "    nn.Linear(32,10)\n",
    ")\n",
    "crit = nn.CrossEntropyLoss()\n",
    "optim = torch.optim.SGD(model.parameters(),lr=0.1)"
   ]
  },
  {
   "cell_type": "code",
   "execution_count": 12,
   "id": "92a6e631-e4e4-48d9-8b93-e2d688067cdf",
   "metadata": {
    "id": "92a6e631-e4e4-48d9-8b93-e2d688067cdf",
    "outputId": "663f28ba-4bbd-4be6-b005-623667d57706"
   },
   "outputs": [
    {
     "name": "stdout",
     "output_type": "stream",
     "text": [
      "1.7519706944624582\n",
      "0.17904527559876443\n",
      "0.055228426007346974\n",
      "0.01981258147603108\n",
      "0.009683627759416898\n",
      "0.006760110910464492\n",
      "0.005253188961392476\n",
      "0.004289687540019966\n",
      "0.0036037188320834604\n",
      "0.0031144366366788745\n"
     ]
    }
   ],
   "source": [
    "for epoch in range(10):\n",
    "    tot_loss = 0\n",
    "    for x,y in train_dl:\n",
    "        optim.zero_grad()\n",
    "        o = model(x)\n",
    "        l = crit(o,y)\n",
    "        tot_loss += l.item()\n",
    "        l.backward()\n",
    "        optim.step()\n",
    "    print(tot_loss/len(train_dl))"
   ]
  },
  {
   "cell_type": "markdown",
   "id": "04232c9b-67eb-42ee-8a70-3baf7587e4a8",
   "metadata": {
    "id": "04232c9b-67eb-42ee-8a70-3baf7587e4a8"
   },
   "source": [
    "# Autoencoder: Linear and Deconvolution"
   ]
  },
  {
   "cell_type": "code",
   "execution_count": 13,
   "id": "caa46e94-b2ee-443c-929e-9ae08c4e8809",
   "metadata": {
    "id": "caa46e94-b2ee-443c-929e-9ae08c4e8809"
   },
   "outputs": [],
   "source": [
    "class Reshape(nn.Module):\n",
    "    def __init__(self, new_shape):\n",
    "        super().__init__()\n",
    "        self.new_shape = new_shape\n",
    "        \n",
    "    def forward(self, x):\n",
    "        return x.view(self.new_shape)\n",
    "\n",
    "class LinearAutoencoder(nn.Module):\n",
    "    def __init__(self, latent=16,img_shape=(1,8,8)):\n",
    "        super().__init__()\n",
    "        \n",
    "        s = 1\n",
    "        for elem in img_shape:\n",
    "            s *= elem\n",
    "        \n",
    "        self.encoder = nn.Sequential(\n",
    "            nn.Flatten(),\n",
    "            nn.Linear(s,32),\n",
    "            nn.ReLU(inplace=True),\n",
    "            nn.Linear(32,latent),\n",
    "            nn.Tanh()\n",
    "        )\n",
    "        \n",
    "        self.decoder = nn.Sequential(\n",
    "            nn.Linear(latent,32),\n",
    "            nn.ReLU(inplace=True),\n",
    "            nn.Linear(32,s),\n",
    "            nn.Sigmoid(),\n",
    "            Reshape((-1,*img_shape))\n",
    "        )\n",
    "    \n",
    "    def forward(self,x):\n",
    "        enc = self.encoder(x)\n",
    "        return self.decoder(enc)"
   ]
  },
  {
   "cell_type": "code",
   "execution_count": 14,
   "id": "e63533c4-55e9-47f8-98b8-e89e149883cc",
   "metadata": {
    "id": "e63533c4-55e9-47f8-98b8-e89e149883cc"
   },
   "outputs": [],
   "source": [
    "model = LinearAutoencoder()\n",
    "crit = nn.MSELoss()\n",
    "optim = torch.optim.SGD(model.parameters(),lr=0.4)"
   ]
  },
  {
   "cell_type": "code",
   "execution_count": 15,
   "id": "adaf5d8b-4255-42a8-8506-a44468dda06a",
   "metadata": {
    "id": "adaf5d8b-4255-42a8-8506-a44468dda06a",
    "outputId": "7fb3c203-faad-4e1e-82ec-2c4d59c1a00a"
   },
   "outputs": [
    {
     "name": "stdout",
     "output_type": "stream",
     "text": [
      "0.1750095284647412\n",
      "0.15800057616498736\n",
      "0.12334612806638082\n",
      "0.08776976747645272\n",
      "0.07776125056876076\n",
      "0.07548919154538049\n",
      "0.07472504062785043\n",
      "0.07436804870764414\n",
      "0.0741647818022304\n",
      "0.07403317391872406\n",
      "0.07393996632761425\n",
      "0.07386957820918826\n",
      "0.07381380812989341\n",
      "0.07376783738533656\n",
      "0.07372872415516112\n",
      "0.07369426753785875\n",
      "0.07366047104199727\n",
      "0.07362900194194581\n",
      "0.07360114852587382\n",
      "0.07357467512289682\n"
     ]
    }
   ],
   "source": [
    "model.train()\n",
    "for epoch in range(20):\n",
    "    tot_loss = 0\n",
    "    for x,_ in train_dl:\n",
    "        optim.zero_grad()\n",
    "        o = model(x)\n",
    "        l = crit(o,x)\n",
    "        tot_loss += l.item()\n",
    "        l.backward()\n",
    "        optim.step()\n",
    "    print(tot_loss/len(train_dl))"
   ]
  },
  {
   "cell_type": "code",
   "execution_count": 16,
   "id": "92b856f7-3e73-4a21-9d25-35f963501ac7",
   "metadata": {
    "id": "92b856f7-3e73-4a21-9d25-35f963501ac7",
    "outputId": "bb349dd4-0955-4cbb-eca2-9e33eb629e1e"
   },
   "outputs": [
    {
     "data": {
      "image/png": "[encoded data removed]",
      "text/plain": [
       "<Figure size 640x480 with 8 Axes>"
      ]
     },
     "metadata": {},
     "output_type": "display_data"
    }
   ],
   "source": [
    "model.eval()\n",
    "fig, axs = plt.subplots(2,4)\n",
    "for x,_ in test_dl:\n",
    "    with torch.no_grad():\n",
    "        o = model(x).numpy()\n",
    "    for i in range(4):\n",
    "        axs[0][i].imshow(x[i][0])\n",
    "        axs[1][i].imshow(o[i][0])\n",
    "    break"
   ]
  },
  {
   "cell_type": "code",
   "execution_count": 17,
   "id": "b8405f56-ca17-41d8-bec2-cdb30689887c",
   "metadata": {
    "id": "b8405f56-ca17-41d8-bec2-cdb30689887c"
   },
   "outputs": [],
   "source": [
    "class ConvDeconvAutoencoder(nn.Module):\n",
    "    def __init__(self, latent=16,img_shape=(1,8,8)):\n",
    "        super().__init__()\n",
    "        \n",
    "        s= 1\n",
    "        for elem in img_shape:\n",
    "            s *= elem\n",
    "        \n",
    "        self.encoder = nn.Sequential(\n",
    "            nn.Conv2d(img_shape[0],8,3,padding=1),\n",
    "            nn.ReLU(inplace=True),\n",
    "            nn.MaxPool2d(kernel_size=2),\n",
    "            nn.Conv2d(8,16,3,padding=1),\n",
    "            nn.ReLU(inplace=True),\n",
    "            nn.MaxPool2d(kernel_size=2),\n",
    "            nn.Conv2d(16,latent,3,padding=1),\n",
    "            nn.ReLU(inplace=True),\n",
    "            nn.MaxPool2d(kernel_size=2),\n",
    "            nn.Flatten(),\n",
    "            nn.Tanh()\n",
    "        )\n",
    "        \n",
    "        self.decoder = nn.Sequential(\n",
    "            nn.Linear(latent,32),\n",
    "            nn.ReLU(inplace=True),\n",
    "            Reshape((-1,8,2,2)),\n",
    "            nn.ConvTranspose2d(8,4,2,stride=2),\n",
    "            nn.BatchNorm2d(4),\n",
    "            nn.ConvTranspose2d(4,1,2,stride=2),\n",
    "            nn.Sigmoid()\n",
    "        )\n",
    "    \n",
    "    def forward(self,x):\n",
    "        enc = self.encoder(x)\n",
    "        return self.decoder(enc)"
   ]
  },
  {
   "cell_type": "code",
   "execution_count": 18,
   "id": "05863b19-5893-47bf-85b2-577652cbd953",
   "metadata": {
    "id": "05863b19-5893-47bf-85b2-577652cbd953"
   },
   "outputs": [],
   "source": [
    "model = ConvDeconvAutoencoder()\n",
    "crit = nn.MSELoss()\n",
    "optim = torch.optim.SGD(model.parameters(),lr=0.4)"
   ]
  },
  {
   "cell_type": "code",
   "execution_count": 19,
   "id": "06ff9627-6f8a-4022-a54f-a33f9476c28b",
   "metadata": {
    "id": "06ff9627-6f8a-4022-a54f-a33f9476c28b",
    "outputId": "e5be2c96-207d-4c4c-c848-28eef883ac12"
   },
   "outputs": [
    {
     "name": "stdout",
     "output_type": "stream",
     "text": [
      "0.11693826897276773\n",
      "0.08090782430436876\n",
      "0.0753696362177531\n",
      "0.07171825733449724\n",
      "0.0678335600429111\n",
      "0.06452777609229088\n",
      "0.06130226999521256\n",
      "0.05810803497831027\n",
      "0.05516054514381621\n",
      "0.052563810348510744\n",
      "0.049407448785172565\n",
      "0.0475632449818982\n",
      "0.045541377862294515\n",
      "0.04397431686520577\n",
      "0.04217694848775864\n",
      "0.04092440182964007\n",
      "0.039399978352917565\n",
      "0.03857982183496157\n",
      "0.03749852917260594\n",
      "0.03672345446215736\n"
     ]
    }
   ],
   "source": [
    "model.train()\n",
    "for epoch in range(20):\n",
    "    tot_loss = 0\n",
    "    for x,_ in train_dl:\n",
    "        optim.zero_grad()\n",
    "        o = model(x)\n",
    "        l = crit(o,x)\n",
    "        tot_loss += l.item()\n",
    "        l.backward()\n",
    "        optim.step()\n",
    "    print(tot_loss/len(train_dl))"
   ]
  },
  {
   "cell_type": "code",
   "execution_count": 20,
   "id": "ae7f86b8-d892-4e85-b584-59b14624af7d",
   "metadata": {
    "id": "ae7f86b8-d892-4e85-b584-59b14624af7d",
    "outputId": "cae15ea3-c4ce-4c08-f535-bac6099d0060"
   },
   "outputs": [
    {
     "data": {
      "image/png": "[encoded data removed]",
      "text/plain": [
       "<Figure size 640x480 with 8 Axes>"
      ]
     },
     "metadata": {},
     "output_type": "display_data"
    }
   ],
   "source": [
    "model.eval()\n",
    "fig, axs = plt.subplots(2,4)\n",
    "for x,_ in test_dl:\n",
    "    with torch.no_grad():\n",
    "        o = model(x).numpy()\n",
    "    for i in range(4):\n",
    "        axs[0][i].imshow(x[i][0])\n",
    "        axs[1][i].imshow(o[i][0])\n",
    "    break"
   ]
  },
  {
   "cell_type": "markdown",
   "id": "59621883-a922-448d-aa5e-eda6bfd68174",
   "metadata": {
    "id": "59621883-a922-448d-aa5e-eda6bfd68174"
   },
   "source": [
    "# GAN: Linear and Deconvolution"
   ]
  },
  {
   "cell_type": "code",
   "execution_count": 21,
   "id": "18b028a3-7bb5-437a-8fce-db518e8c1608",
   "metadata": {
    "id": "18b028a3-7bb5-437a-8fce-db518e8c1608"
   },
   "outputs": [],
   "source": [
    "latent = 16\n",
    "model_generator = nn.Sequential(\n",
    "    nn.Linear(latent,32),\n",
    "    nn.ReLU(),\n",
    "    nn.Linear(32,64),\n",
    "    nn.Sigmoid(),\n",
    "    Reshape((-1,1,8,8))\n",
    ")\n",
    "\n",
    "model_discriminator = nn.Sequential(\n",
    "    nn.Conv2d(1,16,3,padding=1),\n",
    "    nn.ReLU(inplace=True),\n",
    "    nn.MaxPool2d(kernel_size=2),\n",
    "    nn.Conv2d(16,32,3,padding=1),\n",
    "    nn.ReLU(inplace=True),\n",
    "    nn.MaxPool2d(kernel_size=2),\n",
    "    nn.Conv2d(32,32,3,padding=1),\n",
    "    nn.ReLU(inplace=True),\n",
    "    nn.MaxPool2d(kernel_size=2),\n",
    "    nn.Flatten(),\n",
    "    nn.Linear(32,1)\n",
    ")\n",
    "\n",
    "crit = nn.BCEWithLogitsLoss()\n",
    "optim_generator = torch.optim.SGD(model_generator.parameters(),lr=0.2)\n",
    "optim_discriminator = torch.optim.SGD(model_discriminator.parameters(),lr=0.02)"
   ]
  },
  {
   "cell_type": "code",
   "execution_count": 22,
   "id": "d9b22447-9d30-444a-a10a-659365fdcf91",
   "metadata": {
    "id": "d9b22447-9d30-444a-a10a-659365fdcf91",
    "outputId": "1ed0ec50-1dbc-4823-f546-08cdc93f8f6e"
   },
   "outputs": [
    {
     "name": "stdout",
     "output_type": "stream",
     "text": [
      "loss discriminattor: 0.7142076664500766, loss generator: 0.5084532658259074\n",
      "loss discriminattor: 0.8007414009835985, loss generator: 0.3027902603149414\n",
      "loss discriminattor: 0.8040701270103454, loss generator: 0.2932333297199673\n",
      "loss discriminattor: 0.7973104039827983, loss generator: 0.2944141613112556\n",
      "loss discriminattor: 0.7895499202940199, loss generator: 0.29772203233506944\n",
      "loss discriminattor: 0.7809549185964796, loss generator: 0.3007182531886631\n",
      "loss discriminattor: 0.7715680824385749, loss generator: 0.3046993136405945\n",
      "loss discriminattor: 0.7603239019711813, loss generator: 0.3107602728737725\n",
      "loss discriminattor: 0.7501960436503092, loss generator: 0.3158271504773034\n",
      "loss discriminattor: 0.7365480621655782, loss generator: 0.3204266283247206\n"
     ]
    }
   ],
   "source": [
    "model_generator.train()\n",
    "model_discriminator.train()\n",
    "for epoch in range(10):\n",
    "    tot_loss_discriminator = 0\n",
    "    tot_loss_generator = 0\n",
    "    for x,y in train_dl:\n",
    "        optim_generator.zero_grad()\n",
    "        optim_discriminator.zero_grad()\n",
    "        \n",
    "        N = len(x)\n",
    "        real_labels = torch.ones((N,1))\n",
    "        fake_labels = torch.zeros((N,1))\n",
    "        \n",
    "        noise = torch.randn((N,latent))\n",
    "        fake_imgs = model_generator(noise).detach()\n",
    "        loss_discriminator = 0.5 * (crit(model_discriminator(fake_imgs),fake_labels) + \\\n",
    "                            crit(model_discriminator(x),real_labels))\n",
    "        \n",
    "        noise = torch.randn((N,latent))\n",
    "        fake_imgs = model_generator(noise)\n",
    "        loss_generator = crit(model_discriminator(fake_imgs),real_labels)\n",
    "        \n",
    "        loss_discriminator.backward()\n",
    "        loss_generator.backward()\n",
    "        \n",
    "        tot_loss_discriminator += loss_discriminator.item()\n",
    "        tot_loss_generator += loss_generator.item()\n",
    "        \n",
    "        optim_generator.step()\n",
    "        optim_discriminator.step()\n",
    "    print(f\"loss discriminattor: {tot_loss_discriminator / len(train_dl)}, loss generator: {tot_loss_generator / len(train_dl)}\")"
   ]
  },
  {
   "cell_type": "code",
   "execution_count": 23,
   "id": "b23c5f6b-3a04-4ff6-8d8c-748226be0a39",
   "metadata": {
    "id": "b23c5f6b-3a04-4ff6-8d8c-748226be0a39",
    "outputId": "73d7524f-7830-4385-b51a-dea8f235ccdd"
   },
   "outputs": [
    {
     "data": {
      "image/png": "[encoded data removed]",
      "text/plain": [
       "<Figure size 640x480 with 8 Axes>"
      ]
     },
     "metadata": {},
     "output_type": "display_data"
    }
   ],
   "source": [
    "model_generator.eval()\n",
    "fig, axs = plt.subplots(2,4)\n",
    "\n",
    "noise = torch.randn((8,latent))\n",
    "with torch.no_grad():\n",
    "    o = model_generator(noise).numpy()\n",
    "    \n",
    "for i in range(8):\n",
    "    axs[i//4, i%4].imshow(o[i][0])\n"
   ]
  },
  {
   "cell_type": "code",
   "execution_count": 24,
   "id": "1de1cd1e-5c51-40da-8743-917f527afd25",
   "metadata": {
    "id": "1de1cd1e-5c51-40da-8743-917f527afd25",
    "outputId": "ad5d66d4-fe02-40d8-f796-7a813c66091b"
   },
   "outputs": [
    {
     "data": {
      "text/plain": [
       "torch.Size([1, 3, 4, 4])"
      ]
     },
     "execution_count": 24,
     "metadata": {},
     "output_type": "execute_result"
    }
   ],
   "source": [
    "tmp = nn.ConvTranspose2d(1,3,3)\n",
    "tmp(torch.zeros((1,1,2,2))).shape"
   ]
  },
  {
   "cell_type": "code",
   "execution_count": 26,
   "id": "e7a28015-0be3-46b1-8bbd-7003290de438",
   "metadata": {
    "id": "e7a28015-0be3-46b1-8bbd-7003290de438"
   },
   "outputs": [],
   "source": [
    "latent = 16\n",
    "model_generator = nn.Sequential(\n",
    "    nn.Linear(latent,64),\n",
    "    nn.ReLU(inplace=True),\n",
    "    Reshape((-1,64,1,1)),\n",
    "    nn.ConvTranspose2d(64,16,2),\n",
    "    nn.ReLU(inplace=True),\n",
    "    nn.ConvTranspose2d(16,8,3),\n",
    "    nn.ReLU(inplace=True),\n",
    "    nn.ConvTranspose2d(8,1,5),\n",
    "    nn.Sigmoid()\n",
    ")\n",
    "\n",
    "model_discriminator = nn.Sequential(\n",
    "    nn.Conv2d(1,16,3,padding=1),\n",
    "    nn.ReLU(inplace=True),\n",
    "    nn.MaxPool2d(kernel_size=2),\n",
    "    nn.Conv2d(16,32,3,padding=1),\n",
    "    nn.ReLU(inplace=True),\n",
    "    nn.MaxPool2d(kernel_size=2),\n",
    "    nn.Conv2d(32,32,3,padding=1),\n",
    "    nn.ReLU(inplace=True),\n",
    "    nn.MaxPool2d(kernel_size=2),\n",
    "    nn.Flatten(),\n",
    "    nn.Linear(32,1)\n",
    ")\n",
    "\n",
    "crit = nn.BCEWithLogitsLoss()\n",
    "optim_generator = torch.optim.SGD(model_generator.parameters(),lr=0.1)\n",
    "optim_discriminator = torch.optim.SGD(model_discriminator.parameters(),lr=0.001)"
   ]
  },
  {
   "cell_type": "code",
   "execution_count": 27,
   "id": "721406cb-fc3c-4dd4-8a8f-b8692e23d76d",
   "metadata": {
    "id": "721406cb-fc3c-4dd4-8a8f-b8692e23d76d",
    "outputId": "b0855809-76bc-4956-e472-2f15cc1a86a0"
   },
   "outputs": [
    {
     "name": "stdout",
     "output_type": "stream",
     "text": [
      "loss discriminattor: 0.6970635520087348, loss generator: 0.6815299378501044\n",
      "loss discriminattor: 0.6963515705532498, loss generator: 0.6815130379464891\n",
      "loss discriminattor: 0.6956544478734334, loss generator: 0.6814721372392443\n",
      "loss discriminattor: 0.695079419347975, loss generator: 0.6812310722139147\n",
      "loss discriminattor: 0.694575137562222, loss generator: 0.6809311310450236\n",
      "loss discriminattor: 0.694052153163486, loss generator: 0.6806547959645589\n",
      "loss discriminattor: 0.6935161047511631, loss generator: 0.6803969846831428\n",
      "loss discriminattor: 0.6929594834645589, loss generator: 0.6801341189278497\n",
      "loss discriminattor: 0.6923870325088501, loss generator: 0.6798461940553453\n",
      "loss discriminattor: 0.6917971836196052, loss generator: 0.6795532200071547\n"
     ]
    }
   ],
   "source": [
    "model_generator.train()\n",
    "model_discriminator.train()\n",
    "for epoch in range(10):\n",
    "    tot_loss_discriminator = 0\n",
    "    tot_loss_generator = 0\n",
    "    for x,y in train_dl:\n",
    "        optim_generator.zero_grad()\n",
    "        optim_discriminator.zero_grad()\n",
    "        \n",
    "        N = len(x)\n",
    "        real_labels = torch.ones((N,1))\n",
    "        fake_labels = torch.zeros((N,1))\n",
    "        \n",
    "        noise = torch.randn((N,latent))\n",
    "        fake_imgs = model_generator(noise).detach()\n",
    "        loss_discriminator = 0.5 * (crit(model_discriminator(fake_imgs),fake_labels) + \\\n",
    "                            crit(model_discriminator(x),real_labels))\n",
    "        loss_discriminator.backward()\n",
    "        optim_discriminator.step()\n",
    "        \n",
    "        noise = torch.randn((N,latent))\n",
    "        fake_imgs = model_generator(noise)\n",
    "        loss_generator = crit(model_discriminator(fake_imgs),real_labels)\n",
    "        loss_generator.backward()\n",
    "        optim_generator.step()\n",
    "        \n",
    "        tot_loss_discriminator += loss_discriminator.item()\n",
    "        tot_loss_generator += loss_generator.item()\n",
    "        \n",
    "    print(f\"loss discriminattor: {tot_loss_discriminator / len(train_dl)}, loss generator: {tot_loss_generator / len(train_dl)}\")"
   ]
  },
  {
   "cell_type": "code",
   "execution_count": 28,
   "id": "f04d067e-9ebe-4a28-b516-40d03583e60b",
   "metadata": {
    "id": "f04d067e-9ebe-4a28-b516-40d03583e60b",
    "outputId": "7e124b6f-d881-4cd9-8c60-9a57580f4fde"
   },
   "outputs": [
    {
     "name": "stdout",
     "output_type": "stream",
     "text": [
      "tensor(-0.0669)\n"
     ]
    },
    {
     "data": {
      "image/png": "[encoded data removed]",
      "text/plain": [
       "<Figure size 640x480 with 8 Axes>"
      ]
     },
     "metadata": {},
     "output_type": "display_data"
    }
   ],
   "source": [
    "model_generator.eval()\n",
    "fig, axs = plt.subplots(2,4)\n",
    "\n",
    "noise = torch.randn((8,latent))\n",
    "print(noise[0][0])\n",
    "with torch.no_grad():\n",
    "    o = model_generator(noise).numpy()\n",
    "    \n",
    "for i in range(8):\n",
    "    axs[i//4, i%4].imshow(o[i][0])\n",
    "\n"
   ]
  }
 ],
 "metadata": {
  "colab": {
   "collapsed_sections": [],
   "name": "dl_intro.ipynb",
   "provenance": []
  },
  "kernelspec": {
   "display_name": "Python 3 (ipykernel)",
   "language": "python",
   "name": "python3"
  },
  "language_info": {
   "codemirror_mode": {
    "name": "ipython",
    "version": 3
   },
   "file_extension": ".py",
   "mimetype": "text/x-python",
   "name": "python",
   "nbconvert_exporter": "python",
   "pygments_lexer": "ipython3",
   "version": "3.9.10"
  }
 },
 "nbformat": 4,
 "nbformat_minor": 5
}
