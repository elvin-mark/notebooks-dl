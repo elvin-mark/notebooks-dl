{
  "nbformat": 4,
  "nbformat_minor": 0,
  "metadata": {
    "colab": {
      "provenance": []
    },
    "kernelspec": {
      "name": "python3",
      "display_name": "Python 3"
    },
    "language_info": {
      "name": "python"
    }
  },
  "cells": [
    {
      "cell_type": "code",
      "source": [
        "import numpy as np\n",
        "import matplotlib.pyplot as plt\n",
        "import random"
      ],
      "metadata": {
        "id": "lS1QS9JyUsKw"
      },
      "execution_count": 1,
      "outputs": []
    },
    {
      "cell_type": "code",
      "execution_count": 18,
      "metadata": {
        "id": "v0HAICqZUqGE"
      },
      "outputs": [],
      "source": [
        "# Backward functions\n",
        "class AddBackward():\n",
        "    def __init__(self,x,y,o):\n",
        "        self.x = x\n",
        "        self.y = y\n",
        "        self.o = o\n",
        "    def __call__(self,l):\n",
        "        self.x.backward(l)\n",
        "        self.y.backward(l)\n",
        "\n",
        "class SubBackward():\n",
        "    def __init__(self,x,y,o):\n",
        "        self.x = x\n",
        "        self.y = y\n",
        "        self.o = o\n",
        "    def __call__(self,l):\n",
        "        self.x.backward(l)\n",
        "        self.y.backward(-l)\n",
        "\n",
        "class MulBackward():\n",
        "    def __init__(self,x,y,o):\n",
        "        self.x = x\n",
        "        self.y = y\n",
        "        self.o = o\n",
        "    def __call__(self,l):\n",
        "        self.x.backward(l * self.y.val)\n",
        "        self.y.backward(l * self.x.val)\n",
        "\n",
        "class DivBackward():\n",
        "    def __init__(self,x,y,o):\n",
        "        self.x = x\n",
        "        self.y = y\n",
        "        self.o = o\n",
        "    def __call__(self,l):\n",
        "        self.x.backward(l / self.y.val)\n",
        "        self.y.backward(- l * self.x.val / self.y.val ** 2)\n",
        "\n",
        "class PowBackward():\n",
        "    def __init__(self,x,y,o):\n",
        "        self.x = x\n",
        "        self.y = y\n",
        "        self.o = o\n",
        "    def __call__(self,l):\n",
        "        self.x.backward(l * self.y * self.o.val /self.x.val)\n",
        "\n",
        "class SigmoidBackward():\n",
        "    def __init__(self,x,o):\n",
        "        self.x = x\n",
        "        self.o = o\n",
        "    def __call__(self,l):\n",
        "        self.x.backward(self.o.val*(1 - self.o.val) * l)\n",
        "\n",
        "class TanhBackward():\n",
        "    def __init__(self,x,o):\n",
        "        self.x = x\n",
        "        self.o = o\n",
        "    def __call__(self,l):\n",
        "        self.x.backward(l * (1 - self.o.val ** 2) / 2)\n",
        "\n",
        "# Main data type: Variable\n",
        "class Variable():\n",
        "    def __init__(self, x):\n",
        "        self.val = x\n",
        "        self.grad = 0\n",
        "        self.backward_fn = None\n",
        "    def zero_grad(self):\n",
        "        self.grad = 0\n",
        "    def backward(self,l):\n",
        "        if self.backward_fn is not None:\n",
        "            self.backward_fn(l)\n",
        "        else:\n",
        "            self.grad += l\n",
        "    def __add__(self,x):\n",
        "        o = Variable(self.val + x.val)\n",
        "        o.backward_fn = AddBackward(self,x,o)\n",
        "        return o\n",
        "    def __sub__(self,x):\n",
        "        o = Variable(self.val - x.val)\n",
        "        o.backward_fn = SubBackward(self,x,o)\n",
        "        return o\n",
        "    def __mul__(self,x):\n",
        "        o = Variable(self.val * x.val)\n",
        "        o.backward_fn = MulBackward(self,x,o)\n",
        "        return o\n",
        "    def __truediv__(self,x):\n",
        "        o = Variable(self.val / x.val)\n",
        "        o.backward_fn = DivBackward(self,x,o)\n",
        "        return o\n",
        "    def __pow__(self,x):\n",
        "        o = Variable(self.val ** x)\n",
        "        o.backward_fn = PowBackward(self,x,o)\n",
        "        return o\n",
        "    def __str__(self):\n",
        "        return str(self.val)\n",
        "\n",
        "# Activation Functions\n",
        "def sigmoid(x):\n",
        "    o = Variable(1 / (1 + np.exp(-x.val)))\n",
        "    o.backward_fn = SigmoidBackward(x,o)\n",
        "    return o\n",
        "def tanh(x):\n",
        "    o = Variable((1 - np.exp(-x.val)) / (1 + np.exp(-x.val)))\n",
        "    o.backward_fn = TanhBackward(x,o)\n",
        "    return o"
      ]
    },
    {
      "cell_type": "code",
      "source": [
        "# simple function helper to convert array of variables to numpy array\n",
        "def arr2nparray(arr):\n",
        "    o = []\n",
        "    for row in arr:\n",
        "        tmp = []\n",
        "        for elem in row:\n",
        "            tmp.append(elem.val)\n",
        "        o.append(tmp)\n",
        "    return np.array(o)"
      ],
      "metadata": {
        "id": "Ai97LPD_KHn3"
      },
      "execution_count": 7,
      "outputs": []
    },
    {
      "cell_type": "code",
      "source": [
        "# Linear Layer\n",
        "class MyLinear():\n",
        "    def __init__(self, in_features,out_features):\n",
        "        self.W = []\n",
        "        self.b = []\n",
        "        self.in_features = in_features\n",
        "        self.out_features = out_features\n",
        "        for i in range(in_features):\n",
        "            tmp = []\n",
        "            for j in range(out_features):\n",
        "                tmp.append(Variable(np.random.randn()))\n",
        "            self.W.append(tmp)\n",
        "        for i in range(out_features):\n",
        "            self.b.append(Variable(np.random.randn()))\n",
        "    def forward(self, x):\n",
        "        o = []\n",
        "        for row in x:\n",
        "            tmp = []\n",
        "            for j in range(self.out_features):\n",
        "                s = Variable(0)\n",
        "                for i in range(self.in_features):\n",
        "                    s = s + self.W[i][j] * row[i]\n",
        "                s += self.b[j]\n",
        "                tmp.append(s)\n",
        "            o.append(tmp)\n",
        "        return o\n",
        "    def parameters(self):\n",
        "        params = []\n",
        "        for row in self.W:\n",
        "            params += row\n",
        "        params += self.b\n",
        "        return params\n",
        "\n",
        "# Sigmoid Layer\n",
        "class MySigmoid():\n",
        "    def __init__(self):\n",
        "        pass\n",
        "    def forward(self,x):\n",
        "        o = []\n",
        "        for row in x:\n",
        "            tmp = []\n",
        "            for e in row:\n",
        "                tmp.append(sigmoid(e))\n",
        "            o.append(tmp)\n",
        "        return o\n",
        "    def parameters(self):\n",
        "        return []\n",
        "\n",
        "# Sequential Layer\n",
        "class MySequential():\n",
        "    def __init__(self,layers=[]):\n",
        "        self.layers = layers\n",
        "    def forward(self,x):\n",
        "        o = x        \n",
        "        for l in self.layers:\n",
        "            o = l.forward(o)\n",
        "        return o\n",
        "    def parameters(self):\n",
        "        params = []\n",
        "        for l in self.layers:\n",
        "            params += l.parameters()\n",
        "        return params\n",
        "    def __call__(self,x):\n",
        "        return self.forward(x)"
      ],
      "metadata": {
        "id": "JDCrKPXbVD6n"
      },
      "execution_count": 9,
      "outputs": []
    },
    {
      "cell_type": "code",
      "source": [
        "# Mean Square Error Loss\n",
        "class MyMSELoss():\n",
        "    def __init__(self):\n",
        "        pass\n",
        "    def __call__(self,y, t):\n",
        "        N = len(y)\n",
        "        s = Variable(0)\n",
        "        for row_y, row_t in zip(y,t):\n",
        "            for yi,ti in zip(row_y,row_t):\n",
        "                s += (yi - ti) ** 2\n",
        "        s /= Variable(N)\n",
        "        return s\n"
      ],
      "metadata": {
        "id": "0ZQwKlmEWc6i"
      },
      "execution_count": 10,
      "outputs": []
    },
    {
      "cell_type": "code",
      "source": [
        "# Stochastic Gradient Descent Optimizer\n",
        "class MySGD():\n",
        "    def __init__(self,parameters=[],lr=0.1):\n",
        "        self.lr = lr\n",
        "        self.parameters = parameters\n",
        "    def step(self):\n",
        "        for p in self.parameters:\n",
        "            p.val -= self.lr * p.grad\n",
        "    def zero_grad(self):\n",
        "        for p in self.parameters:\n",
        "            p.zero_grad()"
      ],
      "metadata": {
        "id": "OyDrStVnNFDG"
      },
      "execution_count": 12,
      "outputs": []
    },
    {
      "cell_type": "code",
      "source": [
        "# Creating our model\n",
        "model = MySequential(layers=[\n",
        "    MyLinear(2,3),\n",
        "    MySigmoid(),\n",
        "    MyLinear(3,2)\n",
        "])\n",
        "\n",
        "# Defining our loss function\n",
        "crit = MyMSELoss()\n",
        "\n",
        "# Defining our optimizer (SGD)\n",
        "optim = MySGD(parameters=model.parameters(),lr=0.1)"
      ],
      "metadata": {
        "id": "r_piwKhTV8Si"
      },
      "execution_count": 13,
      "outputs": []
    },
    {
      "cell_type": "code",
      "source": [
        "# Dummy data \n",
        "x = [[Variable(1),Variable(1)]]\n",
        "y = [[Variable(3),Variable(2)]]"
      ],
      "metadata": {
        "id": "IaDzbBRFVpWa"
      },
      "execution_count": 14,
      "outputs": []
    },
    {
      "cell_type": "code",
      "source": [
        "for epoch in range(5):\n",
        "    o = model(x)\n",
        "    optim.zero_grad()\n",
        "    l = crit(o,y)\n",
        "    print(\"loss = \",l)\n",
        "    l.backward(1)\n",
        "    optim.step()"
      ],
      "metadata": {
        "colab": {
          "base_uri": "https://localhost:8080/"
        },
        "id": "VgxWIPCXWBhm",
        "outputId": "49815057-5614-4571-ad84-adb9b0106519"
      },
      "execution_count": 15,
      "outputs": [
        {
          "output_type": "stream",
          "name": "stdout",
          "text": [
            "loss =  5.896653062704954\n",
            "loss =  1.9803149285252004\n",
            "loss =  0.6915216640284867\n",
            "loss =  0.2362170738727817\n",
            "loss =  0.07865380700474287\n"
          ]
        }
      ]
    },
    {
      "cell_type": "code",
      "source": [
        "# Visualizing our output\n",
        "print(arr2nparray(o))"
      ],
      "metadata": {
        "colab": {
          "base_uri": "https://localhost:8080/"
        },
        "id": "BIuRMTzEQGr6",
        "outputId": "65b98ac3-72e6-40eb-f479-05f8fad3dde5"
      },
      "execution_count": 17,
      "outputs": [
        {
          "output_type": "stream",
          "name": "stdout",
          "text": [
            "[[2.72076433 2.02610074]]\n"
          ]
        }
      ]
    }
  ]
}