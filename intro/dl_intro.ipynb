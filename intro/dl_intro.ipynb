{
 "cells": [
  {
   "cell_type": "code",
   "execution_count": 1,
   "id": "40ee9c20-8e4e-4bfe-a001-2ac74322fddb",
   "metadata": {
    "id": "40ee9c20-8e4e-4bfe-a001-2ac74322fddb"
   },
   "outputs": [],
   "source": [
    "import torch \n",
    "import torch.nn as nn\n",
    "from sklearn.datasets import load_digits\n",
    "import matplotlib.pyplot as plt"
   ]
  },
  {
   "cell_type": "markdown",
   "id": "602e5de1-7251-4e47-904e-4ec41da933ed",
   "metadata": {
    "id": "602e5de1-7251-4e47-904e-4ec41da933ed",
    "tags": []
   },
   "source": [
    "# Multilayer Perceptron"
   ]
  },
  {
   "cell_type": "markdown",
   "id": "5c5546d4-4cd5-44c5-bf56-336f1344c7ff",
   "metadata": {
    "id": "5c5546d4-4cd5-44c5-bf56-336f1344c7ff"
   },
   "source": [
    "Let's start with the most simple neural network out there: the Multilayer Perceptron. This neural network model just consists on sequential multiple linear transformations with some activation functions in between. These activation functions are the ones that gave the non-linear properties to the model."
   ]
  },
  {
   "cell_type": "code",
   "execution_count": 2,
   "id": "368f3745-f732-4780-893a-d1c9fbfec249",
   "metadata": {
    "id": "368f3745-f732-4780-893a-d1c9fbfec249"
   },
   "outputs": [],
   "source": [
    "\"\"\"\n",
    "Defining the dataset\n",
    "\n",
    "In this case we are using the simple digits dataset, which consists on 8x8 gray scaled images of written numbers 0-9 in a very low r\n",
    "\"\"\"\n",
    "class DigitsDataset:\n",
    "    def __init__(self):\n",
    "        digits_data_ = load_digits()\n",
    "        self.imgs = digits_data_.images.reshape((-1,1,8,8)) / 16.0\n",
    "        self.target = digits_data_.target\n",
    "    def __getitem__(self,idx):\n",
    "        return torch.from_numpy(self.imgs[idx]).float(), self.target[idx]\n",
    "    def __len__(self):\n",
    "        return len(self.imgs)"
   ]
  },
  {
   "cell_type": "code",
   "execution_count": 3,
   "id": "8177c570-afc0-4a1a-9225-fc1e4776a2be",
   "metadata": {
    "id": "8177c570-afc0-4a1a-9225-fc1e4776a2be"
   },
   "outputs": [],
   "source": [
    "# Creating the digits dataset object\n",
    "digits_ds = DigitsDataset()"
   ]
  },
  {
   "cell_type": "code",
   "execution_count": 4,
   "id": "db3d0cfd-7315-46d0-a870-363b6ab52787",
   "metadata": {
    "id": "db3d0cfd-7315-46d0-a870-363b6ab52787"
   },
   "outputs": [],
   "source": [
    "# Splitting the dataset into train and test dataset\n",
    "N = len(digits_ds)\n",
    "train_size = int(0.8*N)\n",
    "test_size = N - train_size\n",
    "train_ds, test_ds = torch.utils.data.random_split(digits_ds,[train_size, test_size])"
   ]
  },
  {
   "cell_type": "code",
   "execution_count": 5,
   "id": "a86145ba-5828-4ddd-a924-21280cbcb699",
   "metadata": {
    "id": "a86145ba-5828-4ddd-a924-21280cbcb699"
   },
   "outputs": [],
   "source": [
    "# Creating the datataloaders\n",
    "train_dl = torch.utils.data.DataLoader(train_ds,batch_size=32)\n",
    "test_dl = torch.utils.data.DataLoader(test_ds,batch_size=32)"
   ]
  },
  {
   "cell_type": "code",
   "execution_count": 6,
   "id": "4f3fe3cb-6c32-4743-b4fd-619f8a37c2ee",
   "metadata": {
    "id": "4f3fe3cb-6c32-4743-b4fd-619f8a37c2ee"
   },
   "outputs": [],
   "source": [
    "# Creating a simple MLP\n",
    "model = nn.Sequential(\n",
    "    nn.Flatten(),\n",
    "    nn.Linear(64,32),\n",
    "    nn.ReLU(inplace=True),\n",
    "    nn.Linear(32,10)\n",
    ")\n",
    "\"\"\"\n",
    "To train the model we need to measure how well the model is doing with respect the dataset. \n",
    "To do so, we use a loss function proper for the task that is being handled.\n",
    "\n",
    "In this case, the task is image classification and thus the most proper loss function is the Cross Entropy Loss\n",
    "\"\"\"\n",
    "crit = nn.CrossEntropyLoss()\n",
    "\n",
    "\"\"\"\n",
    "Once we calculate the loss and performa the backpropagation to calculate the gradient of the loss w.r.t. \n",
    "each parameter, we need a way to update the parameters using the gradient. This is called optimization. \n",
    "The simplest optimization method there is, it is the SGD. Which just follows the negative of the gradient scaled by\n",
    "a factor called learning rate.\n",
    "\"\"\"\n",
    "optim = torch.optim.SGD(model.parameters(),lr=0.1)"
   ]
  },
  {
   "cell_type": "code",
   "execution_count": 7,
   "id": "226b36b5-cf65-45ed-9040-5c5e18662585",
   "metadata": {
    "id": "226b36b5-cf65-45ed-9040-5c5e18662585",
    "outputId": "df008fd4-793d-460d-ebf4-cdaa87c057e5"
   },
   "outputs": [
    {
     "name": "stdout",
     "output_type": "stream",
     "text": [
      "2.1936256567637127\n",
      "1.7785868936114841\n",
      "1.1796074668566385\n",
      "0.7578269918759664\n",
      "0.5424757904476589\n",
      "0.42476282748911115\n",
      "0.3521336055464215\n",
      "0.30306824247042335\n",
      "0.26759569727712207\n",
      "0.24069624212053087\n"
     ]
    }
   ],
   "source": [
    "# Training the model\n",
    "for epoch in range(10):\n",
    "    tot_loss = 0\n",
    "    for x,y in train_dl:\n",
    "        # Set the gradients of all parameters to zero \n",
    "        # Since the when we perform backpropagation, the gradients accumulates\n",
    "        optim.zero_grad()\n",
    "        # Forward the current input\n",
    "        o = model(x)\n",
    "        # Calculate the loss\n",
    "        l = crit(o,y)\n",
    "        tot_loss += l.item()\n",
    "        # Backpropagate\n",
    "        l.backward()\n",
    "        # Update the parameters using the chosen optimizer\n",
    "        optim.step()\n",
    "    print(tot_loss/len(train_dl))"
   ]
  },
  {
   "cell_type": "markdown",
   "id": "1baba41f-7a96-4bd1-a812-1db6e7b3f7a1",
   "metadata": {
    "id": "1baba41f-7a96-4bd1-a812-1db6e7b3f7a1",
    "tags": []
   },
   "source": [
    "# Convolutional Neural Network"
   ]
  },
  {
   "cell_type": "markdown",
   "id": "bf663031-9586-4c6e-8ffd-2fa7d58ccff6",
   "metadata": {
    "id": "bf663031-9586-4c6e-8ffd-2fa7d58ccff6"
   },
   "source": [
    "The operation of convolution helps to extract spatial features from the input data."
   ]
  },
  {
   "cell_type": "code",
   "execution_count": 8,
   "id": "d26f3f3e-7102-4e42-a750-5a4dab864222",
   "metadata": {
    "id": "d26f3f3e-7102-4e42-a750-5a4dab864222"
   },
   "outputs": [],
   "source": [
    "\"\"\"\n",
    "Defining the model\n",
    "The convolutional layers (along with the activation functions and pooling layers) are in charge of extract \n",
    "features from the input, while the last layer (linear) is in charge of classify those features into the \n",
    "available classes\n",
    "\"\"\"\n",
    "model = nn.Sequential(\n",
    "    nn.Conv2d(1,16,3,padding=1),\n",
    "    nn.ReLU(inplace=True),\n",
    "    nn.MaxPool2d(kernel_size=2),\n",
    "    nn.Conv2d(16,32,3,padding=1),\n",
    "    nn.ReLU(inplace=True),\n",
    "    nn.MaxPool2d(kernel_size=2),\n",
    "    nn.Conv2d(32,32,3,padding=1),\n",
    "    nn.ReLU(inplace=True),\n",
    "    nn.MaxPool2d(kernel_size=2),\n",
    "    nn.Flatten(),\n",
    "    nn.Linear(32,10)\n",
    ")\n",
    "# Since this is still a classfication problem we are using Cross Entropy Loss as our loss function\n",
    "crit = nn.CrossEntropyLoss()\n",
    "# We are also still using the SGD optimizer\n",
    "optim = torch.optim.SGD(model.parameters(),lr=0.1)"
   ]
  },
  {
   "cell_type": "code",
   "execution_count": 9,
   "id": "7e76e6f1-4733-474a-81e4-9f3095fb24bf",
   "metadata": {
    "id": "7e76e6f1-4733-474a-81e4-9f3095fb24bf",
    "outputId": "bc1fa949-77fe-4760-bcd0-bf1f60646461"
   },
   "outputs": [
    {
     "name": "stdout",
     "output_type": "stream",
     "text": [
      "2.2970400121476917\n",
      "2.271151383717855\n",
      "2.192166386710273\n",
      "1.8586749023861355\n",
      "1.2125170522265964\n",
      "0.7476721353001065\n",
      "0.48960680332448747\n",
      "0.3369720273547702\n",
      "0.24317965557177862\n",
      "0.1877035178244114\n"
     ]
    }
   ],
   "source": [
    "# Traininng process: same as before\n",
    "for epoch in range(10):\n",
    "    tot_loss = 0\n",
    "    for x,y in train_dl:\n",
    "        optim.zero_grad()\n",
    "        o = model(x)\n",
    "        l = crit(o,y)\n",
    "        tot_loss += l.item()\n",
    "        l.backward()\n",
    "        optim.step()\n",
    "    print(tot_loss/len(train_dl))"
   ]
  },
  {
   "cell_type": "markdown",
   "id": "395a5279-e762-4c30-95ae-87027e2575e0",
   "metadata": {
    "id": "395a5279-e762-4c30-95ae-87027e2575e0"
   },
   "source": [
    "# Skip connections and Residual Networks"
   ]
  },
  {
   "cell_type": "markdown",
   "id": "4d45286e-0717-40ff-9aa8-7a592a3fd469",
   "metadata": {
    "id": "4d45286e-0717-40ff-9aa8-7a592a3fd469"
   },
   "source": [
    "When training deep neural networks, we face a problem called vanishing gradient problem. This problem is due to the fact that when backpropagating the gradient (in other words applying the chain rule) the gradient becomes so small for the deeper layers that its training becomes extremely slow and unstable. Thus, in order to prevent this we use skip connections (connecting layers that are not consecutive) so the gradient has an alternative path where it can skip some layers and avoid being diminished. "
   ]
  },
  {
   "cell_type": "code",
   "execution_count": 10,
   "id": "fd59b378-d209-4cb3-94aa-8d6bd3b69897",
   "metadata": {
    "id": "fd59b378-d209-4cb3-94aa-8d6bd3b69897"
   },
   "outputs": [],
   "source": [
    "# Defining the basic residual block\n",
    "class BasicResidualBlock(nn.Module):\n",
    "    def __init__(self, in_planes, out_planes):\n",
    "        super().__init__()\n",
    "        self.direct = nn.Sequential(\n",
    "            nn.Conv2d(in_planes, out_planes,3,padding=1),\n",
    "            nn.BatchNorm2d(out_planes),\n",
    "            nn.ReLU(inplace=True),\n",
    "            nn.Conv2d(out_planes,out_planes,1),\n",
    "            nn.BatchNorm2d(out_planes)\n",
    "        )\n",
    "        \n",
    "        self.shortcut = nn.Sequential()\n",
    "        if in_planes != out_planes:\n",
    "            self.shortcut = nn.Sequential(\n",
    "                nn.Conv2d(in_planes, out_planes,1),\n",
    "                nn.BatchNorm2d(out_planes)\n",
    "            )\n",
    "        self.relu = nn.ReLU(inplace=True)\n",
    "        \n",
    "    def forward(self, x):\n",
    "        o = self.direct(x)\n",
    "        return self.relu(o + self.shortcut(x))"
   ]
  },
  {
   "cell_type": "code",
   "execution_count": 11,
   "id": "13155e7f-2f56-47da-8cae-69a6d8828bae",
   "metadata": {
    "id": "13155e7f-2f56-47da-8cae-69a6d8828bae"
   },
   "outputs": [],
   "source": [
    "model = nn.Sequential(\n",
    "    BasicResidualBlock(1,16),\n",
    "    nn.MaxPool2d(kernel_size=2),\n",
    "    BasicResidualBlock(16,32),\n",
    "    nn.MaxPool2d(kernel_size=2),\n",
    "    BasicResidualBlock(32,32),\n",
    "    nn.MaxPool2d(kernel_size=2),\n",
    "    nn.Flatten(),\n",
    "    nn.Linear(32,10)\n",
    ")\n",
    "crit = nn.CrossEntropyLoss()\n",
    "optim = torch.optim.SGD(model.parameters(),lr=0.1)"
   ]
  },
  {
   "cell_type": "code",
   "execution_count": 12,
   "id": "92a6e631-e4e4-48d9-8b93-e2d688067cdf",
   "metadata": {
    "id": "92a6e631-e4e4-48d9-8b93-e2d688067cdf",
    "outputId": "663f28ba-4bbd-4be6-b005-623667d57706"
   },
   "outputs": [
    {
     "name": "stdout",
     "output_type": "stream",
     "text": [
      "1.5384304831425348\n",
      "0.13391249655849405\n",
      "0.03679622666289409\n",
      "0.017365182387746043\n",
      "0.009804410176972549\n",
      "0.006703468525989188\n",
      "0.00521805355221861\n",
      "0.004274974189077814\n",
      "0.0036218349407944415\n",
      "0.003133683400746021\n"
     ]
    }
   ],
   "source": [
    "for epoch in range(10):\n",
    "    tot_loss = 0\n",
    "    for x,y in train_dl:\n",
    "        optim.zero_grad()\n",
    "        o = model(x)\n",
    "        l = crit(o,y)\n",
    "        tot_loss += l.item()\n",
    "        l.backward()\n",
    "        optim.step()\n",
    "    print(tot_loss/len(train_dl))"
   ]
  },
  {
   "cell_type": "markdown",
   "id": "04232c9b-67eb-42ee-8a70-3baf7587e4a8",
   "metadata": {
    "id": "04232c9b-67eb-42ee-8a70-3baf7587e4a8"
   },
   "source": [
    "# Autoencoder: Linear and Deconvolution"
   ]
  },
  {
   "cell_type": "code",
   "execution_count": 13,
   "id": "caa46e94-b2ee-443c-929e-9ae08c4e8809",
   "metadata": {
    "id": "caa46e94-b2ee-443c-929e-9ae08c4e8809"
   },
   "outputs": [],
   "source": [
    "class Reshape(nn.Module):\n",
    "    def __init__(self, new_shape):\n",
    "        super().__init__()\n",
    "        self.new_shape = new_shape\n",
    "        \n",
    "    def forward(self, x):\n",
    "        return x.view(self.new_shape)\n",
    "\n",
    "class LinearAutoencoder(nn.Module):\n",
    "    def __init__(self, latent=16,img_shape=(1,8,8)):\n",
    "        super().__init__()\n",
    "        \n",
    "        s = 1\n",
    "        for elem in img_shape:\n",
    "            s *= elem\n",
    "        \n",
    "        self.encoder = nn.Sequential(\n",
    "            nn.Flatten(),\n",
    "            nn.Linear(s,32),\n",
    "            nn.ReLU(inplace=True),\n",
    "            nn.Linear(32,latent),\n",
    "            nn.Tanh()\n",
    "        )\n",
    "        \n",
    "        self.decoder = nn.Sequential(\n",
    "            nn.Linear(latent,32),\n",
    "            nn.ReLU(inplace=True),\n",
    "            nn.Linear(32,s),\n",
    "            nn.Sigmoid(),\n",
    "            Reshape((-1,*img_shape))\n",
    "        )\n",
    "    \n",
    "    def forward(self,x):\n",
    "        enc = self.encoder(x)\n",
    "        return self.decoder(enc)"
   ]
  },
  {
   "cell_type": "code",
   "execution_count": 14,
   "id": "e63533c4-55e9-47f8-98b8-e89e149883cc",
   "metadata": {
    "id": "e63533c4-55e9-47f8-98b8-e89e149883cc"
   },
   "outputs": [],
   "source": [
    "model = LinearAutoencoder()\n",
    "crit = nn.MSELoss()\n",
    "optim = torch.optim.SGD(model.parameters(),lr=0.4)"
   ]
  },
  {
   "cell_type": "code",
   "execution_count": 15,
   "id": "adaf5d8b-4255-42a8-8506-a44468dda06a",
   "metadata": {
    "id": "adaf5d8b-4255-42a8-8506-a44468dda06a",
    "outputId": "7fb3c203-faad-4e1e-82ec-2c4d59c1a00a"
   },
   "outputs": [
    {
     "name": "stdout",
     "output_type": "stream",
     "text": [
      "0.17266242636574639\n",
      "0.15382812983459895\n",
      "0.11695603628953298\n",
      "0.08520220037963655\n",
      "0.07660132348537445\n",
      "0.07474049031734467\n",
      "0.07413673351208369\n",
      "0.0738513751162423\n",
      "0.07368429899215698\n",
      "0.07357371366686291\n",
      "0.07349442889293036\n",
      "0.07343419343233108\n",
      "0.07338638156652451\n",
      "0.07334708107842339\n",
      "0.07331384966770808\n",
      "0.07328506377008226\n",
      "0.07325959354639053\n",
      "0.07323662655221091\n",
      "0.07321557253599167\n",
      "0.07319597933027479\n"
     ]
    }
   ],
   "source": [
    "model.train()\n",
    "for epoch in range(20):\n",
    "    tot_loss = 0\n",
    "    for x,_ in train_dl:\n",
    "        optim.zero_grad()\n",
    "        o = model(x)\n",
    "        l = crit(o,x)\n",
    "        tot_loss += l.item()\n",
    "        l.backward()\n",
    "        optim.step()\n",
    "    print(tot_loss/len(train_dl))"
   ]
  },
  {
   "cell_type": "code",
   "execution_count": 16,
   "id": "92b856f7-3e73-4a21-9d25-35f963501ac7",
   "metadata": {
    "id": "92b856f7-3e73-4a21-9d25-35f963501ac7",
    "outputId": "bb349dd4-0955-4cbb-eca2-9e33eb629e1e"
   },
   "outputs": [
    {
     "data": {
      "image/png": "[encoded data removed]",
      "text/plain": [
       "<Figure size 432x288 with 8 Axes>"
      ]
     },
     "metadata": {
      "needs_background": "light"
     },
     "output_type": "display_data"
    }
   ],
   "source": [
    "model.eval()\n",
    "fig, axs = plt.subplots(2,4)\n",
    "for x,_ in test_dl:\n",
    "    with torch.no_grad():\n",
    "        o = model(x).numpy()\n",
    "    for i in range(4):\n",
    "        axs[0][i].imshow(x[i][0])\n",
    "        axs[1][i].imshow(o[i][0])\n",
    "    break"
   ]
  },
  {
   "cell_type": "code",
   "execution_count": 17,
   "id": "b8405f56-ca17-41d8-bec2-cdb30689887c",
   "metadata": {
    "id": "b8405f56-ca17-41d8-bec2-cdb30689887c"
   },
   "outputs": [],
   "source": [
    "class ConvDeconvAutoencoder(nn.Module):\n",
    "    def __init__(self, latent=16,img_shape=(1,8,8)):\n",
    "        super().__init__()\n",
    "        \n",
    "        s= 1\n",
    "        for elem in img_shape:\n",
    "            s *= elem\n",
    "        \n",
    "        self.encoder = nn.Sequential(\n",
    "            nn.Conv2d(img_shape[0],8,3,padding=1),\n",
    "            nn.ReLU(inplace=True),\n",
    "            nn.MaxPool2d(kernel_size=2),\n",
    "            nn.Conv2d(8,16,3,padding=1),\n",
    "            nn.ReLU(inplace=True),\n",
    "            nn.MaxPool2d(kernel_size=2),\n",
    "            nn.Conv2d(16,latent,3,padding=1),\n",
    "            nn.ReLU(inplace=True),\n",
    "            nn.MaxPool2d(kernel_size=2),\n",
    "            nn.Flatten(),\n",
    "            nn.Tanh()\n",
    "        )\n",
    "        \n",
    "        self.decoder = nn.Sequential(\n",
    "            nn.Linear(latent,32),\n",
    "            nn.ReLU(inplace=True),\n",
    "            Reshape((-1,8,2,2)),\n",
    "            nn.ConvTranspose2d(8,4,2,stride=2),\n",
    "            nn.BatchNorm2d(4),\n",
    "            nn.ConvTranspose2d(4,1,2,stride=2),\n",
    "            nn.Sigmoid()\n",
    "        )\n",
    "    \n",
    "    def forward(self,x):\n",
    "        enc = self.encoder(x)\n",
    "        return self.decoder(enc)"
   ]
  },
  {
   "cell_type": "code",
   "execution_count": 18,
   "id": "05863b19-5893-47bf-85b2-577652cbd953",
   "metadata": {
    "id": "05863b19-5893-47bf-85b2-577652cbd953"
   },
   "outputs": [],
   "source": [
    "model = ConvDeconvAutoencoder()\n",
    "crit = nn.MSELoss()\n",
    "optim = torch.optim.SGD(model.parameters(),lr=0.4)"
   ]
  },
  {
   "cell_type": "code",
   "execution_count": 19,
   "id": "06ff9627-6f8a-4022-a54f-a33f9476c28b",
   "metadata": {
    "id": "06ff9627-6f8a-4022-a54f-a33f9476c28b",
    "outputId": "e5be2c96-207d-4c4c-c848-28eef883ac12"
   },
   "outputs": [
    {
     "name": "stdout",
     "output_type": "stream",
     "text": [
      "0.14662512905067868\n",
      "0.08730662730005052\n",
      "0.07875098503298229\n",
      "0.07584432860215505\n",
      "0.07248887966076532\n",
      "0.06893152445554733\n",
      "0.06472136593527264\n",
      "0.059508122917678624\n",
      "0.05596679018603431\n",
      "0.05298583151565658\n",
      "0.050667735603120594\n",
      "0.0486472160451942\n",
      "0.046542392505539786\n",
      "0.044687312179141576\n",
      "0.04326356119579739\n",
      "0.04209235351946619\n",
      "0.0409843525952763\n",
      "0.03926034627689256\n",
      "0.03880033103956117\n",
      "0.03725074844227897\n"
     ]
    }
   ],
   "source": [
    "model.train()\n",
    "for epoch in range(20):\n",
    "    tot_loss = 0\n",
    "    for x,_ in train_dl:\n",
    "        optim.zero_grad()\n",
    "        o = model(x)\n",
    "        l = crit(o,x)\n",
    "        tot_loss += l.item()\n",
    "        l.backward()\n",
    "        optim.step()\n",
    "    print(tot_loss/len(train_dl))"
   ]
  },
  {
   "cell_type": "code",
   "execution_count": 20,
   "id": "ae7f86b8-d892-4e85-b584-59b14624af7d",
   "metadata": {
    "id": "ae7f86b8-d892-4e85-b584-59b14624af7d",
    "outputId": "cae15ea3-c4ce-4c08-f535-bac6099d0060"
   },
   "outputs": [
    {
     "data": {
      "image/png": "[encoded data removed]",
      "text/plain": [
       "<Figure size 432x288 with 8 Axes>"
      ]
     },
     "metadata": {
      "needs_background": "light"
     },
     "output_type": "display_data"
    }
   ],
   "source": [
    "model.eval()\n",
    "fig, axs = plt.subplots(2,4)\n",
    "for x,_ in test_dl:\n",
    "    with torch.no_grad():\n",
    "        o = model(x).numpy()\n",
    "    for i in range(4):\n",
    "        axs[0][i].imshow(x[i][0])\n",
    "        axs[1][i].imshow(o[i][0])\n",
    "    break"
   ]
  },
  {
   "cell_type": "markdown",
   "id": "59621883-a922-448d-aa5e-eda6bfd68174",
   "metadata": {
    "id": "59621883-a922-448d-aa5e-eda6bfd68174"
   },
   "source": [
    "# GAN: Linear and Deconvolution"
   ]
  },
  {
   "cell_type": "code",
   "execution_count": 21,
   "id": "18b028a3-7bb5-437a-8fce-db518e8c1608",
   "metadata": {
    "id": "18b028a3-7bb5-437a-8fce-db518e8c1608"
   },
   "outputs": [],
   "source": [
    "latent = 16\n",
    "model_generator = nn.Sequential(\n",
    "    nn.Linear(latent,32),\n",
    "    nn.ReLU(),\n",
    "    nn.Linear(32,64),\n",
    "    nn.Sigmoid(),\n",
    "    Reshape((-1,1,8,8))\n",
    ")\n",
    "\n",
    "model_discriminator = nn.Sequential(\n",
    "    nn.Conv2d(1,16,3,padding=1),\n",
    "    nn.ReLU(inplace=True),\n",
    "    nn.MaxPool2d(kernel_size=2),\n",
    "    nn.Conv2d(16,32,3,padding=1),\n",
    "    nn.ReLU(inplace=True),\n",
    "    nn.MaxPool2d(kernel_size=2),\n",
    "    nn.Conv2d(32,32,3,padding=1),\n",
    "    nn.ReLU(inplace=True),\n",
    "    nn.MaxPool2d(kernel_size=2),\n",
    "    nn.Flatten(),\n",
    "    nn.Linear(32,1)\n",
    ")\n",
    "\n",
    "crit = nn.BCEWithLogitsLoss()\n",
    "optim_generator = torch.optim.SGD(model_generator.parameters(),lr=0.2)\n",
    "optim_discriminator = torch.optim.SGD(model_discriminator.parameters(),lr=0.02)"
   ]
  },
  {
   "cell_type": "code",
   "execution_count": 27,
   "id": "d9b22447-9d30-444a-a10a-659365fdcf91",
   "metadata": {
    "id": "d9b22447-9d30-444a-a10a-659365fdcf91",
    "outputId": "1ed0ec50-1dbc-4823-f546-08cdc93f8f6e"
   },
   "outputs": [
    {
     "name": "stdout",
     "output_type": "stream",
     "text": [
      "loss discriminattor: 0.6460381507873535, loss generator: 0.36079277396202086\n",
      "loss discriminattor: 0.6673621535301208, loss generator: 0.3616842372549905\n",
      "loss discriminattor: 0.6948077956835429, loss generator: 0.35605476796627045\n",
      "loss discriminattor: 0.7628933270772298, loss generator: 0.3280831025706397\n",
      "loss discriminattor: 0.7327257951100667, loss generator: 0.3340194331275092\n",
      "loss discriminattor: 0.7890731877750821, loss generator: 0.3068840616279178\n",
      "loss discriminattor: 0.7572043220202128, loss generator: 0.31687471204333834\n",
      "loss discriminattor: 0.7146069407463074, loss generator: 0.3315608885553148\n",
      "loss discriminattor: 0.7106145130263435, loss generator: 0.3315004732873705\n",
      "loss discriminattor: 0.6969422062238058, loss generator: 0.33694734970728557\n"
     ]
    }
   ],
   "source": [
    "model_generator.train()\n",
    "model_discriminator.train()\n",
    "for epoch in range(10):\n",
    "    tot_loss_discriminator = 0\n",
    "    tot_loss_generator = 0\n",
    "    for x,y in train_dl:\n",
    "        optim_generator.zero_grad()\n",
    "        optim_discriminator.zero_grad()\n",
    "        \n",
    "        N = len(x)\n",
    "        real_labels = torch.ones((N,1))\n",
    "        fake_labels = torch.zeros((N,1))\n",
    "        \n",
    "        noise = torch.randn((N,latent))\n",
    "        fake_imgs = model_generator(noise).detach()\n",
    "        loss_discriminator = 0.5 * (crit(model_discriminator(fake_imgs),fake_labels) + \\\n",
    "                            crit(model_discriminator(x),real_labels))\n",
    "        \n",
    "        noise = torch.randn((N,latent))\n",
    "        fake_imgs = model_generator(noise)\n",
    "        loss_generator = crit(model_discriminator(fake_imgs),real_labels)\n",
    "        \n",
    "        loss_discriminator.backward()\n",
    "        loss_generator.backward()\n",
    "        \n",
    "        tot_loss_discriminator += loss_discriminator.item()\n",
    "        tot_loss_generator += loss_generator.item()\n",
    "        \n",
    "        optim_generator.step()\n",
    "        optim_discriminator.step()\n",
    "    print(f\"loss discriminattor: {tot_loss_discriminator / len(train_dl)}, loss generator: {tot_loss_generator / len(train_dl)}\")"
   ]
  },
  {
   "cell_type": "code",
   "execution_count": 28,
   "id": "b23c5f6b-3a04-4ff6-8d8c-748226be0a39",
   "metadata": {
    "id": "b23c5f6b-3a04-4ff6-8d8c-748226be0a39",
    "outputId": "73d7524f-7830-4385-b51a-dea8f235ccdd"
   },
   "outputs": [
    {
     "data": {
      "image/png": "[encoded data removed]",
      "text/plain": [
       "<Figure size 432x288 with 8 Axes>"
      ]
     },
     "metadata": {
      "needs_background": "light"
     },
     "output_type": "display_data"
    }
   ],
   "source": [
    "model_generator.eval()\n",
    "fig, axs = plt.subplots(2,4)\n",
    "\n",
    "noise = torch.randn((8,latent))\n",
    "with torch.no_grad():\n",
    "    o = model_generator(noise).numpy()\n",
    "    \n",
    "for i in range(8):\n",
    "    axs[i//4, i%4].imshow(o[i][0])\n"
   ]
  },
  {
   "cell_type": "code",
   "execution_count": 29,
   "id": "1de1cd1e-5c51-40da-8743-917f527afd25",
   "metadata": {
    "id": "1de1cd1e-5c51-40da-8743-917f527afd25",
    "outputId": "ad5d66d4-fe02-40d8-f796-7a813c66091b"
   },
   "outputs": [
    {
     "data": {
      "text/plain": [
       "torch.Size([1, 3, 4, 4])"
      ]
     },
     "execution_count": 29,
     "metadata": {},
     "output_type": "execute_result"
    }
   ],
   "source": [
    "tmp = nn.ConvTranspose2d(1,3,3)\n",
    "tmp(torch.zeros((1,1,2,2))).shape"
   ]
  },
  {
   "cell_type": "code",
   "execution_count": 30,
   "id": "e7a28015-0be3-46b1-8bbd-7003290de438",
   "metadata": {
    "id": "e7a28015-0be3-46b1-8bbd-7003290de438"
   },
   "outputs": [],
   "source": [
    "latent = 16\n",
    "model_generator = nn.Sequential(\n",
    "    nn.Linear(latent,64),\n",
    "    nn.ReLU(inplace=True),\n",
    "    Reshape((-1,64,1,1)),\n",
    "    nn.ConvTranspose2d(64,16,2),\n",
    "    nn.ReLU(inplace=True),\n",
    "    nn.ConvTranspose2d(16,8,3),\n",
    "    nn.ReLU(inplace=True),\n",
    "    nn.ConvTranspose2d(8,1,5),\n",
    "    nn.Sigmoid()\n",
    ")\n",
    "\n",
    "model_discriminator = nn.Sequential(\n",
    "    nn.Conv2d(1,16,3,padding=1),\n",
    "    nn.ReLU(inplace=True),\n",
    "    nn.MaxPool2d(kernel_size=2),\n",
    "    nn.Conv2d(16,32,3,padding=1),\n",
    "    nn.ReLU(inplace=True),\n",
    "    nn.MaxPool2d(kernel_size=2),\n",
    "    nn.Conv2d(32,32,3,padding=1),\n",
    "    nn.ReLU(inplace=True),\n",
    "    nn.MaxPool2d(kernel_size=2),\n",
    "    nn.Flatten(),\n",
    "    nn.Linear(32,1)\n",
    ")\n",
    "\n",
    "crit = nn.BCEWithLogitsLoss()\n",
    "optim_generator = torch.optim.SGD(model_generator.parameters(),lr=0.1)\n",
    "optim_discriminator = torch.optim.SGD(model_discriminator.parameters(),lr=0.001)"
   ]
  },
  {
   "cell_type": "code",
   "execution_count": 33,
   "id": "721406cb-fc3c-4dd4-8a8f-b8692e23d76d",
   "metadata": {
    "id": "721406cb-fc3c-4dd4-8a8f-b8692e23d76d",
    "outputId": "b0855809-76bc-4956-e472-2f15cc1a86a0"
   },
   "outputs": [
    {
     "name": "stdout",
     "output_type": "stream",
     "text": [
      "loss discriminattor: 0.6880115257369147, loss generator: 0.683040992418925\n",
      "loss discriminattor: 0.6876822193463643, loss generator: 0.6827542728847927\n",
      "loss discriminattor: 0.687336430284712, loss generator: 0.6825026949246724\n",
      "loss discriminattor: 0.6869725333319769, loss generator: 0.682241087489658\n",
      "loss discriminattor: 0.6866139875517951, loss generator: 0.6819555229610867\n",
      "loss discriminattor: 0.6862587107552423, loss generator: 0.6816265967157152\n",
      "loss discriminattor: 0.6859024657143487, loss generator: 0.6812769995795356\n",
      "loss discriminattor: 0.6855558461613125, loss generator: 0.6809089581171671\n",
      "loss discriminattor: 0.6852169659402635, loss generator: 0.6805261770884196\n",
      "loss discriminattor: 0.6848680893580119, loss generator: 0.6801503446367052\n"
     ]
    }
   ],
   "source": [
    "model_generator.train()\n",
    "model_discriminator.train()\n",
    "for epoch in range(10):\n",
    "    tot_loss_discriminator = 0\n",
    "    tot_loss_generator = 0\n",
    "    for x,y in train_dl:\n",
    "        optim_generator.zero_grad()\n",
    "        optim_discriminator.zero_grad()\n",
    "        \n",
    "        N = len(x)\n",
    "        real_labels = torch.ones((N,1))\n",
    "        fake_labels = torch.zeros((N,1))\n",
    "        \n",
    "        noise = torch.randn((N,latent))\n",
    "        fake_imgs = model_generator(noise).detach()\n",
    "        loss_discriminator = 0.5 * (crit(model_discriminator(fake_imgs),fake_labels) + \\\n",
    "                            crit(model_discriminator(x),real_labels))\n",
    "        loss_discriminator.backward()\n",
    "        optim_discriminator.step()\n",
    "        \n",
    "        noise = torch.randn((N,latent))\n",
    "        fake_imgs = model_generator(noise)\n",
    "        loss_generator = crit(model_discriminator(fake_imgs),real_labels)\n",
    "        loss_generator.backward()\n",
    "        optim_generator.step()\n",
    "        \n",
    "        tot_loss_discriminator += loss_discriminator.item()\n",
    "        tot_loss_generator += loss_generator.item()\n",
    "        \n",
    "    print(f\"loss discriminattor: {tot_loss_discriminator / len(train_dl)}, loss generator: {tot_loss_generator / len(train_dl)}\")"
   ]
  },
  {
   "cell_type": "code",
   "execution_count": 35,
   "id": "f04d067e-9ebe-4a28-b516-40d03583e60b",
   "metadata": {
    "id": "f04d067e-9ebe-4a28-b516-40d03583e60b",
    "outputId": "7e124b6f-d881-4cd9-8c60-9a57580f4fde"
   },
   "outputs": [
    {
     "name": "stdout",
     "output_type": "stream",
     "text": [
      "tensor(-1.8657)\n"
     ]
    },
    {
     "data": {
      "image/png": "[encoded data removed]",
      "text/plain": [
       "<Figure size 432x288 with 8 Axes>"
      ]
     },
     "metadata": {
      "needs_background": "light"
     },
     "output_type": "display_data"
    }
   ],
   "source": [
    "model_generator.eval()\n",
    "fig, axs = plt.subplots(2,4)\n",
    "\n",
    "noise = torch.randn((8,latent))\n",
    "print(noise[0][0])\n",
    "with torch.no_grad():\n",
    "    o = model_generator(noise).numpy()\n",
    "    \n",
    "for i in range(8):\n",
    "    axs[i//4, i%4].imshow(o[i][0])\n",
    "\n"
   ]
  }
 ],
 "metadata": {
  "colab": {
   "collapsed_sections": [],
   "provenance": []
  },
  "kernelspec": {
   "display_name": "Python 3 (ipykernel)",
   "language": "python",
   "name": "python3"
  },
  "language_info": {
   "codemirror_mode": {
    "name": "ipython",
    "version": 3
   },
   "file_extension": ".py",
   "mimetype": "text/x-python",
   "name": "python",
   "nbconvert_exporter": "python",
   "pygments_lexer": "ipython3",
   "version": "3.9.10"
  }
 },
 "nbformat": 4,
 "nbformat_minor": 5
}
