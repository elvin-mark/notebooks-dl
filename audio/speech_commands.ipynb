{
  "nbformat": 4,
  "nbformat_minor": 0,
  "metadata": {
    "colab": {
      "name": "speech_commands.ipynb",
      "provenance": [],
      "collapsed_sections": []
    },
    "kernelspec": {
      "name": "python3",
      "display_name": "Python 3"
    },
    "language_info": {
      "name": "python"
    },
    "accelerator": "GPU",
    "widgets": {
      "application/vnd.jupyter.widget-state+json": {
        "09584a04d28f4ccbb568ee5a6d638b43": {
          "model_module": "@jupyter-widgets/controls",
          "model_name": "HBoxModel",
          "model_module_version": "1.5.0",
          "state": {
            "_view_name": "HBoxView",
            "_dom_classes": [],
            "_model_name": "HBoxModel",
            "_view_module": "@jupyter-widgets/controls",
            "_model_module_version": "1.5.0",
            "_view_count": null,
            "_view_module_version": "1.5.0",
            "box_style": "",
            "layout": "IPY_MODEL_dc3ae41f5f784b25a1d252c50c5db81c",
            "_model_module": "@jupyter-widgets/controls",
            "children": [
              "IPY_MODEL_cc81a223d5cc4642a7f1258ae3ee4166",
              "IPY_MODEL_d2cc5a402ef74cb59cbcef4d392b6f8b",
              "IPY_MODEL_5907405563924d75b63c18032a62a079"
            ]
          }
        },
        "dc3ae41f5f784b25a1d252c50c5db81c": {
          "model_module": "@jupyter-widgets/base",
          "model_name": "LayoutModel",
          "model_module_version": "1.2.0",
          "state": {
            "_view_name": "LayoutView",
            "grid_template_rows": null,
            "right": null,
            "justify_content": null,
            "_view_module": "@jupyter-widgets/base",
            "overflow": null,
            "_model_module_version": "1.2.0",
            "_view_count": null,
            "flex_flow": null,
            "width": null,
            "min_width": null,
            "border": null,
            "align_items": null,
            "bottom": null,
            "_model_module": "@jupyter-widgets/base",
            "top": null,
            "grid_column": null,
            "overflow_y": null,
            "overflow_x": null,
            "grid_auto_flow": null,
            "grid_area": null,
            "grid_template_columns": null,
            "flex": null,
            "_model_name": "LayoutModel",
            "justify_items": null,
            "grid_row": null,
            "max_height": null,
            "align_content": null,
            "visibility": null,
            "align_self": null,
            "height": null,
            "min_height": null,
            "padding": null,
            "grid_auto_rows": null,
            "grid_gap": null,
            "max_width": null,
            "order": null,
            "_view_module_version": "1.2.0",
            "grid_template_areas": null,
            "object_position": null,
            "object_fit": null,
            "grid_auto_columns": null,
            "margin": null,
            "display": null,
            "left": null
          }
        },
        "cc81a223d5cc4642a7f1258ae3ee4166": {
          "model_module": "@jupyter-widgets/controls",
          "model_name": "HTMLModel",
          "model_module_version": "1.5.0",
          "state": {
            "_view_name": "HTMLView",
            "style": "IPY_MODEL_17141990fedc42578aecc2de1aee001d",
            "_dom_classes": [],
            "description": "",
            "_model_name": "HTMLModel",
            "placeholder": "​",
            "_view_module": "@jupyter-widgets/controls",
            "_model_module_version": "1.5.0",
            "value": "100%",
            "_view_count": null,
            "_view_module_version": "1.5.0",
            "description_tooltip": null,
            "_model_module": "@jupyter-widgets/controls",
            "layout": "IPY_MODEL_47707ec918e24d3eb56e362714e1ab82"
          }
        },
        "d2cc5a402ef74cb59cbcef4d392b6f8b": {
          "model_module": "@jupyter-widgets/controls",
          "model_name": "FloatProgressModel",
          "model_module_version": "1.5.0",
          "state": {
            "_view_name": "ProgressView",
            "style": "IPY_MODEL_88077c7251b84fb7875045697308f50b",
            "_dom_classes": [],
            "description": "",
            "_model_name": "FloatProgressModel",
            "bar_style": "success",
            "max": 2428923189,
            "_view_module": "@jupyter-widgets/controls",
            "_model_module_version": "1.5.0",
            "value": 2428923189,
            "_view_count": null,
            "_view_module_version": "1.5.0",
            "orientation": "horizontal",
            "min": 0,
            "description_tooltip": null,
            "_model_module": "@jupyter-widgets/controls",
            "layout": "IPY_MODEL_38daaa68c1804e7e982816a5fad197fa"
          }
        },
        "5907405563924d75b63c18032a62a079": {
          "model_module": "@jupyter-widgets/controls",
          "model_name": "HTMLModel",
          "model_module_version": "1.5.0",
          "state": {
            "_view_name": "HTMLView",
            "style": "IPY_MODEL_be2192e73f8d4ee49b68691a1f371a61",
            "_dom_classes": [],
            "description": "",
            "_model_name": "HTMLModel",
            "placeholder": "​",
            "_view_module": "@jupyter-widgets/controls",
            "_model_module_version": "1.5.0",
            "value": " 2.26G/2.26G [00:36&lt;00:00, 165MB/s]",
            "_view_count": null,
            "_view_module_version": "1.5.0",
            "description_tooltip": null,
            "_model_module": "@jupyter-widgets/controls",
            "layout": "IPY_MODEL_e2fe84deff3e486d959a30792de3e25b"
          }
        },
        "17141990fedc42578aecc2de1aee001d": {
          "model_module": "@jupyter-widgets/controls",
          "model_name": "DescriptionStyleModel",
          "model_module_version": "1.5.0",
          "state": {
            "_view_name": "StyleView",
            "_model_name": "DescriptionStyleModel",
            "description_width": "",
            "_view_module": "@jupyter-widgets/base",
            "_model_module_version": "1.5.0",
            "_view_count": null,
            "_view_module_version": "1.2.0",
            "_model_module": "@jupyter-widgets/controls"
          }
        },
        "47707ec918e24d3eb56e362714e1ab82": {
          "model_module": "@jupyter-widgets/base",
          "model_name": "LayoutModel",
          "model_module_version": "1.2.0",
          "state": {
            "_view_name": "LayoutView",
            "grid_template_rows": null,
            "right": null,
            "justify_content": null,
            "_view_module": "@jupyter-widgets/base",
            "overflow": null,
            "_model_module_version": "1.2.0",
            "_view_count": null,
            "flex_flow": null,
            "width": null,
            "min_width": null,
            "border": null,
            "align_items": null,
            "bottom": null,
            "_model_module": "@jupyter-widgets/base",
            "top": null,
            "grid_column": null,
            "overflow_y": null,
            "overflow_x": null,
            "grid_auto_flow": null,
            "grid_area": null,
            "grid_template_columns": null,
            "flex": null,
            "_model_name": "LayoutModel",
            "justify_items": null,
            "grid_row": null,
            "max_height": null,
            "align_content": null,
            "visibility": null,
            "align_self": null,
            "height": null,
            "min_height": null,
            "padding": null,
            "grid_auto_rows": null,
            "grid_gap": null,
            "max_width": null,
            "order": null,
            "_view_module_version": "1.2.0",
            "grid_template_areas": null,
            "object_position": null,
            "object_fit": null,
            "grid_auto_columns": null,
            "margin": null,
            "display": null,
            "left": null
          }
        },
        "88077c7251b84fb7875045697308f50b": {
          "model_module": "@jupyter-widgets/controls",
          "model_name": "ProgressStyleModel",
          "model_module_version": "1.5.0",
          "state": {
            "_view_name": "StyleView",
            "_model_name": "ProgressStyleModel",
            "description_width": "",
            "_view_module": "@jupyter-widgets/base",
            "_model_module_version": "1.5.0",
            "_view_count": null,
            "_view_module_version": "1.2.0",
            "bar_color": null,
            "_model_module": "@jupyter-widgets/controls"
          }
        },
        "38daaa68c1804e7e982816a5fad197fa": {
          "model_module": "@jupyter-widgets/base",
          "model_name": "LayoutModel",
          "model_module_version": "1.2.0",
          "state": {
            "_view_name": "LayoutView",
            "grid_template_rows": null,
            "right": null,
            "justify_content": null,
            "_view_module": "@jupyter-widgets/base",
            "overflow": null,
            "_model_module_version": "1.2.0",
            "_view_count": null,
            "flex_flow": null,
            "width": null,
            "min_width": null,
            "border": null,
            "align_items": null,
            "bottom": null,
            "_model_module": "@jupyter-widgets/base",
            "top": null,
            "grid_column": null,
            "overflow_y": null,
            "overflow_x": null,
            "grid_auto_flow": null,
            "grid_area": null,
            "grid_template_columns": null,
            "flex": null,
            "_model_name": "LayoutModel",
            "justify_items": null,
            "grid_row": null,
            "max_height": null,
            "align_content": null,
            "visibility": null,
            "align_self": null,
            "height": null,
            "min_height": null,
            "padding": null,
            "grid_auto_rows": null,
            "grid_gap": null,
            "max_width": null,
            "order": null,
            "_view_module_version": "1.2.0",
            "grid_template_areas": null,
            "object_position": null,
            "object_fit": null,
            "grid_auto_columns": null,
            "margin": null,
            "display": null,
            "left": null
          }
        },
        "be2192e73f8d4ee49b68691a1f371a61": {
          "model_module": "@jupyter-widgets/controls",
          "model_name": "DescriptionStyleModel",
          "model_module_version": "1.5.0",
          "state": {
            "_view_name": "StyleView",
            "_model_name": "DescriptionStyleModel",
            "description_width": "",
            "_view_module": "@jupyter-widgets/base",
            "_model_module_version": "1.5.0",
            "_view_count": null,
            "_view_module_version": "1.2.0",
            "_model_module": "@jupyter-widgets/controls"
          }
        },
        "e2fe84deff3e486d959a30792de3e25b": {
          "model_module": "@jupyter-widgets/base",
          "model_name": "LayoutModel",
          "model_module_version": "1.2.0",
          "state": {
            "_view_name": "LayoutView",
            "grid_template_rows": null,
            "right": null,
            "justify_content": null,
            "_view_module": "@jupyter-widgets/base",
            "overflow": null,
            "_model_module_version": "1.2.0",
            "_view_count": null,
            "flex_flow": null,
            "width": null,
            "min_width": null,
            "border": null,
            "align_items": null,
            "bottom": null,
            "_model_module": "@jupyter-widgets/base",
            "top": null,
            "grid_column": null,
            "overflow_y": null,
            "overflow_x": null,
            "grid_auto_flow": null,
            "grid_area": null,
            "grid_template_columns": null,
            "flex": null,
            "_model_name": "LayoutModel",
            "justify_items": null,
            "grid_row": null,
            "max_height": null,
            "align_content": null,
            "visibility": null,
            "align_self": null,
            "height": null,
            "min_height": null,
            "padding": null,
            "grid_auto_rows": null,
            "grid_gap": null,
            "max_width": null,
            "order": null,
            "_view_module_version": "1.2.0",
            "grid_template_areas": null,
            "object_position": null,
            "object_fit": null,
            "grid_auto_columns": null,
            "margin": null,
            "display": null,
            "left": null
          }
        },
        "7050184a25fa4e07b5bf1ccc3d673939": {
          "model_module": "@jupyter-widgets/controls",
          "model_name": "HBoxModel",
          "model_module_version": "1.5.0",
          "state": {
            "_view_name": "HBoxView",
            "_dom_classes": [],
            "_model_name": "HBoxModel",
            "_view_module": "@jupyter-widgets/controls",
            "_model_module_version": "1.5.0",
            "_view_count": null,
            "_view_module_version": "1.5.0",
            "box_style": "",
            "layout": "IPY_MODEL_983851b3e4a24f4d915f72bb69e79b25",
            "_model_module": "@jupyter-widgets/controls",
            "children": [
              "IPY_MODEL_8c7441a20c084c37be11e60cec564e91",
              "IPY_MODEL_9f34f0a0bcc143fa819b39cbdd69f4b8",
              "IPY_MODEL_b2efffc218a445998dbbd795eab2f449"
            ]
          }
        },
        "983851b3e4a24f4d915f72bb69e79b25": {
          "model_module": "@jupyter-widgets/base",
          "model_name": "LayoutModel",
          "model_module_version": "1.2.0",
          "state": {
            "_view_name": "LayoutView",
            "grid_template_rows": null,
            "right": null,
            "justify_content": null,
            "_view_module": "@jupyter-widgets/base",
            "overflow": null,
            "_model_module_version": "1.2.0",
            "_view_count": null,
            "flex_flow": null,
            "width": null,
            "min_width": null,
            "border": null,
            "align_items": null,
            "bottom": null,
            "_model_module": "@jupyter-widgets/base",
            "top": null,
            "grid_column": null,
            "overflow_y": null,
            "overflow_x": null,
            "grid_auto_flow": null,
            "grid_area": null,
            "grid_template_columns": null,
            "flex": null,
            "_model_name": "LayoutModel",
            "justify_items": null,
            "grid_row": null,
            "max_height": null,
            "align_content": null,
            "visibility": null,
            "align_self": null,
            "height": null,
            "min_height": null,
            "padding": null,
            "grid_auto_rows": null,
            "grid_gap": null,
            "max_width": null,
            "order": null,
            "_view_module_version": "1.2.0",
            "grid_template_areas": null,
            "object_position": null,
            "object_fit": null,
            "grid_auto_columns": null,
            "margin": null,
            "display": null,
            "left": null
          }
        },
        "8c7441a20c084c37be11e60cec564e91": {
          "model_module": "@jupyter-widgets/controls",
          "model_name": "HTMLModel",
          "model_module_version": "1.5.0",
          "state": {
            "_view_name": "HTMLView",
            "style": "IPY_MODEL_6eda360b5ffa433f8a6f46c46daa01a9",
            "_dom_classes": [],
            "description": "",
            "_model_name": "HTMLModel",
            "placeholder": "​",
            "_view_module": "@jupyter-widgets/controls",
            "_model_module_version": "1.5.0",
            "value": "100%",
            "_view_count": null,
            "_view_module_version": "1.5.0",
            "description_tooltip": null,
            "_model_module": "@jupyter-widgets/controls",
            "layout": "IPY_MODEL_0f954503ceff48d088ff63121acc92ec"
          }
        },
        "9f34f0a0bcc143fa819b39cbdd69f4b8": {
          "model_module": "@jupyter-widgets/controls",
          "model_name": "FloatProgressModel",
          "model_module_version": "1.5.0",
          "state": {
            "_view_name": "ProgressView",
            "style": "IPY_MODEL_735ae59187bd4de0a5654363ee9b133f",
            "_dom_classes": [],
            "description": "",
            "_model_name": "FloatProgressModel",
            "bar_style": "success",
            "max": 10,
            "_view_module": "@jupyter-widgets/controls",
            "_model_module_version": "1.5.0",
            "value": 10,
            "_view_count": null,
            "_view_module_version": "1.5.0",
            "orientation": "horizontal",
            "min": 0,
            "description_tooltip": null,
            "_model_module": "@jupyter-widgets/controls",
            "layout": "IPY_MODEL_e13a76982c0d4a0284e20ea47436c9d6"
          }
        },
        "b2efffc218a445998dbbd795eab2f449": {
          "model_module": "@jupyter-widgets/controls",
          "model_name": "HTMLModel",
          "model_module_version": "1.5.0",
          "state": {
            "_view_name": "HTMLView",
            "style": "IPY_MODEL_cc478a37c8ba4b749346d2af7922e690",
            "_dom_classes": [],
            "description": "",
            "_model_name": "HTMLModel",
            "placeholder": "​",
            "_view_module": "@jupyter-widgets/controls",
            "_model_module_version": "1.5.0",
            "value": " 10/10 [22:32&lt;00:00, 134.49s/it]",
            "_view_count": null,
            "_view_module_version": "1.5.0",
            "description_tooltip": null,
            "_model_module": "@jupyter-widgets/controls",
            "layout": "IPY_MODEL_bdecd8746ac940868c65d96daf68589b"
          }
        },
        "6eda360b5ffa433f8a6f46c46daa01a9": {
          "model_module": "@jupyter-widgets/controls",
          "model_name": "DescriptionStyleModel",
          "model_module_version": "1.5.0",
          "state": {
            "_view_name": "StyleView",
            "_model_name": "DescriptionStyleModel",
            "description_width": "",
            "_view_module": "@jupyter-widgets/base",
            "_model_module_version": "1.5.0",
            "_view_count": null,
            "_view_module_version": "1.2.0",
            "_model_module": "@jupyter-widgets/controls"
          }
        },
        "0f954503ceff48d088ff63121acc92ec": {
          "model_module": "@jupyter-widgets/base",
          "model_name": "LayoutModel",
          "model_module_version": "1.2.0",
          "state": {
            "_view_name": "LayoutView",
            "grid_template_rows": null,
            "right": null,
            "justify_content": null,
            "_view_module": "@jupyter-widgets/base",
            "overflow": null,
            "_model_module_version": "1.2.0",
            "_view_count": null,
            "flex_flow": null,
            "width": null,
            "min_width": null,
            "border": null,
            "align_items": null,
            "bottom": null,
            "_model_module": "@jupyter-widgets/base",
            "top": null,
            "grid_column": null,
            "overflow_y": null,
            "overflow_x": null,
            "grid_auto_flow": null,
            "grid_area": null,
            "grid_template_columns": null,
            "flex": null,
            "_model_name": "LayoutModel",
            "justify_items": null,
            "grid_row": null,
            "max_height": null,
            "align_content": null,
            "visibility": null,
            "align_self": null,
            "height": null,
            "min_height": null,
            "padding": null,
            "grid_auto_rows": null,
            "grid_gap": null,
            "max_width": null,
            "order": null,
            "_view_module_version": "1.2.0",
            "grid_template_areas": null,
            "object_position": null,
            "object_fit": null,
            "grid_auto_columns": null,
            "margin": null,
            "display": null,
            "left": null
          }
        },
        "735ae59187bd4de0a5654363ee9b133f": {
          "model_module": "@jupyter-widgets/controls",
          "model_name": "ProgressStyleModel",
          "model_module_version": "1.5.0",
          "state": {
            "_view_name": "StyleView",
            "_model_name": "ProgressStyleModel",
            "description_width": "",
            "_view_module": "@jupyter-widgets/base",
            "_model_module_version": "1.5.0",
            "_view_count": null,
            "_view_module_version": "1.2.0",
            "bar_color": null,
            "_model_module": "@jupyter-widgets/controls"
          }
        },
        "e13a76982c0d4a0284e20ea47436c9d6": {
          "model_module": "@jupyter-widgets/base",
          "model_name": "LayoutModel",
          "model_module_version": "1.2.0",
          "state": {
            "_view_name": "LayoutView",
            "grid_template_rows": null,
            "right": null,
            "justify_content": null,
            "_view_module": "@jupyter-widgets/base",
            "overflow": null,
            "_model_module_version": "1.2.0",
            "_view_count": null,
            "flex_flow": null,
            "width": null,
            "min_width": null,
            "border": null,
            "align_items": null,
            "bottom": null,
            "_model_module": "@jupyter-widgets/base",
            "top": null,
            "grid_column": null,
            "overflow_y": null,
            "overflow_x": null,
            "grid_auto_flow": null,
            "grid_area": null,
            "grid_template_columns": null,
            "flex": null,
            "_model_name": "LayoutModel",
            "justify_items": null,
            "grid_row": null,
            "max_height": null,
            "align_content": null,
            "visibility": null,
            "align_self": null,
            "height": null,
            "min_height": null,
            "padding": null,
            "grid_auto_rows": null,
            "grid_gap": null,
            "max_width": null,
            "order": null,
            "_view_module_version": "1.2.0",
            "grid_template_areas": null,
            "object_position": null,
            "object_fit": null,
            "grid_auto_columns": null,
            "margin": null,
            "display": null,
            "left": null
          }
        },
        "cc478a37c8ba4b749346d2af7922e690": {
          "model_module": "@jupyter-widgets/controls",
          "model_name": "DescriptionStyleModel",
          "model_module_version": "1.5.0",
          "state": {
            "_view_name": "StyleView",
            "_model_name": "DescriptionStyleModel",
            "description_width": "",
            "_view_module": "@jupyter-widgets/base",
            "_model_module_version": "1.5.0",
            "_view_count": null,
            "_view_module_version": "1.2.0",
            "_model_module": "@jupyter-widgets/controls"
          }
        },
        "bdecd8746ac940868c65d96daf68589b": {
          "model_module": "@jupyter-widgets/base",
          "model_name": "LayoutModel",
          "model_module_version": "1.2.0",
          "state": {
            "_view_name": "LayoutView",
            "grid_template_rows": null,
            "right": null,
            "justify_content": null,
            "_view_module": "@jupyter-widgets/base",
            "overflow": null,
            "_model_module_version": "1.2.0",
            "_view_count": null,
            "flex_flow": null,
            "width": null,
            "min_width": null,
            "border": null,
            "align_items": null,
            "bottom": null,
            "_model_module": "@jupyter-widgets/base",
            "top": null,
            "grid_column": null,
            "overflow_y": null,
            "overflow_x": null,
            "grid_auto_flow": null,
            "grid_area": null,
            "grid_template_columns": null,
            "flex": null,
            "_model_name": "LayoutModel",
            "justify_items": null,
            "grid_row": null,
            "max_height": null,
            "align_content": null,
            "visibility": null,
            "align_self": null,
            "height": null,
            "min_height": null,
            "padding": null,
            "grid_auto_rows": null,
            "grid_gap": null,
            "max_width": null,
            "order": null,
            "_view_module_version": "1.2.0",
            "grid_template_areas": null,
            "object_position": null,
            "object_fit": null,
            "grid_auto_columns": null,
            "margin": null,
            "display": null,
            "left": null
          }
        },
        "5a6bcdfeb6df4515a2407aa52be031e3": {
          "model_module": "@jupyter-widgets/controls",
          "model_name": "HBoxModel",
          "model_module_version": "1.5.0",
          "state": {
            "_view_name": "HBoxView",
            "_dom_classes": [],
            "_model_name": "HBoxModel",
            "_view_module": "@jupyter-widgets/controls",
            "_model_module_version": "1.5.0",
            "_view_count": null,
            "_view_module_version": "1.5.0",
            "box_style": "",
            "layout": "IPY_MODEL_6cd05049a78544e9baad1b144ef72bd2",
            "_model_module": "@jupyter-widgets/controls",
            "children": [
              "IPY_MODEL_2148b881a2824cd1855d164b3069a012",
              "IPY_MODEL_a00c712168474b4ebd018522065685df",
              "IPY_MODEL_2ff2de12c656446180e238d2c09e8952"
            ]
          }
        },
        "6cd05049a78544e9baad1b144ef72bd2": {
          "model_module": "@jupyter-widgets/base",
          "model_name": "LayoutModel",
          "model_module_version": "1.2.0",
          "state": {
            "_view_name": "LayoutView",
            "grid_template_rows": null,
            "right": null,
            "justify_content": null,
            "_view_module": "@jupyter-widgets/base",
            "overflow": null,
            "_model_module_version": "1.2.0",
            "_view_count": null,
            "flex_flow": null,
            "width": null,
            "min_width": null,
            "border": null,
            "align_items": null,
            "bottom": null,
            "_model_module": "@jupyter-widgets/base",
            "top": null,
            "grid_column": null,
            "overflow_y": null,
            "overflow_x": null,
            "grid_auto_flow": null,
            "grid_area": null,
            "grid_template_columns": null,
            "flex": null,
            "_model_name": "LayoutModel",
            "justify_items": null,
            "grid_row": null,
            "max_height": null,
            "align_content": null,
            "visibility": null,
            "align_self": null,
            "height": null,
            "min_height": null,
            "padding": null,
            "grid_auto_rows": null,
            "grid_gap": null,
            "max_width": null,
            "order": null,
            "_view_module_version": "1.2.0",
            "grid_template_areas": null,
            "object_position": null,
            "object_fit": null,
            "grid_auto_columns": null,
            "margin": null,
            "display": null,
            "left": null
          }
        },
        "2148b881a2824cd1855d164b3069a012": {
          "model_module": "@jupyter-widgets/controls",
          "model_name": "HTMLModel",
          "model_module_version": "1.5.0",
          "state": {
            "_view_name": "HTMLView",
            "style": "IPY_MODEL_3016376f9969484c8ee19e8e2a9da4ed",
            "_dom_classes": [],
            "description": "",
            "_model_name": "HTMLModel",
            "placeholder": "​",
            "_view_module": "@jupyter-widgets/controls",
            "_model_module_version": "1.5.0",
            "value": "100%",
            "_view_count": null,
            "_view_module_version": "1.5.0",
            "description_tooltip": null,
            "_model_module": "@jupyter-widgets/controls",
            "layout": "IPY_MODEL_f825ae928a3441a28d27ccf6a9b4d218"
          }
        },
        "a00c712168474b4ebd018522065685df": {
          "model_module": "@jupyter-widgets/controls",
          "model_name": "FloatProgressModel",
          "model_module_version": "1.5.0",
          "state": {
            "_view_name": "ProgressView",
            "style": "IPY_MODEL_cf642301e20147fb8c864cb5e83ca5d9",
            "_dom_classes": [],
            "description": "",
            "_model_name": "FloatProgressModel",
            "bar_style": "success",
            "max": 10,
            "_view_module": "@jupyter-widgets/controls",
            "_model_module_version": "1.5.0",
            "value": 10,
            "_view_count": null,
            "_view_module_version": "1.5.0",
            "orientation": "horizontal",
            "min": 0,
            "description_tooltip": null,
            "_model_module": "@jupyter-widgets/controls",
            "layout": "IPY_MODEL_041575e0d8f0498b85f79f24c8b79d91"
          }
        },
        "2ff2de12c656446180e238d2c09e8952": {
          "model_module": "@jupyter-widgets/controls",
          "model_name": "HTMLModel",
          "model_module_version": "1.5.0",
          "state": {
            "_view_name": "HTMLView",
            "style": "IPY_MODEL_bf18cdfdcac545a086c57663faa5bcce",
            "_dom_classes": [],
            "description": "",
            "_model_name": "HTMLModel",
            "placeholder": "​",
            "_view_module": "@jupyter-widgets/controls",
            "_model_module_version": "1.5.0",
            "value": " 10/10 [27:55&lt;00:00, 167.09s/it]",
            "_view_count": null,
            "_view_module_version": "1.5.0",
            "description_tooltip": null,
            "_model_module": "@jupyter-widgets/controls",
            "layout": "IPY_MODEL_bcdb2afbb8854fbdabb7f95b97ba358f"
          }
        },
        "3016376f9969484c8ee19e8e2a9da4ed": {
          "model_module": "@jupyter-widgets/controls",
          "model_name": "DescriptionStyleModel",
          "model_module_version": "1.5.0",
          "state": {
            "_view_name": "StyleView",
            "_model_name": "DescriptionStyleModel",
            "description_width": "",
            "_view_module": "@jupyter-widgets/base",
            "_model_module_version": "1.5.0",
            "_view_count": null,
            "_view_module_version": "1.2.0",
            "_model_module": "@jupyter-widgets/controls"
          }
        },
        "f825ae928a3441a28d27ccf6a9b4d218": {
          "model_module": "@jupyter-widgets/base",
          "model_name": "LayoutModel",
          "model_module_version": "1.2.0",
          "state": {
            "_view_name": "LayoutView",
            "grid_template_rows": null,
            "right": null,
            "justify_content": null,
            "_view_module": "@jupyter-widgets/base",
            "overflow": null,
            "_model_module_version": "1.2.0",
            "_view_count": null,
            "flex_flow": null,
            "width": null,
            "min_width": null,
            "border": null,
            "align_items": null,
            "bottom": null,
            "_model_module": "@jupyter-widgets/base",
            "top": null,
            "grid_column": null,
            "overflow_y": null,
            "overflow_x": null,
            "grid_auto_flow": null,
            "grid_area": null,
            "grid_template_columns": null,
            "flex": null,
            "_model_name": "LayoutModel",
            "justify_items": null,
            "grid_row": null,
            "max_height": null,
            "align_content": null,
            "visibility": null,
            "align_self": null,
            "height": null,
            "min_height": null,
            "padding": null,
            "grid_auto_rows": null,
            "grid_gap": null,
            "max_width": null,
            "order": null,
            "_view_module_version": "1.2.0",
            "grid_template_areas": null,
            "object_position": null,
            "object_fit": null,
            "grid_auto_columns": null,
            "margin": null,
            "display": null,
            "left": null
          }
        },
        "cf642301e20147fb8c864cb5e83ca5d9": {
          "model_module": "@jupyter-widgets/controls",
          "model_name": "ProgressStyleModel",
          "model_module_version": "1.5.0",
          "state": {
            "_view_name": "StyleView",
            "_model_name": "ProgressStyleModel",
            "description_width": "",
            "_view_module": "@jupyter-widgets/base",
            "_model_module_version": "1.5.0",
            "_view_count": null,
            "_view_module_version": "1.2.0",
            "bar_color": null,
            "_model_module": "@jupyter-widgets/controls"
          }
        },
        "041575e0d8f0498b85f79f24c8b79d91": {
          "model_module": "@jupyter-widgets/base",
          "model_name": "LayoutModel",
          "model_module_version": "1.2.0",
          "state": {
            "_view_name": "LayoutView",
            "grid_template_rows": null,
            "right": null,
            "justify_content": null,
            "_view_module": "@jupyter-widgets/base",
            "overflow": null,
            "_model_module_version": "1.2.0",
            "_view_count": null,
            "flex_flow": null,
            "width": null,
            "min_width": null,
            "border": null,
            "align_items": null,
            "bottom": null,
            "_model_module": "@jupyter-widgets/base",
            "top": null,
            "grid_column": null,
            "overflow_y": null,
            "overflow_x": null,
            "grid_auto_flow": null,
            "grid_area": null,
            "grid_template_columns": null,
            "flex": null,
            "_model_name": "LayoutModel",
            "justify_items": null,
            "grid_row": null,
            "max_height": null,
            "align_content": null,
            "visibility": null,
            "align_self": null,
            "height": null,
            "min_height": null,
            "padding": null,
            "grid_auto_rows": null,
            "grid_gap": null,
            "max_width": null,
            "order": null,
            "_view_module_version": "1.2.0",
            "grid_template_areas": null,
            "object_position": null,
            "object_fit": null,
            "grid_auto_columns": null,
            "margin": null,
            "display": null,
            "left": null
          }
        },
        "bf18cdfdcac545a086c57663faa5bcce": {
          "model_module": "@jupyter-widgets/controls",
          "model_name": "DescriptionStyleModel",
          "model_module_version": "1.5.0",
          "state": {
            "_view_name": "StyleView",
            "_model_name": "DescriptionStyleModel",
            "description_width": "",
            "_view_module": "@jupyter-widgets/base",
            "_model_module_version": "1.5.0",
            "_view_count": null,
            "_view_module_version": "1.2.0",
            "_model_module": "@jupyter-widgets/controls"
          }
        },
        "bcdb2afbb8854fbdabb7f95b97ba358f": {
          "model_module": "@jupyter-widgets/base",
          "model_name": "LayoutModel",
          "model_module_version": "1.2.0",
          "state": {
            "_view_name": "LayoutView",
            "grid_template_rows": null,
            "right": null,
            "justify_content": null,
            "_view_module": "@jupyter-widgets/base",
            "overflow": null,
            "_model_module_version": "1.2.0",
            "_view_count": null,
            "flex_flow": null,
            "width": null,
            "min_width": null,
            "border": null,
            "align_items": null,
            "bottom": null,
            "_model_module": "@jupyter-widgets/base",
            "top": null,
            "grid_column": null,
            "overflow_y": null,
            "overflow_x": null,
            "grid_auto_flow": null,
            "grid_area": null,
            "grid_template_columns": null,
            "flex": null,
            "_model_name": "LayoutModel",
            "justify_items": null,
            "grid_row": null,
            "max_height": null,
            "align_content": null,
            "visibility": null,
            "align_self": null,
            "height": null,
            "min_height": null,
            "padding": null,
            "grid_auto_rows": null,
            "grid_gap": null,
            "max_width": null,
            "order": null,
            "_view_module_version": "1.2.0",
            "grid_template_areas": null,
            "object_position": null,
            "object_fit": null,
            "grid_auto_columns": null,
            "margin": null,
            "display": null,
            "left": null
          }
        }
      }
    }
  },
  "cells": [
    {
      "cell_type": "code",
      "execution_count": 21,
      "metadata": {
        "id": "1E3ZBrYkA2xy"
      },
      "outputs": [],
      "source": [
        "import torch\n",
        "import torch.nn as nn\n",
        "import torchvision\n",
        "import torchaudio\n",
        "import pandas as pd\n",
        "import numpy as np\n",
        "import matplotlib.pyplot as plt\n",
        "import tqdm"
      ]
    },
    {
      "cell_type": "code",
      "source": [
        "from google.colab import drive\n",
        "drive.mount(\"./content\")"
      ],
      "metadata": {
        "colab": {
          "base_uri": "https://localhost:8080/"
        },
        "id": "EnwymfVlyHQ-",
        "outputId": "a668e1ce-78cf-4b08-ef85-2840fe5f3a09"
      },
      "execution_count": 3,
      "outputs": [
        {
          "output_type": "stream",
          "name": "stdout",
          "text": [
            "Mounted at ./content\n"
          ]
        }
      ]
    },
    {
      "cell_type": "code",
      "source": [
        "!mkdir ~/.kaggle\n",
        "!cp ./content/MyDrive/MachineLearning/kaggle/kaggle.json ~/.kaggle"
      ],
      "metadata": {
        "id": "vKiZgrje1cfv"
      },
      "execution_count": 6,
      "outputs": []
    },
    {
      "cell_type": "code",
      "source": [
        "train_ds = torchaudio.datasets.SPEECHCOMMANDS(\"./\",download=True,subset=\"training\")\n",
        "test_ds = torchaudio.datasets.SPEECHCOMMANDS(\"./\",download=True,subset=\"validation\")"
      ],
      "metadata": {
        "colab": {
          "base_uri": "https://localhost:8080/",
          "height": 49,
          "referenced_widgets": [
            "09584a04d28f4ccbb568ee5a6d638b43",
            "dc3ae41f5f784b25a1d252c50c5db81c",
            "cc81a223d5cc4642a7f1258ae3ee4166",
            "d2cc5a402ef74cb59cbcef4d392b6f8b",
            "5907405563924d75b63c18032a62a079",
            "17141990fedc42578aecc2de1aee001d",
            "47707ec918e24d3eb56e362714e1ab82",
            "88077c7251b84fb7875045697308f50b",
            "38daaa68c1804e7e982816a5fad197fa",
            "be2192e73f8d4ee49b68691a1f371a61",
            "e2fe84deff3e486d959a30792de3e25b"
          ]
        },
        "id": "bHz7TQit4xQh",
        "outputId": "332d101b-a537-4ece-b95b-a43693f46666"
      },
      "execution_count": 19,
      "outputs": [
        {
          "output_type": "display_data",
          "data": {
            "application/vnd.jupyter.widget-view+json": {
              "model_id": "09584a04d28f4ccbb568ee5a6d638b43",
              "version_minor": 0,
              "version_major": 2
            },
            "text/plain": [
              "  0%|          | 0.00/2.26G [00:00<?, ?B/s]"
            ]
          },
          "metadata": {}
        }
      ]
    },
    {
      "cell_type": "code",
      "source": [
        "commands_list = set()\n",
        "for _, _ ,curr, _, _ in test_ds:\n",
        "  commands_list.add(curr)"
      ],
      "metadata": {
        "id": "FqTAaaJ40r05"
      },
      "execution_count": 27,
      "outputs": []
    },
    {
      "cell_type": "code",
      "source": [
        "commands_list = sorted(list(commands_list))\n",
        "commands_dict = {k: v for v,k in enumerate(commands_list)}"
      ],
      "metadata": {
        "id": "Zpag_VbO1VmX"
      },
      "execution_count": 29,
      "outputs": []
    },
    {
      "cell_type": "code",
      "source": [
        "torchaudio.transforms.Resample(new_freq=8000)(train_ds[20][0]).shape"
      ],
      "metadata": {
        "colab": {
          "base_uri": "https://localhost:8080/"
        },
        "id": "QGGDoNiv1vN0",
        "outputId": "ca044fc2-4a11-41b3-d5ff-1a6d7d749c30"
      },
      "execution_count": 46,
      "outputs": [
        {
          "output_type": "execute_result",
          "data": {
            "text/plain": [
              "torch.Size([1, 8000])"
            ]
          },
          "metadata": {},
          "execution_count": 46
        }
      ]
    },
    {
      "cell_type": "code",
      "source": [
        "dev = torch.device(\"cuda:0\" if torch.cuda.is_available() else \"cpu\")"
      ],
      "metadata": {
        "id": "K_Nuhr3UPWuC"
      },
      "execution_count": 22,
      "outputs": []
    },
    {
      "cell_type": "code",
      "source": [
        "def evaluate(model, test_dl, crit):\n",
        "  total = 0\n",
        "  correct = 0\n",
        "  tot_loss = 0\n",
        "  model.eval()\n",
        "  for x, y in test_dl:\n",
        "    x = x.to(dev)\n",
        "    y = y.to(dev)\n",
        "    o = model(x)\n",
        "    l = crit(o,y)\n",
        "    tot_loss += l.item()\n",
        "    correct += torch.sum(torch.argmax(o,axis=1) == y).item()\n",
        "    total += len(y)\n",
        "  test_loss = tot_loss / len(test_dl)\n",
        "  test_acc = 100 * correct / total\n",
        "  return test_loss, test_acc\n",
        "\n",
        "def train_one_epoch(model, train_dl, crit, optim):\n",
        "  total = 0\n",
        "  correct = 0\n",
        "  tot_loss = 0\n",
        "  model.train()\n",
        "  for x, y in train_dl:\n",
        "    optim.zero_grad()\n",
        "    x = x.to(dev)\n",
        "    y = y.to(dev)\n",
        "    o = model(x)\n",
        "    l = crit(o,y)\n",
        "    l.backward()\n",
        "    optim.step()\n",
        "    tot_loss += l.item()\n",
        "    correct += torch.sum(torch.argmax(o,axis=1) == y).item()\n",
        "    total += len(y)\n",
        "  train_loss = tot_loss / len(train_dl)\n",
        "  train_acc = 100 * correct / total\n",
        "  return train_loss, train_acc\n",
        "\n",
        "def train(model, train_dl, test_dl, crit, optim, lr_sched=None, epochs=10):\n",
        "  for epoch in tqdm.tqdm_notebook(range(epochs)):\n",
        "    train_loss, train_acc = train_one_epoch(model, train_dl, crit, optim)\n",
        "    test_loss, test_acc = evaluate(model, test_dl, crit)\n",
        "    if lr_sched is not None:\n",
        "      lr_sched.step()\n",
        "    print(f\"epoch: {epoch}, train loss: {train_loss}, train accuracy: {train_acc:.2f}%, test loss: {test_loss}, test accuracy: {test_acc:.2f}%\")"
      ],
      "metadata": {
        "id": "kMM_xHLV46dP"
      },
      "execution_count": 23,
      "outputs": []
    },
    {
      "cell_type": "code",
      "source": [
        "def make_simple_conv1d_block(in_planes, out_planes, kernel_size=3,stride=1,padding=0):\n",
        "  return nn.Sequential(\n",
        "      nn.Conv1d(in_planes, out_planes, kernel_size, stride=stride, padding=padding,bias=False),\n",
        "      nn.BatchNorm1d(out_planes),\n",
        "      nn.ReLU(inplace=True)\n",
        "  )\n",
        "\n",
        "def make_simple_conv2d_block(in_planes, out_planes, kernel_size=3, stride=1, padding=0):\n",
        "  return nn.Sequential(\n",
        "      nn.Conv2d(in_planes, out_planes, kernel_size, stride=stride, padding=padding, bias=False),\n",
        "      nn.BatchNorm2d(out_planes),\n",
        "      nn.ReLU(inplace=True)\n",
        "  )"
      ],
      "metadata": {
        "id": "kMfSx6mnUDth"
      },
      "execution_count": 24,
      "outputs": []
    },
    {
      "cell_type": "markdown",
      "source": [
        "# Conv1d"
      ],
      "metadata": {
        "id": "eGkkZNQS4qe4"
      }
    },
    {
      "cell_type": "code",
      "source": [
        "class MyDataset(torch.utils.data.Dataset):\n",
        "  def __init__(self, raw_data):\n",
        "    super().__init__()\n",
        "    self.raw_data = raw_data\n",
        "    self.transform = torchaudio.transforms.Resample(new_freq=8000)\n",
        "  \n",
        "  def __len__(self):\n",
        "    return len(self.raw_data)\n",
        "\n",
        "  def __getitem__(self, idx):\n",
        "    x, _, label_, _, _ = self.raw_data[idx]\n",
        "    x = self.transform(x)\n",
        "    x = x[:,:8000]\n",
        "    C, L = x.shape\n",
        "    x = torch.functional.F.pad(x,(0,(8000 - L)),mode=\"constant\",value=0.0)\n",
        "    y = commands_dict[label_]\n",
        "    return x, y"
      ],
      "metadata": {
        "id": "K-o4svLx0WSH"
      },
      "execution_count": 49,
      "outputs": []
    },
    {
      "cell_type": "code",
      "source": [
        "train_ds_ = MyDataset(train_ds)\n",
        "test_ds_ = MyDataset(test_ds)"
      ],
      "metadata": {
        "id": "k64kTz7T2for"
      },
      "execution_count": 50,
      "outputs": []
    },
    {
      "cell_type": "code",
      "source": [
        "train_dl = torch.utils.data.DataLoader(train_ds_, batch_size=128,shuffle=True)\n",
        "test_dl = torch.utils.data.DataLoader(test_ds_, batch_size=128,shuffle=True)"
      ],
      "metadata": {
        "id": "YusIQylHKgVU"
      },
      "execution_count": 65,
      "outputs": []
    },
    {
      "cell_type": "code",
      "source": [
        "model = nn.Sequential(\n",
        "    make_simple_conv1d_block(1,16,kernel_size=40),\n",
        "    nn.MaxPool1d(4),\n",
        "    make_simple_conv1d_block(16,32,kernel_size=3),\n",
        "    nn.MaxPool1d(4),\n",
        "    make_simple_conv1d_block(32,32,kernel_size=3),\n",
        "    nn.MaxPool1d(4),\n",
        "    make_simple_conv1d_block(32,64,kernel_size=3),\n",
        "    nn.MaxPool1d(4),\n",
        "    make_simple_conv1d_block(64,64,kernel_size=3),\n",
        "    nn.MaxPool1d(4),\n",
        "    nn.Flatten(),\n",
        "    nn.Linear(7*64,35)\n",
        ").to(dev)"
      ],
      "metadata": {
        "id": "uDFp1eAN5EpO"
      },
      "execution_count": 73,
      "outputs": []
    },
    {
      "cell_type": "code",
      "source": [
        "crit = nn.CrossEntropyLoss()\n",
        "optim = torch.optim.SGD(model.parameters(), lr=0.1)\n",
        "lr_sched = torch.optim.lr_scheduler.StepLR(optim, step_size=5,gamma=0.2)\n",
        "train(model, train_dl, test_dl, crit, optim, lr_sched=lr_sched, epochs=10)"
      ],
      "metadata": {
        "colab": {
          "base_uri": "https://localhost:8080/",
          "height": 257,
          "referenced_widgets": [
            "7050184a25fa4e07b5bf1ccc3d673939",
            "983851b3e4a24f4d915f72bb69e79b25",
            "8c7441a20c084c37be11e60cec564e91",
            "9f34f0a0bcc143fa819b39cbdd69f4b8",
            "b2efffc218a445998dbbd795eab2f449",
            "6eda360b5ffa433f8a6f46c46daa01a9",
            "0f954503ceff48d088ff63121acc92ec",
            "735ae59187bd4de0a5654363ee9b133f",
            "e13a76982c0d4a0284e20ea47436c9d6",
            "cc478a37c8ba4b749346d2af7922e690",
            "bdecd8746ac940868c65d96daf68589b"
          ]
        },
        "id": "iQStlXnM3EPm",
        "outputId": "61260e55-3953-46ac-be2b-174758c16345"
      },
      "execution_count": 74,
      "outputs": [
        {
          "output_type": "stream",
          "name": "stderr",
          "text": [
            "/usr/local/lib/python3.7/dist-packages/ipykernel_launcher.py:39: TqdmDeprecationWarning: This function will be removed in tqdm==5.0.0\n",
            "Please use `tqdm.notebook.tqdm` instead of `tqdm.tqdm_notebook`\n"
          ]
        },
        {
          "output_type": "display_data",
          "data": {
            "application/vnd.jupyter.widget-view+json": {
              "model_id": "7050184a25fa4e07b5bf1ccc3d673939",
              "version_minor": 0,
              "version_major": 2
            },
            "text/plain": [
              "  0%|          | 0/10 [00:00<?, ?it/s]"
            ]
          },
          "metadata": {}
        },
        {
          "output_type": "stream",
          "name": "stdout",
          "text": [
            "epoch: 0, train loss: 1.9375568135651349, train accuracy: 46.07%, test loss: 1.1984088971064641, test accuracy: 65.74%\n",
            "epoch: 1, train loss: 0.9835253300350356, train accuracy: 72.77%, test loss: 1.0319349078031688, test accuracy: 71.32%\n",
            "epoch: 2, train loss: 0.745238889441411, train accuracy: 79.13%, test loss: 0.703399386161413, test accuracy: 79.99%\n",
            "epoch: 3, train loss: 0.6334856946364068, train accuracy: 82.17%, test loss: 0.6311719283843652, test accuracy: 82.15%\n",
            "epoch: 4, train loss: 0.5626381826706421, train accuracy: 84.13%, test loss: 0.5633378892372816, test accuracy: 84.19%\n",
            "epoch: 5, train loss: 0.43417159163394486, train accuracy: 88.01%, test loss: 0.44970435209763354, test accuracy: 87.61%\n",
            "epoch: 6, train loss: 0.41153484625604175, train accuracy: 88.56%, test loss: 0.44563012551038694, test accuracy: 87.66%\n",
            "epoch: 7, train loss: 0.402007919046494, train accuracy: 88.91%, test loss: 0.42999051969784957, test accuracy: 88.20%\n",
            "epoch: 8, train loss: 0.3916631625069033, train accuracy: 89.10%, test loss: 0.42398258661612487, test accuracy: 88.42%\n",
            "epoch: 9, train loss: 0.38284253361627885, train accuracy: 89.35%, test loss: 0.4250000827969649, test accuracy: 88.57%\n"
          ]
        }
      ]
    },
    {
      "cell_type": "code",
      "source": [
        "torch.save(model.state_dict(),\"./content/MyDrive/MachineLearning/models/speech_commands_conv1d.ckpt\")"
      ],
      "metadata": {
        "id": "Gm6KdXYu9yDW"
      },
      "execution_count": 75,
      "outputs": []
    },
    {
      "cell_type": "markdown",
      "source": [
        "# Spectrogram"
      ],
      "metadata": {
        "id": "c3XstoTN5oeE"
      }
    },
    {
      "cell_type": "code",
      "source": [
        "class MySpectrogramDataset(torch.utils.data.Dataset):\n",
        "  def __init__(self, raw_data):\n",
        "    super().__init__()\n",
        "    self.raw_data = raw_data\n",
        "    self.transform = torchaudio.transforms.Resample(new_freq=8000)\n",
        "    self.spectrogram = torchaudio.transforms.Spectrogram(n_fft=160)\n",
        "  \n",
        "  def __len__(self):\n",
        "    return len(self.raw_data)\n",
        "\n",
        "  def __getitem__(self, idx):\n",
        "    x, _, label_, _, _ = self.raw_data[idx]\n",
        "    x = self.transform(x)\n",
        "    x = x[:,:8000]\n",
        "    C, L = x.shape\n",
        "    x = torch.functional.F.pad(x,(0,(8000 - L)),mode=\"constant\",value=0.0)\n",
        "    y = commands_dict[label_]\n",
        "    return torch.log(self.spectrogram(x) + 1e-5), y"
      ],
      "metadata": {
        "id": "UJ4xeb0T5qsd"
      },
      "execution_count": 85,
      "outputs": []
    },
    {
      "cell_type": "code",
      "source": [
        "train_ds_ = MySpectrogramDataset(train_ds)\n",
        "test_ds_ = MySpectrogramDataset(test_ds)"
      ],
      "metadata": {
        "id": "YZ20lDPv3UZV"
      },
      "execution_count": 86,
      "outputs": []
    },
    {
      "cell_type": "code",
      "source": [
        "test_ds_[0][0].shape"
      ],
      "metadata": {
        "colab": {
          "base_uri": "https://localhost:8080/"
        },
        "id": "Gyei9IVoA3xZ",
        "outputId": "0aeed2e5-c1d4-467c-db18-e2f55ef3c98d"
      },
      "execution_count": 87,
      "outputs": [
        {
          "output_type": "execute_result",
          "data": {
            "text/plain": [
              "torch.Size([1, 81, 101])"
            ]
          },
          "metadata": {},
          "execution_count": 87
        }
      ]
    },
    {
      "cell_type": "code",
      "source": [
        "train_dl = torch.utils.data.DataLoader(train_ds_, batch_size=128,shuffle=True)\n",
        "test_dl = torch.utils.data.DataLoader(test_ds_, batch_size=128,shuffle=True)"
      ],
      "metadata": {
        "id": "m92exzgJ5LLJ"
      },
      "execution_count": 88,
      "outputs": []
    },
    {
      "cell_type": "code",
      "source": [
        "model = nn.Sequential(\n",
        "    make_simple_conv2d_block(1,16,kernel_size=3),\n",
        "    nn.MaxPool2d(2),\n",
        "    make_simple_conv2d_block(16,32,kernel_size=3),\n",
        "    nn.MaxPool2d(2),\n",
        "    make_simple_conv2d_block(32,32,kernel_size=3),\n",
        "    nn.MaxPool2d(2),\n",
        "    make_simple_conv2d_block(32,64,kernel_size=3),\n",
        "    make_simple_conv2d_block(64,64,kernel_size=3),\n",
        "    nn.MaxPool2d(2),\n",
        "    nn.Flatten(),\n",
        "    nn.Linear(384,35)\n",
        ").to(dev)"
      ],
      "metadata": {
        "id": "2S3AhZT0uPtm"
      },
      "execution_count": 101,
      "outputs": []
    },
    {
      "cell_type": "code",
      "source": [
        "crit = nn.CrossEntropyLoss()\n",
        "optim = torch.optim.SGD(model.parameters(), lr=0.1)\n",
        "lr_sched = torch.optim.lr_scheduler.StepLR(optim, step_size=5,gamma=0.2)\n",
        "train(model, train_dl, test_dl, crit, optim, lr_sched=lr_sched, epochs=10)"
      ],
      "metadata": {
        "colab": {
          "base_uri": "https://localhost:8080/",
          "height": 257,
          "referenced_widgets": [
            "5a6bcdfeb6df4515a2407aa52be031e3",
            "6cd05049a78544e9baad1b144ef72bd2",
            "2148b881a2824cd1855d164b3069a012",
            "a00c712168474b4ebd018522065685df",
            "2ff2de12c656446180e238d2c09e8952",
            "3016376f9969484c8ee19e8e2a9da4ed",
            "f825ae928a3441a28d27ccf6a9b4d218",
            "cf642301e20147fb8c864cb5e83ca5d9",
            "041575e0d8f0498b85f79f24c8b79d91",
            "bf18cdfdcac545a086c57663faa5bcce",
            "bcdb2afbb8854fbdabb7f95b97ba358f"
          ]
        },
        "id": "K0tl3Qr6BGLE",
        "outputId": "d45b2eef-1e80-4b58-bcb4-288e8ed4c15c"
      },
      "execution_count": 102,
      "outputs": [
        {
          "output_type": "stream",
          "name": "stderr",
          "text": [
            "/usr/local/lib/python3.7/dist-packages/ipykernel_launcher.py:39: TqdmDeprecationWarning: This function will be removed in tqdm==5.0.0\n",
            "Please use `tqdm.notebook.tqdm` instead of `tqdm.tqdm_notebook`\n"
          ]
        },
        {
          "output_type": "display_data",
          "data": {
            "application/vnd.jupyter.widget-view+json": {
              "model_id": "5a6bcdfeb6df4515a2407aa52be031e3",
              "version_minor": 0,
              "version_major": 2
            },
            "text/plain": [
              "  0%|          | 0/10 [00:00<?, ?it/s]"
            ]
          },
          "metadata": {}
        },
        {
          "output_type": "stream",
          "name": "stdout",
          "text": [
            "epoch: 0, train loss: 1.1247543501098771, train accuracy: 68.35%, test loss: 0.8696442299928421, test accuracy: 74.29%\n",
            "epoch: 1, train loss: 0.48581422472072044, train accuracy: 85.97%, test loss: 0.5854697915223929, test accuracy: 82.97%\n",
            "epoch: 2, train loss: 0.3806301877014957, train accuracy: 88.94%, test loss: 0.4559169243543576, test accuracy: 86.55%\n",
            "epoch: 3, train loss: 0.32432052659413035, train accuracy: 90.56%, test loss: 0.49076379396212405, test accuracy: 85.67%\n",
            "epoch: 4, train loss: 0.2865928241345318, train accuracy: 91.63%, test loss: 0.38627349184109616, test accuracy: 89.02%\n",
            "epoch: 5, train loss: 0.21075729453770464, train accuracy: 94.11%, test loss: 0.26599844659750277, test accuracy: 92.18%\n",
            "epoch: 6, train loss: 0.19493207992876277, train accuracy: 94.58%, test loss: 0.2649967258748336, test accuracy: 92.40%\n",
            "epoch: 7, train loss: 0.18569903448224068, train accuracy: 94.90%, test loss: 0.26530232710333973, test accuracy: 92.35%\n",
            "epoch: 8, train loss: 0.1792643593222487, train accuracy: 95.12%, test loss: 0.26241761178542405, test accuracy: 92.53%\n",
            "epoch: 9, train loss: 0.1719834133645528, train accuracy: 95.35%, test loss: 0.2683098806211582, test accuracy: 92.27%\n"
          ]
        }
      ]
    },
    {
      "cell_type": "code",
      "source": [
        "torch.save(model.state_dict(),\"./content/MyDrive/MachineLearning/models/speech_commands_conv2d.ckpt\")"
      ],
      "metadata": {
        "id": "6MHBsOMeBaTe"
      },
      "execution_count": 103,
      "outputs": []
    }
  ]
}